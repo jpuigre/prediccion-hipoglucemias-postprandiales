{
  "nbformat": 4,
  "nbformat_minor": 0,
  "metadata": {
    "colab": {
      "provenance": []
    },
    "kernelspec": {
      "name": "python3",
      "display_name": "Python 3"
    },
    "language_info": {
      "name": "python"
    }
  },
  "cells": [
    {
      "cell_type": "code",
      "source": [
        "import pandas as pd\n",
        "from sklearn.model_selection import train_test_split\n",
        "from sklearn.preprocessing import StandardScaler\n",
        "from sklearn.svm import SVC\n",
        "from sklearn.metrics import roc_curve, auc,get_scorer_names\n",
        "from sklearn.metrics import make_scorer, matthews_corrcoef,accuracy_score, classification_report,confusion_matrix,ConfusionMatrixDisplay, roc_curve, matthews_corrcoef, balanced_accuracy_score\n",
        "from sklearn.pipeline import make_pipeline\n",
        "from sklearn.model_selection import StratifiedKFold\n",
        "from sklearn.model_selection import cross_val_score\n",
        "from sklearn.model_selection import cross_validate\n",
        "from imblearn.pipeline import Pipeline as IMBPipeline\n",
        "import matplotlib.pyplot as plt\n",
        "from sklearn.model_selection import GridSearchCV, StratifiedKFold\n",
        "from imblearn.over_sampling import SMOTE\n",
        "from sklearn.svm import SVC\n",
        "import numpy as np\n",
        "import random\n",
        "import os"
      ],
      "metadata": {
        "id": "XJjecOH0s8-D"
      },
      "execution_count": 1,
      "outputs": []
    },
    {
      "cell_type": "code",
      "source": [
        "# Función para definir en un solo lugar todas las semillas\n",
        "def seed_everything(seed_value):\n",
        "    random.seed(seed_value)\n",
        "    np.random.seed(seed_value)\n",
        "    os.environ['PYTHONHASHSEED'] = str(seed_value)\n",
        "\n",
        "seed_value = 42\n",
        "seed_everything(seed_value)"
      ],
      "metadata": {
        "id": "SB3_bj9OhV7W"
      },
      "execution_count": 2,
      "outputs": []
    },
    {
      "cell_type": "code",
      "execution_count": 3,
      "metadata": {
        "id": "n5_zk9KistLh"
      },
      "outputs": [],
      "source": [
        "#Carga el archivo en un dataframe\n",
        "file_path = 'postprandial_hypoglycemias.csv'\n",
        "df = pd.read_csv(file_path)"
      ]
    },
    {
      "cell_type": "code",
      "source": [
        "#Seleccionamos las features y eliminamos los resgistros con nulos\n",
        "physiological_features = ['glucose','cho','next_iob','cob','aob_3h','aob_6h']\n",
        "physiological_features_no_glucose = ['cho','iob','next_iob','cob','aob_3h','aob_6h']\n",
        "no_glucose_related_features = ['glucose','cho', 'basal', 'bolus_normal', 'total_bolus_squared','cob','next_iob','aob_3h','aob_6h']\n",
        "no_glucose_related_features_exclude_aob = ['glucose','cho', 'basal', 'bolus_normal', 'total_bolus_squared','cob','next_iob']\n",
        "more_features = ['glucose','glucose_range','glucose_rate_change','mean_glucose_1h','glucose_1h','glucose_30m','cho', 'basal', 'bolus_normal', 'total_bolus_squared','cob','next_iob','aob_3h','aob_6h']\n",
        "more_features_exclude_aob = ['glucose','glucose_range','glucose_rate_change','mean_glucose_1h','glucose_1h','glucose_30m','cho', 'basal', 'bolus_normal', 'total_bolus_squared','cob','next_iob']\n",
        "more_features_no_cob_no_iob = ['glucose','glucose_range','glucose_rate_change','mean_glucose_1h','glucose_1h','glucose_30m','cho', 'basal', 'bolus_normal', 'total_bolus_squared']\n",
        "all_features = ['glucose','glucose_range','glucose_rate_change','mean_glucose_1h','glucose_1h','glucose_30m','cho', 'basal', 'bolus_normal', 'total_bolus_squared',\n",
        "                'cob','next_iob','iob','aob_3h','aob_6h','hour']\n",
        "selected_features = all_features\n",
        "target = 'hypoglycemia_severe'\n",
        "df = df[selected_features + [target]]\n",
        "df = df.dropna()"
      ],
      "metadata": {
        "id": "muN0d8Nkl2ZA"
      },
      "execution_count": 4,
      "outputs": []
    },
    {
      "cell_type": "code",
      "source": [
        "# Separamos las características (X) i la etiqueta (y)\n",
        "X = df.drop(target, axis=1)\n",
        "y = df[target]"
      ],
      "metadata": {
        "id": "fn1r_5YotaKq"
      },
      "execution_count": 5,
      "outputs": []
    },
    {
      "cell_type": "code",
      "source": [
        "print('Registros totales para entrenamiento: ' + str(len(df)))\n",
        "print('Registros totales para entrenamiento con hipoglucemia severa: ' + str(len(df[df[target] == 1])))\n"
      ],
      "metadata": {
        "colab": {
          "base_uri": "https://localhost:8080/"
        },
        "id": "IfSZ_eU9Tiby",
        "outputId": "f8ea7bfa-2327-4195-8583-59d88c5704f5"
      },
      "execution_count": 6,
      "outputs": [
        {
          "output_type": "stream",
          "name": "stdout",
          "text": [
            "Registros totales para entrenamiento: 654\n",
            "Registros totales para entrenamiento con hipoglucemia severa: 27\n"
          ]
        }
      ]
    },
    {
      "cell_type": "markdown",
      "source": [
        "**Optimización de parámetros mediante GridSearchCV**"
      ],
      "metadata": {
        "id": "C6Rkkqsd_ByN"
      }
    },
    {
      "cell_type": "code",
      "source": [
        "# Definir la función de especificidad\n",
        "def specificity_score(y_true, y_pred):\n",
        "    tn, fp, fn, tp = confusion_matrix(y_true, y_pred).ravel()\n",
        "    specificity = tn / (tn + fp)\n",
        "    return specificity\n",
        "\n",
        "# Crear un pipeline con SMOTE y SVC\n",
        "model_pipeline = IMBPipeline([\n",
        "    ('smote', SMOTE(random_state=seed_value)),\n",
        "    ('model', SVC(kernel='rbf', random_state=seed_value))\n",
        "])\n",
        "\n",
        "# Definir el espacio de búsqueda de hiperparámetros\n",
        "param_grid = {\n",
        "    'smote__k_neighbors': [3, 5, 7],\n",
        "    'model__C': [0.1, 1, 10, 100],\n",
        "    'model__gamma': [0.001, 0.01, 0.1, 1]\n",
        "}\n",
        "\n",
        "# Definir los scorers\n",
        "scoring = {\n",
        "    'accuracy': 'accuracy',\n",
        "    'precision': 'precision',\n",
        "    'recall': 'recall',\n",
        "    'f1': 'f1',\n",
        "    'roc_auc': 'roc_auc',\n",
        "    'mcc': make_scorer(matthews_corrcoef),\n",
        "    'specificity': make_scorer(specificity_score)\n",
        "}\n",
        "\n",
        "# Configurar GridSearchCV\n",
        "grid_search = GridSearchCV(model_pipeline, param_grid, cv=StratifiedKFold(n_splits=5), scoring=scoring, refit='f1', verbose=3)\n",
        "\n",
        "# Realizar la búsqueda de hiperparámetros\n",
        "grid_search.fit(X, y)\n",
        "\n",
        "# Mostrar los mejores parámetros y el mejor score\n",
        "print(\"Mejores parámetros: \", grid_search.best_params_)\n",
        "print(\"Mejor score (F1): \", grid_search.best_score_)\n"
      ],
      "metadata": {
        "colab": {
          "base_uri": "https://localhost:8080/"
        },
        "id": "DVhSgE8ilsgF",
        "outputId": "b8757181-b98e-49f2-c284-cb70c5af40ad"
      },
      "execution_count": 7,
      "outputs": [
        {
          "output_type": "stream",
          "name": "stdout",
          "text": [
            "Fitting 5 folds for each of 48 candidates, totalling 240 fits\n",
            "[CV 1/5] END model__C=0.1, model__gamma=0.001, smote__k_neighbors=3; accuracy: (test=0.962) f1: (test=0.000) mcc: (test=0.000) precision: (test=0.000) recall: (test=0.000) roc_auc: (test=0.632) specificity: (test=1.000) total time=   0.1s\n"
          ]
        },
        {
          "output_type": "stream",
          "name": "stderr",
          "text": [
            "/usr/local/lib/python3.10/dist-packages/sklearn/metrics/_classification.py:1344: UndefinedMetricWarning: Precision is ill-defined and being set to 0.0 due to no predicted samples. Use `zero_division` parameter to control this behavior.\n",
            "  _warn_prf(average, modifier, msg_start, len(result))\n"
          ]
        },
        {
          "output_type": "stream",
          "name": "stdout",
          "text": [
            "[CV 2/5] END model__C=0.1, model__gamma=0.001, smote__k_neighbors=3; accuracy: (test=0.870) f1: (test=0.105) mcc: (test=0.060) precision: (test=0.071) recall: (test=0.200) roc_auc: (test=0.635) specificity: (test=0.897) total time=   0.1s\n",
            "[CV 3/5] END model__C=0.1, model__gamma=0.001, smote__k_neighbors=3; accuracy: (test=0.947) f1: (test=0.222) mcc: (test=0.211) precision: (test=0.333) recall: (test=0.167) roc_auc: (test=0.603) specificity: (test=0.984) total time=   0.1s\n",
            "[CV 4/5] END model__C=0.1, model__gamma=0.001, smote__k_neighbors=3; accuracy: (test=0.947) f1: (test=0.000) mcc: (test=-0.019) precision: (test=0.000) recall: (test=0.000) roc_auc: (test=0.619) specificity: (test=0.992) total time=   0.1s\n"
          ]
        },
        {
          "output_type": "stream",
          "name": "stderr",
          "text": [
            "/usr/local/lib/python3.10/dist-packages/sklearn/metrics/_classification.py:1344: UndefinedMetricWarning: Precision is ill-defined and being set to 0.0 due to no predicted samples. Use `zero_division` parameter to control this behavior.\n",
            "  _warn_prf(average, modifier, msg_start, len(result))\n",
            "/usr/local/lib/python3.10/dist-packages/sklearn/metrics/_classification.py:1344: UndefinedMetricWarning: Precision is ill-defined and being set to 0.0 due to no predicted samples. Use `zero_division` parameter to control this behavior.\n",
            "  _warn_prf(average, modifier, msg_start, len(result))\n"
          ]
        },
        {
          "output_type": "stream",
          "name": "stdout",
          "text": [
            "[CV 5/5] END model__C=0.1, model__gamma=0.001, smote__k_neighbors=3; accuracy: (test=0.962) f1: (test=0.000) mcc: (test=0.000) precision: (test=0.000) recall: (test=0.000) roc_auc: (test=0.755) specificity: (test=1.000) total time=   0.1s\n",
            "[CV 1/5] END model__C=0.1, model__gamma=0.001, smote__k_neighbors=5; accuracy: (test=0.962) f1: (test=0.000) mcc: (test=0.000) precision: (test=0.000) recall: (test=0.000) roc_auc: (test=0.640) specificity: (test=1.000) total time=   0.1s\n",
            "[CV 2/5] END model__C=0.1, model__gamma=0.001, smote__k_neighbors=5; accuracy: (test=0.840) f1: (test=0.087) mcc: (test=0.036) precision: (test=0.056) recall: (test=0.200) roc_auc: (test=0.610) specificity: (test=0.865) total time=   0.1s\n",
            "[CV 3/5] END model__C=0.1, model__gamma=0.001, smote__k_neighbors=5; accuracy: (test=0.947) f1: (test=0.222) mcc: (test=0.211) precision: (test=0.333) recall: (test=0.167) roc_auc: (test=0.651) specificity: (test=0.984) total time=   0.1s\n",
            "[CV 4/5] END model__C=0.1, model__gamma=0.001, smote__k_neighbors=5; accuracy: (test=0.947) f1: (test=0.000) mcc: (test=-0.019) precision: (test=0.000) recall: (test=0.000) roc_auc: (test=0.580) specificity: (test=0.992) total time=   0.1s\n",
            "[CV 5/5] END model__C=0.1, model__gamma=0.001, smote__k_neighbors=5; accuracy: (test=0.962) f1: (test=0.000) mcc: (test=0.000) precision: (test=0.000) recall: (test=0.000) roc_auc: (test=0.742) specificity: (test=1.000) total time=   0.1s\n"
          ]
        },
        {
          "output_type": "stream",
          "name": "stderr",
          "text": [
            "/usr/local/lib/python3.10/dist-packages/sklearn/metrics/_classification.py:1344: UndefinedMetricWarning: Precision is ill-defined and being set to 0.0 due to no predicted samples. Use `zero_division` parameter to control this behavior.\n",
            "  _warn_prf(average, modifier, msg_start, len(result))\n"
          ]
        },
        {
          "output_type": "stream",
          "name": "stdout",
          "text": [
            "[CV 1/5] END model__C=0.1, model__gamma=0.001, smote__k_neighbors=7; accuracy: (test=0.954) f1: (test=0.000) mcc: (test=-0.017) precision: (test=0.000) recall: (test=0.000) roc_auc: (test=0.635) specificity: (test=0.992) total time=   0.1s\n",
            "[CV 2/5] END model__C=0.1, model__gamma=0.001, smote__k_neighbors=7; accuracy: (test=0.847) f1: (test=0.091) mcc: (test=0.042) precision: (test=0.059) recall: (test=0.200) roc_auc: (test=0.665) specificity: (test=0.873) total time=   0.1s\n",
            "[CV 3/5] END model__C=0.1, model__gamma=0.001, smote__k_neighbors=7; accuracy: (test=0.947) f1: (test=0.000) mcc: (test=-0.019) precision: (test=0.000) recall: (test=0.000) roc_auc: (test=0.667) specificity: (test=0.992) total time=   0.1s\n",
            "[CV 4/5] END model__C=0.1, model__gamma=0.001, smote__k_neighbors=7; accuracy: (test=0.947) f1: (test=0.000) mcc: (test=-0.019) precision: (test=0.000) recall: (test=0.000) roc_auc: (test=0.539) specificity: (test=0.992) total time=   0.1s\n",
            "[CV 5/5] END model__C=0.1, model__gamma=0.001, smote__k_neighbors=7; accuracy: (test=0.954) f1: (test=0.000) mcc: (test=-0.018) precision: (test=0.000) recall: (test=0.000) roc_auc: (test=0.771) specificity: (test=0.992) total time=   0.1s\n"
          ]
        },
        {
          "output_type": "stream",
          "name": "stderr",
          "text": [
            "/usr/local/lib/python3.10/dist-packages/sklearn/metrics/_classification.py:1344: UndefinedMetricWarning: Precision is ill-defined and being set to 0.0 due to no predicted samples. Use `zero_division` parameter to control this behavior.\n",
            "  _warn_prf(average, modifier, msg_start, len(result))\n",
            "/usr/local/lib/python3.10/dist-packages/sklearn/metrics/_classification.py:1344: UndefinedMetricWarning: Precision is ill-defined and being set to 0.0 due to no predicted samples. Use `zero_division` parameter to control this behavior.\n",
            "  _warn_prf(average, modifier, msg_start, len(result))\n"
          ]
        },
        {
          "output_type": "stream",
          "name": "stdout",
          "text": [
            "[CV 1/5] END model__C=0.1, model__gamma=0.01, smote__k_neighbors=3; accuracy: (test=0.962) f1: (test=0.000) mcc: (test=0.000) precision: (test=0.000) recall: (test=0.000) roc_auc: (test=0.398) specificity: (test=1.000) total time=   0.1s\n",
            "[CV 2/5] END model__C=0.1, model__gamma=0.01, smote__k_neighbors=3; accuracy: (test=0.962) f1: (test=0.000) mcc: (test=0.000) precision: (test=0.000) recall: (test=0.000) roc_auc: (test=0.606) specificity: (test=1.000) total time=   0.1s\n"
          ]
        },
        {
          "output_type": "stream",
          "name": "stderr",
          "text": [
            "/usr/local/lib/python3.10/dist-packages/sklearn/metrics/_classification.py:1344: UndefinedMetricWarning: Precision is ill-defined and being set to 0.0 due to no predicted samples. Use `zero_division` parameter to control this behavior.\n",
            "  _warn_prf(average, modifier, msg_start, len(result))\n",
            "/usr/local/lib/python3.10/dist-packages/sklearn/metrics/_classification.py:1344: UndefinedMetricWarning: Precision is ill-defined and being set to 0.0 due to no predicted samples. Use `zero_division` parameter to control this behavior.\n",
            "  _warn_prf(average, modifier, msg_start, len(result))\n"
          ]
        },
        {
          "output_type": "stream",
          "name": "stdout",
          "text": [
            "[CV 3/5] END model__C=0.1, model__gamma=0.01, smote__k_neighbors=3; accuracy: (test=0.954) f1: (test=0.000) mcc: (test=0.000) precision: (test=0.000) recall: (test=0.000) roc_auc: (test=0.757) specificity: (test=1.000) total time=   0.1s\n",
            "[CV 4/5] END model__C=0.1, model__gamma=0.01, smote__k_neighbors=3; accuracy: (test=0.954) f1: (test=0.000) mcc: (test=0.000) precision: (test=0.000) recall: (test=0.000) roc_auc: (test=0.663) specificity: (test=1.000) total time=   0.1s\n",
            "[CV 5/5] END model__C=0.1, model__gamma=0.01, smote__k_neighbors=3; accuracy: (test=0.962) f1: (test=0.000) mcc: (test=0.000) precision: (test=0.000) recall: (test=0.000) roc_auc: (test=0.603) specificity: (test=1.000) total time=   0.1s\n"
          ]
        },
        {
          "output_type": "stream",
          "name": "stderr",
          "text": [
            "/usr/local/lib/python3.10/dist-packages/sklearn/metrics/_classification.py:1344: UndefinedMetricWarning: Precision is ill-defined and being set to 0.0 due to no predicted samples. Use `zero_division` parameter to control this behavior.\n",
            "  _warn_prf(average, modifier, msg_start, len(result))\n",
            "/usr/local/lib/python3.10/dist-packages/sklearn/metrics/_classification.py:1344: UndefinedMetricWarning: Precision is ill-defined and being set to 0.0 due to no predicted samples. Use `zero_division` parameter to control this behavior.\n",
            "  _warn_prf(average, modifier, msg_start, len(result))\n"
          ]
        },
        {
          "output_type": "stream",
          "name": "stdout",
          "text": [
            "[CV 1/5] END model__C=0.1, model__gamma=0.01, smote__k_neighbors=5; accuracy: (test=0.962) f1: (test=0.000) mcc: (test=0.000) precision: (test=0.000) recall: (test=0.000) roc_auc: (test=0.387) specificity: (test=1.000) total time=   0.1s\n",
            "[CV 2/5] END model__C=0.1, model__gamma=0.01, smote__k_neighbors=5; accuracy: (test=0.962) f1: (test=0.000) mcc: (test=0.000) precision: (test=0.000) recall: (test=0.000) roc_auc: (test=0.589) specificity: (test=1.000) total time=   0.1s\n"
          ]
        },
        {
          "output_type": "stream",
          "name": "stderr",
          "text": [
            "/usr/local/lib/python3.10/dist-packages/sklearn/metrics/_classification.py:1344: UndefinedMetricWarning: Precision is ill-defined and being set to 0.0 due to no predicted samples. Use `zero_division` parameter to control this behavior.\n",
            "  _warn_prf(average, modifier, msg_start, len(result))\n",
            "/usr/local/lib/python3.10/dist-packages/sklearn/metrics/_classification.py:1344: UndefinedMetricWarning: Precision is ill-defined and being set to 0.0 due to no predicted samples. Use `zero_division` parameter to control this behavior.\n",
            "  _warn_prf(average, modifier, msg_start, len(result))\n"
          ]
        },
        {
          "output_type": "stream",
          "name": "stdout",
          "text": [
            "[CV 3/5] END model__C=0.1, model__gamma=0.01, smote__k_neighbors=5; accuracy: (test=0.954) f1: (test=0.000) mcc: (test=0.000) precision: (test=0.000) recall: (test=0.000) roc_auc: (test=0.752) specificity: (test=1.000) total time=   0.1s\n",
            "[CV 4/5] END model__C=0.1, model__gamma=0.01, smote__k_neighbors=5; accuracy: (test=0.954) f1: (test=0.000) mcc: (test=0.000) precision: (test=0.000) recall: (test=0.000) roc_auc: (test=0.657) specificity: (test=1.000) total time=   0.1s\n"
          ]
        },
        {
          "output_type": "stream",
          "name": "stderr",
          "text": [
            "/usr/local/lib/python3.10/dist-packages/sklearn/metrics/_classification.py:1344: UndefinedMetricWarning: Precision is ill-defined and being set to 0.0 due to no predicted samples. Use `zero_division` parameter to control this behavior.\n",
            "  _warn_prf(average, modifier, msg_start, len(result))\n",
            "/usr/local/lib/python3.10/dist-packages/sklearn/metrics/_classification.py:1344: UndefinedMetricWarning: Precision is ill-defined and being set to 0.0 due to no predicted samples. Use `zero_division` parameter to control this behavior.\n",
            "  _warn_prf(average, modifier, msg_start, len(result))\n"
          ]
        },
        {
          "output_type": "stream",
          "name": "stdout",
          "text": [
            "[CV 5/5] END model__C=0.1, model__gamma=0.01, smote__k_neighbors=5; accuracy: (test=0.962) f1: (test=0.000) mcc: (test=0.000) precision: (test=0.000) recall: (test=0.000) roc_auc: (test=0.600) specificity: (test=1.000) total time=   0.1s\n",
            "[CV 1/5] END model__C=0.1, model__gamma=0.01, smote__k_neighbors=7; accuracy: (test=0.962) f1: (test=0.000) mcc: (test=0.000) precision: (test=0.000) recall: (test=0.000) roc_auc: (test=0.379) specificity: (test=1.000) total time=   0.1s\n"
          ]
        },
        {
          "output_type": "stream",
          "name": "stderr",
          "text": [
            "/usr/local/lib/python3.10/dist-packages/sklearn/metrics/_classification.py:1344: UndefinedMetricWarning: Precision is ill-defined and being set to 0.0 due to no predicted samples. Use `zero_division` parameter to control this behavior.\n",
            "  _warn_prf(average, modifier, msg_start, len(result))\n",
            "/usr/local/lib/python3.10/dist-packages/sklearn/metrics/_classification.py:1344: UndefinedMetricWarning: Precision is ill-defined and being set to 0.0 due to no predicted samples. Use `zero_division` parameter to control this behavior.\n",
            "  _warn_prf(average, modifier, msg_start, len(result))\n"
          ]
        },
        {
          "output_type": "stream",
          "name": "stdout",
          "text": [
            "[CV 2/5] END model__C=0.1, model__gamma=0.01, smote__k_neighbors=7; accuracy: (test=0.962) f1: (test=0.000) mcc: (test=0.000) precision: (test=0.000) recall: (test=0.000) roc_auc: (test=0.578) specificity: (test=1.000) total time=   0.2s\n",
            "[CV 3/5] END model__C=0.1, model__gamma=0.01, smote__k_neighbors=7; accuracy: (test=0.954) f1: (test=0.000) mcc: (test=0.000) precision: (test=0.000) recall: (test=0.000) roc_auc: (test=0.663) specificity: (test=1.000) total time=   0.2s\n"
          ]
        },
        {
          "output_type": "stream",
          "name": "stderr",
          "text": [
            "/usr/local/lib/python3.10/dist-packages/sklearn/metrics/_classification.py:1344: UndefinedMetricWarning: Precision is ill-defined and being set to 0.0 due to no predicted samples. Use `zero_division` parameter to control this behavior.\n",
            "  _warn_prf(average, modifier, msg_start, len(result))\n",
            "/usr/local/lib/python3.10/dist-packages/sklearn/metrics/_classification.py:1344: UndefinedMetricWarning: Precision is ill-defined and being set to 0.0 due to no predicted samples. Use `zero_division` parameter to control this behavior.\n",
            "  _warn_prf(average, modifier, msg_start, len(result))\n"
          ]
        },
        {
          "output_type": "stream",
          "name": "stdout",
          "text": [
            "[CV 4/5] END model__C=0.1, model__gamma=0.01, smote__k_neighbors=7; accuracy: (test=0.954) f1: (test=0.000) mcc: (test=0.000) precision: (test=0.000) recall: (test=0.000) roc_auc: (test=0.642) specificity: (test=1.000) total time=   0.2s\n",
            "[CV 5/5] END model__C=0.1, model__gamma=0.01, smote__k_neighbors=7; accuracy: (test=0.962) f1: (test=0.000) mcc: (test=0.000) precision: (test=0.000) recall: (test=0.000) roc_auc: (test=0.647) specificity: (test=1.000) total time=   0.1s\n"
          ]
        },
        {
          "output_type": "stream",
          "name": "stderr",
          "text": [
            "/usr/local/lib/python3.10/dist-packages/sklearn/metrics/_classification.py:1344: UndefinedMetricWarning: Precision is ill-defined and being set to 0.0 due to no predicted samples. Use `zero_division` parameter to control this behavior.\n",
            "  _warn_prf(average, modifier, msg_start, len(result))\n",
            "/usr/local/lib/python3.10/dist-packages/sklearn/metrics/_classification.py:1344: UndefinedMetricWarning: Precision is ill-defined and being set to 0.0 due to no predicted samples. Use `zero_division` parameter to control this behavior.\n",
            "  _warn_prf(average, modifier, msg_start, len(result))\n"
          ]
        },
        {
          "output_type": "stream",
          "name": "stdout",
          "text": [
            "[CV 1/5] END model__C=0.1, model__gamma=0.1, smote__k_neighbors=3; accuracy: (test=0.962) f1: (test=0.000) mcc: (test=0.000) precision: (test=0.000) recall: (test=0.000) roc_auc: (test=0.516) specificity: (test=1.000) total time=   0.2s\n",
            "[CV 2/5] END model__C=0.1, model__gamma=0.1, smote__k_neighbors=3; accuracy: (test=0.962) f1: (test=0.000) mcc: (test=0.000) precision: (test=0.000) recall: (test=0.000) roc_auc: (test=0.500) specificity: (test=1.000) total time=   0.2s\n"
          ]
        },
        {
          "output_type": "stream",
          "name": "stderr",
          "text": [
            "/usr/local/lib/python3.10/dist-packages/sklearn/metrics/_classification.py:1344: UndefinedMetricWarning: Precision is ill-defined and being set to 0.0 due to no predicted samples. Use `zero_division` parameter to control this behavior.\n",
            "  _warn_prf(average, modifier, msg_start, len(result))\n",
            "/usr/local/lib/python3.10/dist-packages/sklearn/metrics/_classification.py:1344: UndefinedMetricWarning: Precision is ill-defined and being set to 0.0 due to no predicted samples. Use `zero_division` parameter to control this behavior.\n",
            "  _warn_prf(average, modifier, msg_start, len(result))\n"
          ]
        },
        {
          "output_type": "stream",
          "name": "stdout",
          "text": [
            "[CV 3/5] END model__C=0.1, model__gamma=0.1, smote__k_neighbors=3; accuracy: (test=0.954) f1: (test=0.000) mcc: (test=0.000) precision: (test=0.000) recall: (test=0.000) roc_auc: (test=0.540) specificity: (test=1.000) total time=   0.2s\n",
            "[CV 4/5] END model__C=0.1, model__gamma=0.1, smote__k_neighbors=3; accuracy: (test=0.954) f1: (test=0.000) mcc: (test=0.000) precision: (test=0.000) recall: (test=0.000) roc_auc: (test=0.536) specificity: (test=1.000) total time=   0.2s\n"
          ]
        },
        {
          "output_type": "stream",
          "name": "stderr",
          "text": [
            "/usr/local/lib/python3.10/dist-packages/sklearn/metrics/_classification.py:1344: UndefinedMetricWarning: Precision is ill-defined and being set to 0.0 due to no predicted samples. Use `zero_division` parameter to control this behavior.\n",
            "  _warn_prf(average, modifier, msg_start, len(result))\n",
            "/usr/local/lib/python3.10/dist-packages/sklearn/metrics/_classification.py:1344: UndefinedMetricWarning: Precision is ill-defined and being set to 0.0 due to no predicted samples. Use `zero_division` parameter to control this behavior.\n",
            "  _warn_prf(average, modifier, msg_start, len(result))\n"
          ]
        },
        {
          "output_type": "stream",
          "name": "stdout",
          "text": [
            "[CV 5/5] END model__C=0.1, model__gamma=0.1, smote__k_neighbors=3; accuracy: (test=0.962) f1: (test=0.000) mcc: (test=0.000) precision: (test=0.000) recall: (test=0.000) roc_auc: (test=0.572) specificity: (test=1.000) total time=   0.2s\n"
          ]
        },
        {
          "output_type": "stream",
          "name": "stderr",
          "text": [
            "/usr/local/lib/python3.10/dist-packages/sklearn/metrics/_classification.py:1344: UndefinedMetricWarning: Precision is ill-defined and being set to 0.0 due to no predicted samples. Use `zero_division` parameter to control this behavior.\n",
            "  _warn_prf(average, modifier, msg_start, len(result))\n"
          ]
        },
        {
          "output_type": "stream",
          "name": "stdout",
          "text": [
            "[CV 1/5] END model__C=0.1, model__gamma=0.1, smote__k_neighbors=5; accuracy: (test=0.962) f1: (test=0.000) mcc: (test=0.000) precision: (test=0.000) recall: (test=0.000) roc_auc: (test=0.516) specificity: (test=1.000) total time=   0.2s\n"
          ]
        },
        {
          "output_type": "stream",
          "name": "stderr",
          "text": [
            "/usr/local/lib/python3.10/dist-packages/sklearn/metrics/_classification.py:1344: UndefinedMetricWarning: Precision is ill-defined and being set to 0.0 due to no predicted samples. Use `zero_division` parameter to control this behavior.\n",
            "  _warn_prf(average, modifier, msg_start, len(result))\n"
          ]
        },
        {
          "output_type": "stream",
          "name": "stdout",
          "text": [
            "[CV 2/5] END model__C=0.1, model__gamma=0.1, smote__k_neighbors=5; accuracy: (test=0.962) f1: (test=0.000) mcc: (test=0.000) precision: (test=0.000) recall: (test=0.000) roc_auc: (test=0.500) specificity: (test=1.000) total time=   0.2s\n"
          ]
        },
        {
          "output_type": "stream",
          "name": "stderr",
          "text": [
            "/usr/local/lib/python3.10/dist-packages/sklearn/metrics/_classification.py:1344: UndefinedMetricWarning: Precision is ill-defined and being set to 0.0 due to no predicted samples. Use `zero_division` parameter to control this behavior.\n",
            "  _warn_prf(average, modifier, msg_start, len(result))\n"
          ]
        },
        {
          "output_type": "stream",
          "name": "stdout",
          "text": [
            "[CV 3/5] END model__C=0.1, model__gamma=0.1, smote__k_neighbors=5; accuracy: (test=0.954) f1: (test=0.000) mcc: (test=0.000) precision: (test=0.000) recall: (test=0.000) roc_auc: (test=0.540) specificity: (test=1.000) total time=   0.2s\n"
          ]
        },
        {
          "output_type": "stream",
          "name": "stderr",
          "text": [
            "/usr/local/lib/python3.10/dist-packages/sklearn/metrics/_classification.py:1344: UndefinedMetricWarning: Precision is ill-defined and being set to 0.0 due to no predicted samples. Use `zero_division` parameter to control this behavior.\n",
            "  _warn_prf(average, modifier, msg_start, len(result))\n"
          ]
        },
        {
          "output_type": "stream",
          "name": "stdout",
          "text": [
            "[CV 4/5] END model__C=0.1, model__gamma=0.1, smote__k_neighbors=5; accuracy: (test=0.954) f1: (test=0.000) mcc: (test=0.000) precision: (test=0.000) recall: (test=0.000) roc_auc: (test=0.548) specificity: (test=1.000) total time=   0.2s\n"
          ]
        },
        {
          "output_type": "stream",
          "name": "stderr",
          "text": [
            "/usr/local/lib/python3.10/dist-packages/sklearn/metrics/_classification.py:1344: UndefinedMetricWarning: Precision is ill-defined and being set to 0.0 due to no predicted samples. Use `zero_division` parameter to control this behavior.\n",
            "  _warn_prf(average, modifier, msg_start, len(result))\n"
          ]
        },
        {
          "output_type": "stream",
          "name": "stdout",
          "text": [
            "[CV 5/5] END model__C=0.1, model__gamma=0.1, smote__k_neighbors=5; accuracy: (test=0.962) f1: (test=0.000) mcc: (test=0.000) precision: (test=0.000) recall: (test=0.000) roc_auc: (test=0.576) specificity: (test=1.000) total time=   0.2s\n"
          ]
        },
        {
          "output_type": "stream",
          "name": "stderr",
          "text": [
            "/usr/local/lib/python3.10/dist-packages/sklearn/metrics/_classification.py:1344: UndefinedMetricWarning: Precision is ill-defined and being set to 0.0 due to no predicted samples. Use `zero_division` parameter to control this behavior.\n",
            "  _warn_prf(average, modifier, msg_start, len(result))\n",
            "/usr/local/lib/python3.10/dist-packages/sklearn/metrics/_classification.py:1344: UndefinedMetricWarning: Precision is ill-defined and being set to 0.0 due to no predicted samples. Use `zero_division` parameter to control this behavior.\n",
            "  _warn_prf(average, modifier, msg_start, len(result))\n"
          ]
        },
        {
          "output_type": "stream",
          "name": "stdout",
          "text": [
            "[CV 1/5] END model__C=0.1, model__gamma=0.1, smote__k_neighbors=7; accuracy: (test=0.962) f1: (test=0.000) mcc: (test=0.000) precision: (test=0.000) recall: (test=0.000) roc_auc: (test=0.512) specificity: (test=1.000) total time=   0.2s\n",
            "[CV 2/5] END model__C=0.1, model__gamma=0.1, smote__k_neighbors=7; accuracy: (test=0.962) f1: (test=0.000) mcc: (test=0.000) precision: (test=0.000) recall: (test=0.000) roc_auc: (test=0.492) specificity: (test=1.000) total time=   0.2s\n"
          ]
        },
        {
          "output_type": "stream",
          "name": "stderr",
          "text": [
            "/usr/local/lib/python3.10/dist-packages/sklearn/metrics/_classification.py:1344: UndefinedMetricWarning: Precision is ill-defined and being set to 0.0 due to no predicted samples. Use `zero_division` parameter to control this behavior.\n",
            "  _warn_prf(average, modifier, msg_start, len(result))\n",
            "/usr/local/lib/python3.10/dist-packages/sklearn/metrics/_classification.py:1344: UndefinedMetricWarning: Precision is ill-defined and being set to 0.0 due to no predicted samples. Use `zero_division` parameter to control this behavior.\n",
            "  _warn_prf(average, modifier, msg_start, len(result))\n"
          ]
        },
        {
          "output_type": "stream",
          "name": "stdout",
          "text": [
            "[CV 3/5] END model__C=0.1, model__gamma=0.1, smote__k_neighbors=7; accuracy: (test=0.954) f1: (test=0.000) mcc: (test=0.000) precision: (test=0.000) recall: (test=0.000) roc_auc: (test=0.544) specificity: (test=1.000) total time=   0.2s\n",
            "[CV 4/5] END model__C=0.1, model__gamma=0.1, smote__k_neighbors=7; accuracy: (test=0.954) f1: (test=0.000) mcc: (test=0.000) precision: (test=0.000) recall: (test=0.000) roc_auc: (test=0.544) specificity: (test=1.000) total time=   0.2s\n"
          ]
        },
        {
          "output_type": "stream",
          "name": "stderr",
          "text": [
            "/usr/local/lib/python3.10/dist-packages/sklearn/metrics/_classification.py:1344: UndefinedMetricWarning: Precision is ill-defined and being set to 0.0 due to no predicted samples. Use `zero_division` parameter to control this behavior.\n",
            "  _warn_prf(average, modifier, msg_start, len(result))\n",
            "/usr/local/lib/python3.10/dist-packages/sklearn/metrics/_classification.py:1344: UndefinedMetricWarning: Precision is ill-defined and being set to 0.0 due to no predicted samples. Use `zero_division` parameter to control this behavior.\n",
            "  _warn_prf(average, modifier, msg_start, len(result))\n"
          ]
        },
        {
          "output_type": "stream",
          "name": "stdout",
          "text": [
            "[CV 5/5] END model__C=0.1, model__gamma=0.1, smote__k_neighbors=7; accuracy: (test=0.962) f1: (test=0.000) mcc: (test=0.000) precision: (test=0.000) recall: (test=0.000) roc_auc: (test=0.576) specificity: (test=1.000) total time=   0.2s\n",
            "[CV 1/5] END model__C=0.1, model__gamma=1, smote__k_neighbors=3; accuracy: (test=0.962) f1: (test=0.000) mcc: (test=0.000) precision: (test=0.000) recall: (test=0.000) roc_auc: (test=0.500) specificity: (test=1.000) total time=   0.2s\n"
          ]
        },
        {
          "output_type": "stream",
          "name": "stderr",
          "text": [
            "/usr/local/lib/python3.10/dist-packages/sklearn/metrics/_classification.py:1344: UndefinedMetricWarning: Precision is ill-defined and being set to 0.0 due to no predicted samples. Use `zero_division` parameter to control this behavior.\n",
            "  _warn_prf(average, modifier, msg_start, len(result))\n",
            "/usr/local/lib/python3.10/dist-packages/sklearn/metrics/_classification.py:1344: UndefinedMetricWarning: Precision is ill-defined and being set to 0.0 due to no predicted samples. Use `zero_division` parameter to control this behavior.\n",
            "  _warn_prf(average, modifier, msg_start, len(result))\n",
            "/usr/local/lib/python3.10/dist-packages/sklearn/metrics/_classification.py:1344: UndefinedMetricWarning: Precision is ill-defined and being set to 0.0 due to no predicted samples. Use `zero_division` parameter to control this behavior.\n",
            "  _warn_prf(average, modifier, msg_start, len(result))\n"
          ]
        },
        {
          "output_type": "stream",
          "name": "stdout",
          "text": [
            "[CV 2/5] END model__C=0.1, model__gamma=1, smote__k_neighbors=3; accuracy: (test=0.962) f1: (test=0.000) mcc: (test=0.000) precision: (test=0.000) recall: (test=0.000) roc_auc: (test=0.500) specificity: (test=1.000) total time=   0.1s\n",
            "[CV 3/5] END model__C=0.1, model__gamma=1, smote__k_neighbors=3; accuracy: (test=0.954) f1: (test=0.000) mcc: (test=0.000) precision: (test=0.000) recall: (test=0.000) roc_auc: (test=0.500) specificity: (test=1.000) total time=   0.1s\n",
            "[CV 4/5] END model__C=0.1, model__gamma=1, smote__k_neighbors=3; accuracy: (test=0.954) f1: (test=0.000) mcc: (test=0.000) precision: (test=0.000) recall: (test=0.000) roc_auc: (test=0.500) specificity: (test=1.000) total time=   0.1s\n"
          ]
        },
        {
          "output_type": "stream",
          "name": "stderr",
          "text": [
            "/usr/local/lib/python3.10/dist-packages/sklearn/metrics/_classification.py:1344: UndefinedMetricWarning: Precision is ill-defined and being set to 0.0 due to no predicted samples. Use `zero_division` parameter to control this behavior.\n",
            "  _warn_prf(average, modifier, msg_start, len(result))\n",
            "/usr/local/lib/python3.10/dist-packages/sklearn/metrics/_classification.py:1344: UndefinedMetricWarning: Precision is ill-defined and being set to 0.0 due to no predicted samples. Use `zero_division` parameter to control this behavior.\n",
            "  _warn_prf(average, modifier, msg_start, len(result))\n",
            "/usr/local/lib/python3.10/dist-packages/sklearn/metrics/_classification.py:1344: UndefinedMetricWarning: Precision is ill-defined and being set to 0.0 due to no predicted samples. Use `zero_division` parameter to control this behavior.\n",
            "  _warn_prf(average, modifier, msg_start, len(result))\n"
          ]
        },
        {
          "output_type": "stream",
          "name": "stdout",
          "text": [
            "[CV 5/5] END model__C=0.1, model__gamma=1, smote__k_neighbors=3; accuracy: (test=0.962) f1: (test=0.000) mcc: (test=0.000) precision: (test=0.000) recall: (test=0.000) roc_auc: (test=0.500) specificity: (test=1.000) total time=   0.1s\n",
            "[CV 1/5] END model__C=0.1, model__gamma=1, smote__k_neighbors=5; accuracy: (test=0.962) f1: (test=0.000) mcc: (test=0.000) precision: (test=0.000) recall: (test=0.000) roc_auc: (test=0.500) specificity: (test=1.000) total time=   0.1s\n",
            "[CV 2/5] END model__C=0.1, model__gamma=1, smote__k_neighbors=5; accuracy: (test=0.962) f1: (test=0.000) mcc: (test=0.000) precision: (test=0.000) recall: (test=0.000) roc_auc: (test=0.500) specificity: (test=1.000) total time=   0.1s\n"
          ]
        },
        {
          "output_type": "stream",
          "name": "stderr",
          "text": [
            "/usr/local/lib/python3.10/dist-packages/sklearn/metrics/_classification.py:1344: UndefinedMetricWarning: Precision is ill-defined and being set to 0.0 due to no predicted samples. Use `zero_division` parameter to control this behavior.\n",
            "  _warn_prf(average, modifier, msg_start, len(result))\n",
            "/usr/local/lib/python3.10/dist-packages/sklearn/metrics/_classification.py:1344: UndefinedMetricWarning: Precision is ill-defined and being set to 0.0 due to no predicted samples. Use `zero_division` parameter to control this behavior.\n",
            "  _warn_prf(average, modifier, msg_start, len(result))\n",
            "/usr/local/lib/python3.10/dist-packages/sklearn/metrics/_classification.py:1344: UndefinedMetricWarning: Precision is ill-defined and being set to 0.0 due to no predicted samples. Use `zero_division` parameter to control this behavior.\n",
            "  _warn_prf(average, modifier, msg_start, len(result))\n"
          ]
        },
        {
          "output_type": "stream",
          "name": "stdout",
          "text": [
            "[CV 3/5] END model__C=0.1, model__gamma=1, smote__k_neighbors=5; accuracy: (test=0.954) f1: (test=0.000) mcc: (test=0.000) precision: (test=0.000) recall: (test=0.000) roc_auc: (test=0.500) specificity: (test=1.000) total time=   0.1s\n",
            "[CV 4/5] END model__C=0.1, model__gamma=1, smote__k_neighbors=5; accuracy: (test=0.954) f1: (test=0.000) mcc: (test=0.000) precision: (test=0.000) recall: (test=0.000) roc_auc: (test=0.500) specificity: (test=1.000) total time=   0.1s\n",
            "[CV 5/5] END model__C=0.1, model__gamma=1, smote__k_neighbors=5; accuracy: (test=0.962) f1: (test=0.000) mcc: (test=0.000) precision: (test=0.000) recall: (test=0.000) roc_auc: (test=0.500) specificity: (test=1.000) total time=   0.1s\n"
          ]
        },
        {
          "output_type": "stream",
          "name": "stderr",
          "text": [
            "/usr/local/lib/python3.10/dist-packages/sklearn/metrics/_classification.py:1344: UndefinedMetricWarning: Precision is ill-defined and being set to 0.0 due to no predicted samples. Use `zero_division` parameter to control this behavior.\n",
            "  _warn_prf(average, modifier, msg_start, len(result))\n",
            "/usr/local/lib/python3.10/dist-packages/sklearn/metrics/_classification.py:1344: UndefinedMetricWarning: Precision is ill-defined and being set to 0.0 due to no predicted samples. Use `zero_division` parameter to control this behavior.\n",
            "  _warn_prf(average, modifier, msg_start, len(result))\n",
            "/usr/local/lib/python3.10/dist-packages/sklearn/metrics/_classification.py:1344: UndefinedMetricWarning: Precision is ill-defined and being set to 0.0 due to no predicted samples. Use `zero_division` parameter to control this behavior.\n",
            "  _warn_prf(average, modifier, msg_start, len(result))\n"
          ]
        },
        {
          "output_type": "stream",
          "name": "stdout",
          "text": [
            "[CV 1/5] END model__C=0.1, model__gamma=1, smote__k_neighbors=7; accuracy: (test=0.962) f1: (test=0.000) mcc: (test=0.000) precision: (test=0.000) recall: (test=0.000) roc_auc: (test=0.500) specificity: (test=1.000) total time=   0.1s\n",
            "[CV 2/5] END model__C=0.1, model__gamma=1, smote__k_neighbors=7; accuracy: (test=0.962) f1: (test=0.000) mcc: (test=0.000) precision: (test=0.000) recall: (test=0.000) roc_auc: (test=0.500) specificity: (test=1.000) total time=   0.1s\n",
            "[CV 3/5] END model__C=0.1, model__gamma=1, smote__k_neighbors=7; accuracy: (test=0.954) f1: (test=0.000) mcc: (test=0.000) precision: (test=0.000) recall: (test=0.000) roc_auc: (test=0.500) specificity: (test=1.000) total time=   0.1s\n"
          ]
        },
        {
          "output_type": "stream",
          "name": "stderr",
          "text": [
            "/usr/local/lib/python3.10/dist-packages/sklearn/metrics/_classification.py:1344: UndefinedMetricWarning: Precision is ill-defined and being set to 0.0 due to no predicted samples. Use `zero_division` parameter to control this behavior.\n",
            "  _warn_prf(average, modifier, msg_start, len(result))\n",
            "/usr/local/lib/python3.10/dist-packages/sklearn/metrics/_classification.py:1344: UndefinedMetricWarning: Precision is ill-defined and being set to 0.0 due to no predicted samples. Use `zero_division` parameter to control this behavior.\n",
            "  _warn_prf(average, modifier, msg_start, len(result))\n",
            "/usr/local/lib/python3.10/dist-packages/sklearn/metrics/_classification.py:1344: UndefinedMetricWarning: Precision is ill-defined and being set to 0.0 due to no predicted samples. Use `zero_division` parameter to control this behavior.\n",
            "  _warn_prf(average, modifier, msg_start, len(result))\n"
          ]
        },
        {
          "output_type": "stream",
          "name": "stdout",
          "text": [
            "[CV 4/5] END model__C=0.1, model__gamma=1, smote__k_neighbors=7; accuracy: (test=0.954) f1: (test=0.000) mcc: (test=0.000) precision: (test=0.000) recall: (test=0.000) roc_auc: (test=0.500) specificity: (test=1.000) total time=   0.1s\n",
            "[CV 5/5] END model__C=0.1, model__gamma=1, smote__k_neighbors=7; accuracy: (test=0.962) f1: (test=0.000) mcc: (test=0.000) precision: (test=0.000) recall: (test=0.000) roc_auc: (test=0.500) specificity: (test=1.000) total time=   0.1s\n",
            "[CV 1/5] END model__C=1, model__gamma=0.001, smote__k_neighbors=3; accuracy: (test=0.962) f1: (test=0.000) mcc: (test=0.000) precision: (test=0.000) recall: (test=0.000) roc_auc: (test=0.427) specificity: (test=1.000) total time=   0.1s\n",
            "[CV 2/5] END model__C=1, model__gamma=0.001, smote__k_neighbors=3; accuracy: (test=0.908) f1: (test=0.250) mcc: (test=0.227) precision: (test=0.182) recall: (test=0.400) roc_auc: (test=0.702) specificity: (test=0.929) total time=   0.1s\n",
            "[CV 3/5] END model__C=1, model__gamma=0.001, smote__k_neighbors=3; accuracy: (test=0.947) f1: (test=0.000) mcc: (test=-0.019) precision: (test=0.000) recall: (test=0.000) roc_auc: (test=0.621) specificity: (test=0.992) total time=   0.1s\n",
            "[CV 4/5] END model__C=1, model__gamma=0.001, smote__k_neighbors=3; accuracy: (test=0.947) f1: (test=0.000) mcc: (test=-0.019) precision: (test=0.000) recall: (test=0.000) roc_auc: (test=0.747) specificity: (test=0.992) total time=   0.1s\n"
          ]
        },
        {
          "output_type": "stream",
          "name": "stderr",
          "text": [
            "/usr/local/lib/python3.10/dist-packages/sklearn/metrics/_classification.py:1344: UndefinedMetricWarning: Precision is ill-defined and being set to 0.0 due to no predicted samples. Use `zero_division` parameter to control this behavior.\n",
            "  _warn_prf(average, modifier, msg_start, len(result))\n"
          ]
        },
        {
          "output_type": "stream",
          "name": "stdout",
          "text": [
            "[CV 5/5] END model__C=1, model__gamma=0.001, smote__k_neighbors=3; accuracy: (test=0.962) f1: (test=0.000) mcc: (test=0.000) precision: (test=0.000) recall: (test=0.000) roc_auc: (test=0.562) specificity: (test=1.000) total time=   0.1s\n",
            "[CV 1/5] END model__C=1, model__gamma=0.001, smote__k_neighbors=5; accuracy: (test=0.947) f1: (test=0.222) mcc: (test=0.196) precision: (test=0.250) recall: (test=0.200) roc_auc: (test=0.406) specificity: (test=0.976) total time=   0.1s\n",
            "[CV 2/5] END model__C=1, model__gamma=0.001, smote__k_neighbors=5; accuracy: (test=0.870) f1: (test=0.190) mcc: (test=0.169) precision: (test=0.125) recall: (test=0.400) roc_auc: (test=0.684) specificity: (test=0.889) total time=   0.1s\n",
            "[CV 3/5] END model__C=1, model__gamma=0.001, smote__k_neighbors=5; accuracy: (test=0.939) f1: (test=0.000) mcc: (test=-0.027) precision: (test=0.000) recall: (test=0.000) roc_auc: (test=0.651) specificity: (test=0.984) total time=   0.1s\n",
            "[CV 4/5] END model__C=1, model__gamma=0.001, smote__k_neighbors=5; accuracy: (test=0.924) f1: (test=0.167) mcc: (test=0.127) precision: (test=0.167) recall: (test=0.167) roc_auc: (test=0.689) specificity: (test=0.960) total time=   0.1s\n",
            "[CV 5/5] END model__C=1, model__gamma=0.001, smote__k_neighbors=5; accuracy: (test=0.962) f1: (test=0.000) mcc: (test=0.000) precision: (test=0.000) recall: (test=0.000) roc_auc: (test=0.682) specificity: (test=1.000) total time=   0.1s\n"
          ]
        },
        {
          "output_type": "stream",
          "name": "stderr",
          "text": [
            "/usr/local/lib/python3.10/dist-packages/sklearn/metrics/_classification.py:1344: UndefinedMetricWarning: Precision is ill-defined and being set to 0.0 due to no predicted samples. Use `zero_division` parameter to control this behavior.\n",
            "  _warn_prf(average, modifier, msg_start, len(result))\n"
          ]
        },
        {
          "output_type": "stream",
          "name": "stdout",
          "text": [
            "[CV 1/5] END model__C=1, model__gamma=0.001, smote__k_neighbors=7; accuracy: (test=0.931) f1: (test=0.000) mcc: (test=-0.035) precision: (test=0.000) recall: (test=0.000) roc_auc: (test=0.395) specificity: (test=0.968) total time=   0.1s\n",
            "[CV 2/5] END model__C=1, model__gamma=0.001, smote__k_neighbors=7; accuracy: (test=0.855) f1: (test=0.174) mcc: (test=0.152) precision: (test=0.111) recall: (test=0.400) roc_auc: (test=0.743) specificity: (test=0.873) total time=   0.1s\n",
            "[CV 3/5] END model__C=1, model__gamma=0.001, smote__k_neighbors=7; accuracy: (test=0.939) f1: (test=0.000) mcc: (test=-0.027) precision: (test=0.000) recall: (test=0.000) roc_auc: (test=0.711) specificity: (test=0.984) total time=   0.1s\n",
            "[CV 4/5] END model__C=1, model__gamma=0.001, smote__k_neighbors=7; accuracy: (test=0.931) f1: (test=0.182) mcc: (test=0.147) precision: (test=0.200) recall: (test=0.167) roc_auc: (test=0.665) specificity: (test=0.968) total time=   0.1s\n",
            "[CV 5/5] END model__C=1, model__gamma=0.001, smote__k_neighbors=7; accuracy: (test=0.954) f1: (test=0.000) mcc: (test=-0.018) precision: (test=0.000) recall: (test=0.000) roc_auc: (test=0.694) specificity: (test=0.992) total time=   0.1s\n",
            "[CV 1/5] END model__C=1, model__gamma=0.01, smote__k_neighbors=3; accuracy: (test=0.962) f1: (test=0.000) mcc: (test=0.000) precision: (test=0.000) recall: (test=0.000) roc_auc: (test=0.387) specificity: (test=1.000) total time=   0.1s\n"
          ]
        },
        {
          "output_type": "stream",
          "name": "stderr",
          "text": [
            "/usr/local/lib/python3.10/dist-packages/sklearn/metrics/_classification.py:1344: UndefinedMetricWarning: Precision is ill-defined and being set to 0.0 due to no predicted samples. Use `zero_division` parameter to control this behavior.\n",
            "  _warn_prf(average, modifier, msg_start, len(result))\n",
            "/usr/local/lib/python3.10/dist-packages/sklearn/metrics/_classification.py:1344: UndefinedMetricWarning: Precision is ill-defined and being set to 0.0 due to no predicted samples. Use `zero_division` parameter to control this behavior.\n",
            "  _warn_prf(average, modifier, msg_start, len(result))\n"
          ]
        },
        {
          "output_type": "stream",
          "name": "stdout",
          "text": [
            "[CV 2/5] END model__C=1, model__gamma=0.01, smote__k_neighbors=3; accuracy: (test=0.962) f1: (test=0.000) mcc: (test=0.000) precision: (test=0.000) recall: (test=0.000) roc_auc: (test=0.616) specificity: (test=1.000) total time=   0.1s\n",
            "[CV 3/5] END model__C=1, model__gamma=0.01, smote__k_neighbors=3; accuracy: (test=0.954) f1: (test=0.000) mcc: (test=0.000) precision: (test=0.000) recall: (test=0.000) roc_auc: (test=0.754) specificity: (test=1.000) total time=   0.1s\n"
          ]
        },
        {
          "output_type": "stream",
          "name": "stderr",
          "text": [
            "/usr/local/lib/python3.10/dist-packages/sklearn/metrics/_classification.py:1344: UndefinedMetricWarning: Precision is ill-defined and being set to 0.0 due to no predicted samples. Use `zero_division` parameter to control this behavior.\n",
            "  _warn_prf(average, modifier, msg_start, len(result))\n",
            "/usr/local/lib/python3.10/dist-packages/sklearn/metrics/_classification.py:1344: UndefinedMetricWarning: Precision is ill-defined and being set to 0.0 due to no predicted samples. Use `zero_division` parameter to control this behavior.\n",
            "  _warn_prf(average, modifier, msg_start, len(result))\n"
          ]
        },
        {
          "output_type": "stream",
          "name": "stdout",
          "text": [
            "[CV 4/5] END model__C=1, model__gamma=0.01, smote__k_neighbors=3; accuracy: (test=0.954) f1: (test=0.000) mcc: (test=0.000) precision: (test=0.000) recall: (test=0.000) roc_auc: (test=0.660) specificity: (test=1.000) total time=   0.1s\n",
            "[CV 5/5] END model__C=1, model__gamma=0.01, smote__k_neighbors=3; accuracy: (test=0.962) f1: (test=0.000) mcc: (test=0.000) precision: (test=0.000) recall: (test=0.000) roc_auc: (test=0.606) specificity: (test=1.000) total time=   0.1s\n"
          ]
        },
        {
          "output_type": "stream",
          "name": "stderr",
          "text": [
            "/usr/local/lib/python3.10/dist-packages/sklearn/metrics/_classification.py:1344: UndefinedMetricWarning: Precision is ill-defined and being set to 0.0 due to no predicted samples. Use `zero_division` parameter to control this behavior.\n",
            "  _warn_prf(average, modifier, msg_start, len(result))\n",
            "/usr/local/lib/python3.10/dist-packages/sklearn/metrics/_classification.py:1344: UndefinedMetricWarning: Precision is ill-defined and being set to 0.0 due to no predicted samples. Use `zero_division` parameter to control this behavior.\n",
            "  _warn_prf(average, modifier, msg_start, len(result))\n"
          ]
        },
        {
          "output_type": "stream",
          "name": "stdout",
          "text": [
            "[CV 1/5] END model__C=1, model__gamma=0.01, smote__k_neighbors=5; accuracy: (test=0.962) f1: (test=0.000) mcc: (test=0.000) precision: (test=0.000) recall: (test=0.000) roc_auc: (test=0.384) specificity: (test=1.000) total time=   0.1s\n",
            "[CV 2/5] END model__C=1, model__gamma=0.01, smote__k_neighbors=5; accuracy: (test=0.962) f1: (test=0.000) mcc: (test=0.000) precision: (test=0.000) recall: (test=0.000) roc_auc: (test=0.587) specificity: (test=1.000) total time=   0.1s\n"
          ]
        },
        {
          "output_type": "stream",
          "name": "stderr",
          "text": [
            "/usr/local/lib/python3.10/dist-packages/sklearn/metrics/_classification.py:1344: UndefinedMetricWarning: Precision is ill-defined and being set to 0.0 due to no predicted samples. Use `zero_division` parameter to control this behavior.\n",
            "  _warn_prf(average, modifier, msg_start, len(result))\n",
            "/usr/local/lib/python3.10/dist-packages/sklearn/metrics/_classification.py:1344: UndefinedMetricWarning: Precision is ill-defined and being set to 0.0 due to no predicted samples. Use `zero_division` parameter to control this behavior.\n",
            "  _warn_prf(average, modifier, msg_start, len(result))\n"
          ]
        },
        {
          "output_type": "stream",
          "name": "stdout",
          "text": [
            "[CV 3/5] END model__C=1, model__gamma=0.01, smote__k_neighbors=5; accuracy: (test=0.954) f1: (test=0.000) mcc: (test=0.000) precision: (test=0.000) recall: (test=0.000) roc_auc: (test=0.747) specificity: (test=1.000) total time=   0.1s\n",
            "[CV 4/5] END model__C=1, model__gamma=0.01, smote__k_neighbors=5; accuracy: (test=0.954) f1: (test=0.000) mcc: (test=0.000) precision: (test=0.000) recall: (test=0.000) roc_auc: (test=0.655) specificity: (test=1.000) total time=   0.1s\n"
          ]
        },
        {
          "output_type": "stream",
          "name": "stderr",
          "text": [
            "/usr/local/lib/python3.10/dist-packages/sklearn/metrics/_classification.py:1344: UndefinedMetricWarning: Precision is ill-defined and being set to 0.0 due to no predicted samples. Use `zero_division` parameter to control this behavior.\n",
            "  _warn_prf(average, modifier, msg_start, len(result))\n",
            "/usr/local/lib/python3.10/dist-packages/sklearn/metrics/_classification.py:1344: UndefinedMetricWarning: Precision is ill-defined and being set to 0.0 due to no predicted samples. Use `zero_division` parameter to control this behavior.\n",
            "  _warn_prf(average, modifier, msg_start, len(result))\n"
          ]
        },
        {
          "output_type": "stream",
          "name": "stdout",
          "text": [
            "[CV 5/5] END model__C=1, model__gamma=0.01, smote__k_neighbors=5; accuracy: (test=0.962) f1: (test=0.000) mcc: (test=0.000) precision: (test=0.000) recall: (test=0.000) roc_auc: (test=0.596) specificity: (test=1.000) total time=   0.1s\n",
            "[CV 1/5] END model__C=1, model__gamma=0.01, smote__k_neighbors=7; accuracy: (test=0.962) f1: (test=0.000) mcc: (test=0.000) precision: (test=0.000) recall: (test=0.000) roc_auc: (test=0.375) specificity: (test=1.000) total time=   0.1s\n"
          ]
        },
        {
          "output_type": "stream",
          "name": "stderr",
          "text": [
            "/usr/local/lib/python3.10/dist-packages/sklearn/metrics/_classification.py:1344: UndefinedMetricWarning: Precision is ill-defined and being set to 0.0 due to no predicted samples. Use `zero_division` parameter to control this behavior.\n",
            "  _warn_prf(average, modifier, msg_start, len(result))\n",
            "/usr/local/lib/python3.10/dist-packages/sklearn/metrics/_classification.py:1344: UndefinedMetricWarning: Precision is ill-defined and being set to 0.0 due to no predicted samples. Use `zero_division` parameter to control this behavior.\n",
            "  _warn_prf(average, modifier, msg_start, len(result))\n"
          ]
        },
        {
          "output_type": "stream",
          "name": "stdout",
          "text": [
            "[CV 2/5] END model__C=1, model__gamma=0.01, smote__k_neighbors=7; accuracy: (test=0.962) f1: (test=0.000) mcc: (test=0.000) precision: (test=0.000) recall: (test=0.000) roc_auc: (test=0.579) specificity: (test=1.000) total time=   0.1s\n",
            "[CV 3/5] END model__C=1, model__gamma=0.01, smote__k_neighbors=7; accuracy: (test=0.954) f1: (test=0.000) mcc: (test=0.000) precision: (test=0.000) recall: (test=0.000) roc_auc: (test=0.698) specificity: (test=1.000) total time=   0.1s\n"
          ]
        },
        {
          "output_type": "stream",
          "name": "stderr",
          "text": [
            "/usr/local/lib/python3.10/dist-packages/sklearn/metrics/_classification.py:1344: UndefinedMetricWarning: Precision is ill-defined and being set to 0.0 due to no predicted samples. Use `zero_division` parameter to control this behavior.\n",
            "  _warn_prf(average, modifier, msg_start, len(result))\n",
            "/usr/local/lib/python3.10/dist-packages/sklearn/metrics/_classification.py:1344: UndefinedMetricWarning: Precision is ill-defined and being set to 0.0 due to no predicted samples. Use `zero_division` parameter to control this behavior.\n",
            "  _warn_prf(average, modifier, msg_start, len(result))\n"
          ]
        },
        {
          "output_type": "stream",
          "name": "stdout",
          "text": [
            "[CV 4/5] END model__C=1, model__gamma=0.01, smote__k_neighbors=7; accuracy: (test=0.954) f1: (test=0.000) mcc: (test=0.000) precision: (test=0.000) recall: (test=0.000) roc_auc: (test=0.641) specificity: (test=1.000) total time=   0.1s\n",
            "[CV 5/5] END model__C=1, model__gamma=0.01, smote__k_neighbors=7; accuracy: (test=0.962) f1: (test=0.000) mcc: (test=0.000) precision: (test=0.000) recall: (test=0.000) roc_auc: (test=0.647) specificity: (test=1.000) total time=   0.1s\n"
          ]
        },
        {
          "output_type": "stream",
          "name": "stderr",
          "text": [
            "/usr/local/lib/python3.10/dist-packages/sklearn/metrics/_classification.py:1344: UndefinedMetricWarning: Precision is ill-defined and being set to 0.0 due to no predicted samples. Use `zero_division` parameter to control this behavior.\n",
            "  _warn_prf(average, modifier, msg_start, len(result))\n",
            "/usr/local/lib/python3.10/dist-packages/sklearn/metrics/_classification.py:1344: UndefinedMetricWarning: Precision is ill-defined and being set to 0.0 due to no predicted samples. Use `zero_division` parameter to control this behavior.\n",
            "  _warn_prf(average, modifier, msg_start, len(result))\n"
          ]
        },
        {
          "output_type": "stream",
          "name": "stdout",
          "text": [
            "[CV 1/5] END model__C=1, model__gamma=0.1, smote__k_neighbors=3; accuracy: (test=0.962) f1: (test=0.000) mcc: (test=0.000) precision: (test=0.000) recall: (test=0.000) roc_auc: (test=0.516) specificity: (test=1.000) total time=   0.1s\n",
            "[CV 2/5] END model__C=1, model__gamma=0.1, smote__k_neighbors=3; accuracy: (test=0.962) f1: (test=0.000) mcc: (test=0.000) precision: (test=0.000) recall: (test=0.000) roc_auc: (test=0.504) specificity: (test=1.000) total time=   0.1s\n"
          ]
        },
        {
          "output_type": "stream",
          "name": "stderr",
          "text": [
            "/usr/local/lib/python3.10/dist-packages/sklearn/metrics/_classification.py:1344: UndefinedMetricWarning: Precision is ill-defined and being set to 0.0 due to no predicted samples. Use `zero_division` parameter to control this behavior.\n",
            "  _warn_prf(average, modifier, msg_start, len(result))\n",
            "/usr/local/lib/python3.10/dist-packages/sklearn/metrics/_classification.py:1344: UndefinedMetricWarning: Precision is ill-defined and being set to 0.0 due to no predicted samples. Use `zero_division` parameter to control this behavior.\n",
            "  _warn_prf(average, modifier, msg_start, len(result))\n"
          ]
        },
        {
          "output_type": "stream",
          "name": "stdout",
          "text": [
            "[CV 3/5] END model__C=1, model__gamma=0.1, smote__k_neighbors=3; accuracy: (test=0.954) f1: (test=0.000) mcc: (test=0.000) precision: (test=0.000) recall: (test=0.000) roc_auc: (test=0.548) specificity: (test=1.000) total time=   0.1s\n",
            "[CV 4/5] END model__C=1, model__gamma=0.1, smote__k_neighbors=3; accuracy: (test=0.954) f1: (test=0.000) mcc: (test=0.000) precision: (test=0.000) recall: (test=0.000) roc_auc: (test=0.544) specificity: (test=1.000) total time=   0.1s\n"
          ]
        },
        {
          "output_type": "stream",
          "name": "stderr",
          "text": [
            "/usr/local/lib/python3.10/dist-packages/sklearn/metrics/_classification.py:1344: UndefinedMetricWarning: Precision is ill-defined and being set to 0.0 due to no predicted samples. Use `zero_division` parameter to control this behavior.\n",
            "  _warn_prf(average, modifier, msg_start, len(result))\n",
            "/usr/local/lib/python3.10/dist-packages/sklearn/metrics/_classification.py:1344: UndefinedMetricWarning: Precision is ill-defined and being set to 0.0 due to no predicted samples. Use `zero_division` parameter to control this behavior.\n",
            "  _warn_prf(average, modifier, msg_start, len(result))\n"
          ]
        },
        {
          "output_type": "stream",
          "name": "stdout",
          "text": [
            "[CV 5/5] END model__C=1, model__gamma=0.1, smote__k_neighbors=3; accuracy: (test=0.962) f1: (test=0.000) mcc: (test=0.000) precision: (test=0.000) recall: (test=0.000) roc_auc: (test=0.580) specificity: (test=1.000) total time=   0.1s\n",
            "[CV 1/5] END model__C=1, model__gamma=0.1, smote__k_neighbors=5; accuracy: (test=0.962) f1: (test=0.000) mcc: (test=0.000) precision: (test=0.000) recall: (test=0.000) roc_auc: (test=0.516) specificity: (test=1.000) total time=   0.1s\n"
          ]
        },
        {
          "output_type": "stream",
          "name": "stderr",
          "text": [
            "/usr/local/lib/python3.10/dist-packages/sklearn/metrics/_classification.py:1344: UndefinedMetricWarning: Precision is ill-defined and being set to 0.0 due to no predicted samples. Use `zero_division` parameter to control this behavior.\n",
            "  _warn_prf(average, modifier, msg_start, len(result))\n",
            "/usr/local/lib/python3.10/dist-packages/sklearn/metrics/_classification.py:1344: UndefinedMetricWarning: Precision is ill-defined and being set to 0.0 due to no predicted samples. Use `zero_division` parameter to control this behavior.\n",
            "  _warn_prf(average, modifier, msg_start, len(result))\n"
          ]
        },
        {
          "output_type": "stream",
          "name": "stdout",
          "text": [
            "[CV 2/5] END model__C=1, model__gamma=0.1, smote__k_neighbors=5; accuracy: (test=0.962) f1: (test=0.000) mcc: (test=0.000) precision: (test=0.000) recall: (test=0.000) roc_auc: (test=0.504) specificity: (test=1.000) total time=   0.1s\n",
            "[CV 3/5] END model__C=1, model__gamma=0.1, smote__k_neighbors=5; accuracy: (test=0.954) f1: (test=0.000) mcc: (test=0.000) precision: (test=0.000) recall: (test=0.000) roc_auc: (test=0.548) specificity: (test=1.000) total time=   0.1s\n"
          ]
        },
        {
          "output_type": "stream",
          "name": "stderr",
          "text": [
            "/usr/local/lib/python3.10/dist-packages/sklearn/metrics/_classification.py:1344: UndefinedMetricWarning: Precision is ill-defined and being set to 0.0 due to no predicted samples. Use `zero_division` parameter to control this behavior.\n",
            "  _warn_prf(average, modifier, msg_start, len(result))\n",
            "/usr/local/lib/python3.10/dist-packages/sklearn/metrics/_classification.py:1344: UndefinedMetricWarning: Precision is ill-defined and being set to 0.0 due to no predicted samples. Use `zero_division` parameter to control this behavior.\n",
            "  _warn_prf(average, modifier, msg_start, len(result))\n"
          ]
        },
        {
          "output_type": "stream",
          "name": "stdout",
          "text": [
            "[CV 4/5] END model__C=1, model__gamma=0.1, smote__k_neighbors=5; accuracy: (test=0.954) f1: (test=0.000) mcc: (test=0.000) precision: (test=0.000) recall: (test=0.000) roc_auc: (test=0.548) specificity: (test=1.000) total time=   0.1s\n",
            "[CV 5/5] END model__C=1, model__gamma=0.1, smote__k_neighbors=5; accuracy: (test=0.962) f1: (test=0.000) mcc: (test=0.000) precision: (test=0.000) recall: (test=0.000) roc_auc: (test=0.592) specificity: (test=1.000) total time=   0.1s\n"
          ]
        },
        {
          "output_type": "stream",
          "name": "stderr",
          "text": [
            "/usr/local/lib/python3.10/dist-packages/sklearn/metrics/_classification.py:1344: UndefinedMetricWarning: Precision is ill-defined and being set to 0.0 due to no predicted samples. Use `zero_division` parameter to control this behavior.\n",
            "  _warn_prf(average, modifier, msg_start, len(result))\n",
            "/usr/local/lib/python3.10/dist-packages/sklearn/metrics/_classification.py:1344: UndefinedMetricWarning: Precision is ill-defined and being set to 0.0 due to no predicted samples. Use `zero_division` parameter to control this behavior.\n",
            "  _warn_prf(average, modifier, msg_start, len(result))\n"
          ]
        },
        {
          "output_type": "stream",
          "name": "stdout",
          "text": [
            "[CV 1/5] END model__C=1, model__gamma=0.1, smote__k_neighbors=7; accuracy: (test=0.962) f1: (test=0.000) mcc: (test=0.000) precision: (test=0.000) recall: (test=0.000) roc_auc: (test=0.512) specificity: (test=1.000) total time=   0.1s\n",
            "[CV 2/5] END model__C=1, model__gamma=0.1, smote__k_neighbors=7; accuracy: (test=0.962) f1: (test=0.000) mcc: (test=0.000) precision: (test=0.000) recall: (test=0.000) roc_auc: (test=0.496) specificity: (test=1.000) total time=   0.1s\n"
          ]
        },
        {
          "output_type": "stream",
          "name": "stderr",
          "text": [
            "/usr/local/lib/python3.10/dist-packages/sklearn/metrics/_classification.py:1344: UndefinedMetricWarning: Precision is ill-defined and being set to 0.0 due to no predicted samples. Use `zero_division` parameter to control this behavior.\n",
            "  _warn_prf(average, modifier, msg_start, len(result))\n",
            "/usr/local/lib/python3.10/dist-packages/sklearn/metrics/_classification.py:1344: UndefinedMetricWarning: Precision is ill-defined and being set to 0.0 due to no predicted samples. Use `zero_division` parameter to control this behavior.\n",
            "  _warn_prf(average, modifier, msg_start, len(result))\n"
          ]
        },
        {
          "output_type": "stream",
          "name": "stdout",
          "text": [
            "[CV 3/5] END model__C=1, model__gamma=0.1, smote__k_neighbors=7; accuracy: (test=0.954) f1: (test=0.000) mcc: (test=0.000) precision: (test=0.000) recall: (test=0.000) roc_auc: (test=0.548) specificity: (test=1.000) total time=   0.1s\n",
            "[CV 4/5] END model__C=1, model__gamma=0.1, smote__k_neighbors=7; accuracy: (test=0.954) f1: (test=0.000) mcc: (test=0.000) precision: (test=0.000) recall: (test=0.000) roc_auc: (test=0.544) specificity: (test=1.000) total time=   0.1s\n"
          ]
        },
        {
          "output_type": "stream",
          "name": "stderr",
          "text": [
            "/usr/local/lib/python3.10/dist-packages/sklearn/metrics/_classification.py:1344: UndefinedMetricWarning: Precision is ill-defined and being set to 0.0 due to no predicted samples. Use `zero_division` parameter to control this behavior.\n",
            "  _warn_prf(average, modifier, msg_start, len(result))\n",
            "/usr/local/lib/python3.10/dist-packages/sklearn/metrics/_classification.py:1344: UndefinedMetricWarning: Precision is ill-defined and being set to 0.0 due to no predicted samples. Use `zero_division` parameter to control this behavior.\n",
            "  _warn_prf(average, modifier, msg_start, len(result))\n"
          ]
        },
        {
          "output_type": "stream",
          "name": "stdout",
          "text": [
            "[CV 5/5] END model__C=1, model__gamma=0.1, smote__k_neighbors=7; accuracy: (test=0.962) f1: (test=0.000) mcc: (test=0.000) precision: (test=0.000) recall: (test=0.000) roc_auc: (test=0.588) specificity: (test=1.000) total time=   0.1s\n",
            "[CV 1/5] END model__C=1, model__gamma=1, smote__k_neighbors=3; accuracy: (test=0.962) f1: (test=0.000) mcc: (test=0.000) precision: (test=0.000) recall: (test=0.000) roc_auc: (test=0.500) specificity: (test=1.000) total time=   0.1s\n"
          ]
        },
        {
          "output_type": "stream",
          "name": "stderr",
          "text": [
            "/usr/local/lib/python3.10/dist-packages/sklearn/metrics/_classification.py:1344: UndefinedMetricWarning: Precision is ill-defined and being set to 0.0 due to no predicted samples. Use `zero_division` parameter to control this behavior.\n",
            "  _warn_prf(average, modifier, msg_start, len(result))\n",
            "/usr/local/lib/python3.10/dist-packages/sklearn/metrics/_classification.py:1344: UndefinedMetricWarning: Precision is ill-defined and being set to 0.0 due to no predicted samples. Use `zero_division` parameter to control this behavior.\n",
            "  _warn_prf(average, modifier, msg_start, len(result))\n"
          ]
        },
        {
          "output_type": "stream",
          "name": "stdout",
          "text": [
            "[CV 2/5] END model__C=1, model__gamma=1, smote__k_neighbors=3; accuracy: (test=0.962) f1: (test=0.000) mcc: (test=0.000) precision: (test=0.000) recall: (test=0.000) roc_auc: (test=0.500) specificity: (test=1.000) total time=   0.1s\n",
            "[CV 3/5] END model__C=1, model__gamma=1, smote__k_neighbors=3; accuracy: (test=0.954) f1: (test=0.000) mcc: (test=0.000) precision: (test=0.000) recall: (test=0.000) roc_auc: (test=0.500) specificity: (test=1.000) total time=   0.1s\n"
          ]
        },
        {
          "output_type": "stream",
          "name": "stderr",
          "text": [
            "/usr/local/lib/python3.10/dist-packages/sklearn/metrics/_classification.py:1344: UndefinedMetricWarning: Precision is ill-defined and being set to 0.0 due to no predicted samples. Use `zero_division` parameter to control this behavior.\n",
            "  _warn_prf(average, modifier, msg_start, len(result))\n",
            "/usr/local/lib/python3.10/dist-packages/sklearn/metrics/_classification.py:1344: UndefinedMetricWarning: Precision is ill-defined and being set to 0.0 due to no predicted samples. Use `zero_division` parameter to control this behavior.\n",
            "  _warn_prf(average, modifier, msg_start, len(result))\n",
            "/usr/local/lib/python3.10/dist-packages/sklearn/metrics/_classification.py:1344: UndefinedMetricWarning: Precision is ill-defined and being set to 0.0 due to no predicted samples. Use `zero_division` parameter to control this behavior.\n",
            "  _warn_prf(average, modifier, msg_start, len(result))\n"
          ]
        },
        {
          "output_type": "stream",
          "name": "stdout",
          "text": [
            "[CV 4/5] END model__C=1, model__gamma=1, smote__k_neighbors=3; accuracy: (test=0.954) f1: (test=0.000) mcc: (test=0.000) precision: (test=0.000) recall: (test=0.000) roc_auc: (test=0.500) specificity: (test=1.000) total time=   0.1s\n",
            "[CV 5/5] END model__C=1, model__gamma=1, smote__k_neighbors=3; accuracy: (test=0.962) f1: (test=0.000) mcc: (test=0.000) precision: (test=0.000) recall: (test=0.000) roc_auc: (test=0.500) specificity: (test=1.000) total time=   0.1s\n",
            "[CV 1/5] END model__C=1, model__gamma=1, smote__k_neighbors=5; accuracy: (test=0.962) f1: (test=0.000) mcc: (test=0.000) precision: (test=0.000) recall: (test=0.000) roc_auc: (test=0.500) specificity: (test=1.000) total time=   0.1s\n"
          ]
        },
        {
          "output_type": "stream",
          "name": "stderr",
          "text": [
            "/usr/local/lib/python3.10/dist-packages/sklearn/metrics/_classification.py:1344: UndefinedMetricWarning: Precision is ill-defined and being set to 0.0 due to no predicted samples. Use `zero_division` parameter to control this behavior.\n",
            "  _warn_prf(average, modifier, msg_start, len(result))\n",
            "/usr/local/lib/python3.10/dist-packages/sklearn/metrics/_classification.py:1344: UndefinedMetricWarning: Precision is ill-defined and being set to 0.0 due to no predicted samples. Use `zero_division` parameter to control this behavior.\n",
            "  _warn_prf(average, modifier, msg_start, len(result))\n",
            "/usr/local/lib/python3.10/dist-packages/sklearn/metrics/_classification.py:1344: UndefinedMetricWarning: Precision is ill-defined and being set to 0.0 due to no predicted samples. Use `zero_division` parameter to control this behavior.\n",
            "  _warn_prf(average, modifier, msg_start, len(result))\n"
          ]
        },
        {
          "output_type": "stream",
          "name": "stdout",
          "text": [
            "[CV 2/5] END model__C=1, model__gamma=1, smote__k_neighbors=5; accuracy: (test=0.962) f1: (test=0.000) mcc: (test=0.000) precision: (test=0.000) recall: (test=0.000) roc_auc: (test=0.500) specificity: (test=1.000) total time=   0.1s\n",
            "[CV 3/5] END model__C=1, model__gamma=1, smote__k_neighbors=5; accuracy: (test=0.954) f1: (test=0.000) mcc: (test=0.000) precision: (test=0.000) recall: (test=0.000) roc_auc: (test=0.500) specificity: (test=1.000) total time=   0.1s\n"
          ]
        },
        {
          "output_type": "stream",
          "name": "stderr",
          "text": [
            "/usr/local/lib/python3.10/dist-packages/sklearn/metrics/_classification.py:1344: UndefinedMetricWarning: Precision is ill-defined and being set to 0.0 due to no predicted samples. Use `zero_division` parameter to control this behavior.\n",
            "  _warn_prf(average, modifier, msg_start, len(result))\n"
          ]
        },
        {
          "output_type": "stream",
          "name": "stdout",
          "text": [
            "[CV 4/5] END model__C=1, model__gamma=1, smote__k_neighbors=5; accuracy: (test=0.954) f1: (test=0.000) mcc: (test=0.000) precision: (test=0.000) recall: (test=0.000) roc_auc: (test=0.500) specificity: (test=1.000) total time=   0.1s\n",
            "[CV 5/5] END model__C=1, model__gamma=1, smote__k_neighbors=5; accuracy: (test=0.962) f1: (test=0.000) mcc: (test=0.000) precision: (test=0.000) recall: (test=0.000) roc_auc: (test=0.500) specificity: (test=1.000) total time=   0.1s\n"
          ]
        },
        {
          "output_type": "stream",
          "name": "stderr",
          "text": [
            "/usr/local/lib/python3.10/dist-packages/sklearn/metrics/_classification.py:1344: UndefinedMetricWarning: Precision is ill-defined and being set to 0.0 due to no predicted samples. Use `zero_division` parameter to control this behavior.\n",
            "  _warn_prf(average, modifier, msg_start, len(result))\n",
            "/usr/local/lib/python3.10/dist-packages/sklearn/metrics/_classification.py:1344: UndefinedMetricWarning: Precision is ill-defined and being set to 0.0 due to no predicted samples. Use `zero_division` parameter to control this behavior.\n",
            "  _warn_prf(average, modifier, msg_start, len(result))\n"
          ]
        },
        {
          "output_type": "stream",
          "name": "stdout",
          "text": [
            "[CV 1/5] END model__C=1, model__gamma=1, smote__k_neighbors=7; accuracy: (test=0.962) f1: (test=0.000) mcc: (test=0.000) precision: (test=0.000) recall: (test=0.000) roc_auc: (test=0.500) specificity: (test=1.000) total time=   0.1s\n",
            "[CV 2/5] END model__C=1, model__gamma=1, smote__k_neighbors=7; accuracy: (test=0.962) f1: (test=0.000) mcc: (test=0.000) precision: (test=0.000) recall: (test=0.000) roc_auc: (test=0.500) specificity: (test=1.000) total time=   0.1s\n"
          ]
        },
        {
          "output_type": "stream",
          "name": "stderr",
          "text": [
            "/usr/local/lib/python3.10/dist-packages/sklearn/metrics/_classification.py:1344: UndefinedMetricWarning: Precision is ill-defined and being set to 0.0 due to no predicted samples. Use `zero_division` parameter to control this behavior.\n",
            "  _warn_prf(average, modifier, msg_start, len(result))\n",
            "/usr/local/lib/python3.10/dist-packages/sklearn/metrics/_classification.py:1344: UndefinedMetricWarning: Precision is ill-defined and being set to 0.0 due to no predicted samples. Use `zero_division` parameter to control this behavior.\n",
            "  _warn_prf(average, modifier, msg_start, len(result))\n"
          ]
        },
        {
          "output_type": "stream",
          "name": "stdout",
          "text": [
            "[CV 3/5] END model__C=1, model__gamma=1, smote__k_neighbors=7; accuracy: (test=0.954) f1: (test=0.000) mcc: (test=0.000) precision: (test=0.000) recall: (test=0.000) roc_auc: (test=0.500) specificity: (test=1.000) total time=   0.1s\n",
            "[CV 4/5] END model__C=1, model__gamma=1, smote__k_neighbors=7; accuracy: (test=0.954) f1: (test=0.000) mcc: (test=0.000) precision: (test=0.000) recall: (test=0.000) roc_auc: (test=0.500) specificity: (test=1.000) total time=   0.1s\n"
          ]
        },
        {
          "output_type": "stream",
          "name": "stderr",
          "text": [
            "/usr/local/lib/python3.10/dist-packages/sklearn/metrics/_classification.py:1344: UndefinedMetricWarning: Precision is ill-defined and being set to 0.0 due to no predicted samples. Use `zero_division` parameter to control this behavior.\n",
            "  _warn_prf(average, modifier, msg_start, len(result))\n",
            "/usr/local/lib/python3.10/dist-packages/sklearn/metrics/_classification.py:1344: UndefinedMetricWarning: Precision is ill-defined and being set to 0.0 due to no predicted samples. Use `zero_division` parameter to control this behavior.\n",
            "  _warn_prf(average, modifier, msg_start, len(result))\n"
          ]
        },
        {
          "output_type": "stream",
          "name": "stdout",
          "text": [
            "[CV 5/5] END model__C=1, model__gamma=1, smote__k_neighbors=7; accuracy: (test=0.962) f1: (test=0.000) mcc: (test=0.000) precision: (test=0.000) recall: (test=0.000) roc_auc: (test=0.500) specificity: (test=1.000) total time=   0.1s\n",
            "[CV 1/5] END model__C=10, model__gamma=0.001, smote__k_neighbors=3; accuracy: (test=0.954) f1: (test=0.000) mcc: (test=-0.017) precision: (test=0.000) recall: (test=0.000) roc_auc: (test=0.370) specificity: (test=0.992) total time=   0.1s\n",
            "[CV 2/5] END model__C=10, model__gamma=0.001, smote__k_neighbors=3; accuracy: (test=0.931) f1: (test=0.308) mcc: (test=0.282) precision: (test=0.250) recall: (test=0.400) roc_auc: (test=0.738) specificity: (test=0.952) total time=   0.1s\n",
            "[CV 3/5] END model__C=10, model__gamma=0.001, smote__k_neighbors=3; accuracy: (test=0.939) f1: (test=0.000) mcc: (test=-0.027) precision: (test=0.000) recall: (test=0.000) roc_auc: (test=0.631) specificity: (test=0.984) total time=   0.1s\n",
            "[CV 4/5] END model__C=10, model__gamma=0.001, smote__k_neighbors=3; accuracy: (test=0.947) f1: (test=0.000) mcc: (test=-0.019) precision: (test=0.000) recall: (test=0.000) roc_auc: (test=0.732) specificity: (test=0.992) total time=   0.1s\n",
            "[CV 5/5] END model__C=10, model__gamma=0.001, smote__k_neighbors=3; accuracy: (test=0.962) f1: (test=0.000) mcc: (test=0.000) precision: (test=0.000) recall: (test=0.000) roc_auc: (test=0.579) specificity: (test=1.000) total time=   0.1s\n"
          ]
        },
        {
          "output_type": "stream",
          "name": "stderr",
          "text": [
            "/usr/local/lib/python3.10/dist-packages/sklearn/metrics/_classification.py:1344: UndefinedMetricWarning: Precision is ill-defined and being set to 0.0 due to no predicted samples. Use `zero_division` parameter to control this behavior.\n",
            "  _warn_prf(average, modifier, msg_start, len(result))\n"
          ]
        },
        {
          "output_type": "stream",
          "name": "stdout",
          "text": [
            "[CV 1/5] END model__C=10, model__gamma=0.001, smote__k_neighbors=5; accuracy: (test=0.939) f1: (test=0.000) mcc: (test=-0.030) precision: (test=0.000) recall: (test=0.000) roc_auc: (test=0.375) specificity: (test=0.976) total time=   0.1s\n",
            "[CV 2/5] END model__C=10, model__gamma=0.001, smote__k_neighbors=5; accuracy: (test=0.885) f1: (test=0.211) mcc: (test=0.189) precision: (test=0.143) recall: (test=0.400) roc_auc: (test=0.710) specificity: (test=0.905) total time=   0.1s\n",
            "[CV 3/5] END model__C=10, model__gamma=0.001, smote__k_neighbors=5; accuracy: (test=0.931) f1: (test=0.000) mcc: (test=-0.034) precision: (test=0.000) recall: (test=0.000) roc_auc: (test=0.777) specificity: (test=0.976) total time=   0.1s\n",
            "[CV 4/5] END model__C=10, model__gamma=0.001, smote__k_neighbors=5; accuracy: (test=0.931) f1: (test=0.182) mcc: (test=0.147) precision: (test=0.200) recall: (test=0.167) roc_auc: (test=0.677) specificity: (test=0.968) total time=   0.1s\n",
            "[CV 5/5] END model__C=10, model__gamma=0.001, smote__k_neighbors=5; accuracy: (test=0.962) f1: (test=0.000) mcc: (test=0.000) precision: (test=0.000) recall: (test=0.000) roc_auc: (test=0.734) specificity: (test=1.000) total time=   0.1s\n",
            "[CV 1/5] END model__C=10, model__gamma=0.001, smote__k_neighbors=7; accuracy: (test=0.931) f1: (test=0.000) mcc: (test=-0.035) precision: (test=0.000) recall: (test=0.000) roc_auc: (test=0.373) specificity: (test=0.968) total time=   0.1s\n"
          ]
        },
        {
          "output_type": "stream",
          "name": "stderr",
          "text": [
            "/usr/local/lib/python3.10/dist-packages/sklearn/metrics/_classification.py:1344: UndefinedMetricWarning: Precision is ill-defined and being set to 0.0 due to no predicted samples. Use `zero_division` parameter to control this behavior.\n",
            "  _warn_prf(average, modifier, msg_start, len(result))\n"
          ]
        },
        {
          "output_type": "stream",
          "name": "stdout",
          "text": [
            "[CV 2/5] END model__C=10, model__gamma=0.001, smote__k_neighbors=7; accuracy: (test=0.863) f1: (test=0.182) mcc: (test=0.160) precision: (test=0.118) recall: (test=0.400) roc_auc: (test=0.724) specificity: (test=0.881) total time=   0.1s\n",
            "[CV 3/5] END model__C=10, model__gamma=0.001, smote__k_neighbors=7; accuracy: (test=0.924) f1: (test=0.000) mcc: (test=-0.039) precision: (test=0.000) recall: (test=0.000) roc_auc: (test=0.759) specificity: (test=0.968) total time=   0.1s\n",
            "[CV 4/5] END model__C=10, model__gamma=0.001, smote__k_neighbors=7; accuracy: (test=0.924) f1: (test=0.167) mcc: (test=0.127) precision: (test=0.167) recall: (test=0.167) roc_auc: (test=0.665) specificity: (test=0.960) total time=   0.1s\n",
            "[CV 5/5] END model__C=10, model__gamma=0.001, smote__k_neighbors=7; accuracy: (test=0.954) f1: (test=0.000) mcc: (test=-0.018) precision: (test=0.000) recall: (test=0.000) roc_auc: (test=0.626) specificity: (test=0.992) total time=   0.1s\n",
            "[CV 1/5] END model__C=10, model__gamma=0.01, smote__k_neighbors=3; accuracy: (test=0.962) f1: (test=0.000) mcc: (test=0.000) precision: (test=0.000) recall: (test=0.000) roc_auc: (test=0.386) specificity: (test=1.000) total time=   0.1s\n"
          ]
        },
        {
          "output_type": "stream",
          "name": "stderr",
          "text": [
            "/usr/local/lib/python3.10/dist-packages/sklearn/metrics/_classification.py:1344: UndefinedMetricWarning: Precision is ill-defined and being set to 0.0 due to no predicted samples. Use `zero_division` parameter to control this behavior.\n",
            "  _warn_prf(average, modifier, msg_start, len(result))\n",
            "/usr/local/lib/python3.10/dist-packages/sklearn/metrics/_classification.py:1344: UndefinedMetricWarning: Precision is ill-defined and being set to 0.0 due to no predicted samples. Use `zero_division` parameter to control this behavior.\n",
            "  _warn_prf(average, modifier, msg_start, len(result))\n"
          ]
        },
        {
          "output_type": "stream",
          "name": "stdout",
          "text": [
            "[CV 2/5] END model__C=10, model__gamma=0.01, smote__k_neighbors=3; accuracy: (test=0.962) f1: (test=0.000) mcc: (test=0.000) precision: (test=0.000) recall: (test=0.000) roc_auc: (test=0.614) specificity: (test=1.000) total time=   0.1s\n",
            "[CV 3/5] END model__C=10, model__gamma=0.01, smote__k_neighbors=3; accuracy: (test=0.954) f1: (test=0.000) mcc: (test=0.000) precision: (test=0.000) recall: (test=0.000) roc_auc: (test=0.754) specificity: (test=1.000) total time=   0.1s\n"
          ]
        },
        {
          "output_type": "stream",
          "name": "stderr",
          "text": [
            "/usr/local/lib/python3.10/dist-packages/sklearn/metrics/_classification.py:1344: UndefinedMetricWarning: Precision is ill-defined and being set to 0.0 due to no predicted samples. Use `zero_division` parameter to control this behavior.\n",
            "  _warn_prf(average, modifier, msg_start, len(result))\n",
            "/usr/local/lib/python3.10/dist-packages/sklearn/metrics/_classification.py:1344: UndefinedMetricWarning: Precision is ill-defined and being set to 0.0 due to no predicted samples. Use `zero_division` parameter to control this behavior.\n",
            "  _warn_prf(average, modifier, msg_start, len(result))\n"
          ]
        },
        {
          "output_type": "stream",
          "name": "stdout",
          "text": [
            "[CV 4/5] END model__C=10, model__gamma=0.01, smote__k_neighbors=3; accuracy: (test=0.954) f1: (test=0.000) mcc: (test=0.000) precision: (test=0.000) recall: (test=0.000) roc_auc: (test=0.663) specificity: (test=1.000) total time=   0.1s\n",
            "[CV 5/5] END model__C=10, model__gamma=0.01, smote__k_neighbors=3; accuracy: (test=0.962) f1: (test=0.000) mcc: (test=0.000) precision: (test=0.000) recall: (test=0.000) roc_auc: (test=0.606) specificity: (test=1.000) total time=   0.1s\n"
          ]
        },
        {
          "output_type": "stream",
          "name": "stderr",
          "text": [
            "/usr/local/lib/python3.10/dist-packages/sklearn/metrics/_classification.py:1344: UndefinedMetricWarning: Precision is ill-defined and being set to 0.0 due to no predicted samples. Use `zero_division` parameter to control this behavior.\n",
            "  _warn_prf(average, modifier, msg_start, len(result))\n",
            "/usr/local/lib/python3.10/dist-packages/sklearn/metrics/_classification.py:1344: UndefinedMetricWarning: Precision is ill-defined and being set to 0.0 due to no predicted samples. Use `zero_division` parameter to control this behavior.\n",
            "  _warn_prf(average, modifier, msg_start, len(result))\n"
          ]
        },
        {
          "output_type": "stream",
          "name": "stdout",
          "text": [
            "[CV 1/5] END model__C=10, model__gamma=0.01, smote__k_neighbors=5; accuracy: (test=0.962) f1: (test=0.000) mcc: (test=0.000) precision: (test=0.000) recall: (test=0.000) roc_auc: (test=0.378) specificity: (test=1.000) total time=   0.1s\n",
            "[CV 2/5] END model__C=10, model__gamma=0.01, smote__k_neighbors=5; accuracy: (test=0.962) f1: (test=0.000) mcc: (test=0.000) precision: (test=0.000) recall: (test=0.000) roc_auc: (test=0.586) specificity: (test=1.000) total time=   0.1s\n"
          ]
        },
        {
          "output_type": "stream",
          "name": "stderr",
          "text": [
            "/usr/local/lib/python3.10/dist-packages/sklearn/metrics/_classification.py:1344: UndefinedMetricWarning: Precision is ill-defined and being set to 0.0 due to no predicted samples. Use `zero_division` parameter to control this behavior.\n",
            "  _warn_prf(average, modifier, msg_start, len(result))\n",
            "/usr/local/lib/python3.10/dist-packages/sklearn/metrics/_classification.py:1344: UndefinedMetricWarning: Precision is ill-defined and being set to 0.0 due to no predicted samples. Use `zero_division` parameter to control this behavior.\n",
            "  _warn_prf(average, modifier, msg_start, len(result))\n"
          ]
        },
        {
          "output_type": "stream",
          "name": "stdout",
          "text": [
            "[CV 3/5] END model__C=10, model__gamma=0.01, smote__k_neighbors=5; accuracy: (test=0.954) f1: (test=0.000) mcc: (test=0.000) precision: (test=0.000) recall: (test=0.000) roc_auc: (test=0.646) specificity: (test=1.000) total time=   0.1s\n",
            "[CV 4/5] END model__C=10, model__gamma=0.01, smote__k_neighbors=5; accuracy: (test=0.954) f1: (test=0.000) mcc: (test=0.000) precision: (test=0.000) recall: (test=0.000) roc_auc: (test=0.655) specificity: (test=1.000) total time=   0.1s\n"
          ]
        },
        {
          "output_type": "stream",
          "name": "stderr",
          "text": [
            "/usr/local/lib/python3.10/dist-packages/sklearn/metrics/_classification.py:1344: UndefinedMetricWarning: Precision is ill-defined and being set to 0.0 due to no predicted samples. Use `zero_division` parameter to control this behavior.\n",
            "  _warn_prf(average, modifier, msg_start, len(result))\n",
            "/usr/local/lib/python3.10/dist-packages/sklearn/metrics/_classification.py:1344: UndefinedMetricWarning: Precision is ill-defined and being set to 0.0 due to no predicted samples. Use `zero_division` parameter to control this behavior.\n",
            "  _warn_prf(average, modifier, msg_start, len(result))\n"
          ]
        },
        {
          "output_type": "stream",
          "name": "stdout",
          "text": [
            "[CV 5/5] END model__C=10, model__gamma=0.01, smote__k_neighbors=5; accuracy: (test=0.962) f1: (test=0.000) mcc: (test=0.000) precision: (test=0.000) recall: (test=0.000) roc_auc: (test=0.593) specificity: (test=1.000) total time=   0.2s\n",
            "[CV 1/5] END model__C=10, model__gamma=0.01, smote__k_neighbors=7; accuracy: (test=0.962) f1: (test=0.000) mcc: (test=0.000) precision: (test=0.000) recall: (test=0.000) roc_auc: (test=0.371) specificity: (test=1.000) total time=   0.2s\n"
          ]
        },
        {
          "output_type": "stream",
          "name": "stderr",
          "text": [
            "/usr/local/lib/python3.10/dist-packages/sklearn/metrics/_classification.py:1344: UndefinedMetricWarning: Precision is ill-defined and being set to 0.0 due to no predicted samples. Use `zero_division` parameter to control this behavior.\n",
            "  _warn_prf(average, modifier, msg_start, len(result))\n",
            "/usr/local/lib/python3.10/dist-packages/sklearn/metrics/_classification.py:1344: UndefinedMetricWarning: Precision is ill-defined and being set to 0.0 due to no predicted samples. Use `zero_division` parameter to control this behavior.\n",
            "  _warn_prf(average, modifier, msg_start, len(result))\n"
          ]
        },
        {
          "output_type": "stream",
          "name": "stdout",
          "text": [
            "[CV 2/5] END model__C=10, model__gamma=0.01, smote__k_neighbors=7; accuracy: (test=0.962) f1: (test=0.000) mcc: (test=0.000) precision: (test=0.000) recall: (test=0.000) roc_auc: (test=0.583) specificity: (test=1.000) total time=   0.2s\n"
          ]
        },
        {
          "output_type": "stream",
          "name": "stderr",
          "text": [
            "/usr/local/lib/python3.10/dist-packages/sklearn/metrics/_classification.py:1344: UndefinedMetricWarning: Precision is ill-defined and being set to 0.0 due to no predicted samples. Use `zero_division` parameter to control this behavior.\n",
            "  _warn_prf(average, modifier, msg_start, len(result))\n"
          ]
        },
        {
          "output_type": "stream",
          "name": "stdout",
          "text": [
            "[CV 3/5] END model__C=10, model__gamma=0.01, smote__k_neighbors=7; accuracy: (test=0.954) f1: (test=0.000) mcc: (test=0.000) precision: (test=0.000) recall: (test=0.000) roc_auc: (test=0.698) specificity: (test=1.000) total time=   0.2s\n"
          ]
        },
        {
          "output_type": "stream",
          "name": "stderr",
          "text": [
            "/usr/local/lib/python3.10/dist-packages/sklearn/metrics/_classification.py:1344: UndefinedMetricWarning: Precision is ill-defined and being set to 0.0 due to no predicted samples. Use `zero_division` parameter to control this behavior.\n",
            "  _warn_prf(average, modifier, msg_start, len(result))\n",
            "/usr/local/lib/python3.10/dist-packages/sklearn/metrics/_classification.py:1344: UndefinedMetricWarning: Precision is ill-defined and being set to 0.0 due to no predicted samples. Use `zero_division` parameter to control this behavior.\n",
            "  _warn_prf(average, modifier, msg_start, len(result))\n"
          ]
        },
        {
          "output_type": "stream",
          "name": "stdout",
          "text": [
            "[CV 4/5] END model__C=10, model__gamma=0.01, smote__k_neighbors=7; accuracy: (test=0.954) f1: (test=0.000) mcc: (test=0.000) precision: (test=0.000) recall: (test=0.000) roc_auc: (test=0.643) specificity: (test=1.000) total time=   0.2s\n",
            "[CV 5/5] END model__C=10, model__gamma=0.01, smote__k_neighbors=7; accuracy: (test=0.962) f1: (test=0.000) mcc: (test=0.000) precision: (test=0.000) recall: (test=0.000) roc_auc: (test=0.646) specificity: (test=1.000) total time=   0.2s\n"
          ]
        },
        {
          "output_type": "stream",
          "name": "stderr",
          "text": [
            "/usr/local/lib/python3.10/dist-packages/sklearn/metrics/_classification.py:1344: UndefinedMetricWarning: Precision is ill-defined and being set to 0.0 due to no predicted samples. Use `zero_division` parameter to control this behavior.\n",
            "  _warn_prf(average, modifier, msg_start, len(result))\n"
          ]
        },
        {
          "output_type": "stream",
          "name": "stdout",
          "text": [
            "[CV 1/5] END model__C=10, model__gamma=0.1, smote__k_neighbors=3; accuracy: (test=0.962) f1: (test=0.000) mcc: (test=0.000) precision: (test=0.000) recall: (test=0.000) roc_auc: (test=0.516) specificity: (test=1.000) total time=   0.2s\n"
          ]
        },
        {
          "output_type": "stream",
          "name": "stderr",
          "text": [
            "/usr/local/lib/python3.10/dist-packages/sklearn/metrics/_classification.py:1344: UndefinedMetricWarning: Precision is ill-defined and being set to 0.0 due to no predicted samples. Use `zero_division` parameter to control this behavior.\n",
            "  _warn_prf(average, modifier, msg_start, len(result))\n"
          ]
        },
        {
          "output_type": "stream",
          "name": "stdout",
          "text": [
            "[CV 2/5] END model__C=10, model__gamma=0.1, smote__k_neighbors=3; accuracy: (test=0.962) f1: (test=0.000) mcc: (test=0.000) precision: (test=0.000) recall: (test=0.000) roc_auc: (test=0.508) specificity: (test=1.000) total time=   0.3s\n"
          ]
        },
        {
          "output_type": "stream",
          "name": "stderr",
          "text": [
            "/usr/local/lib/python3.10/dist-packages/sklearn/metrics/_classification.py:1344: UndefinedMetricWarning: Precision is ill-defined and being set to 0.0 due to no predicted samples. Use `zero_division` parameter to control this behavior.\n",
            "  _warn_prf(average, modifier, msg_start, len(result))\n"
          ]
        },
        {
          "output_type": "stream",
          "name": "stdout",
          "text": [
            "[CV 3/5] END model__C=10, model__gamma=0.1, smote__k_neighbors=3; accuracy: (test=0.954) f1: (test=0.000) mcc: (test=0.000) precision: (test=0.000) recall: (test=0.000) roc_auc: (test=0.548) specificity: (test=1.000) total time=   0.2s\n"
          ]
        },
        {
          "output_type": "stream",
          "name": "stderr",
          "text": [
            "/usr/local/lib/python3.10/dist-packages/sklearn/metrics/_classification.py:1344: UndefinedMetricWarning: Precision is ill-defined and being set to 0.0 due to no predicted samples. Use `zero_division` parameter to control this behavior.\n",
            "  _warn_prf(average, modifier, msg_start, len(result))\n"
          ]
        },
        {
          "output_type": "stream",
          "name": "stdout",
          "text": [
            "[CV 4/5] END model__C=10, model__gamma=0.1, smote__k_neighbors=3; accuracy: (test=0.954) f1: (test=0.000) mcc: (test=0.000) precision: (test=0.000) recall: (test=0.000) roc_auc: (test=0.544) specificity: (test=1.000) total time=   0.3s\n"
          ]
        },
        {
          "output_type": "stream",
          "name": "stderr",
          "text": [
            "/usr/local/lib/python3.10/dist-packages/sklearn/metrics/_classification.py:1344: UndefinedMetricWarning: Precision is ill-defined and being set to 0.0 due to no predicted samples. Use `zero_division` parameter to control this behavior.\n",
            "  _warn_prf(average, modifier, msg_start, len(result))\n"
          ]
        },
        {
          "output_type": "stream",
          "name": "stdout",
          "text": [
            "[CV 5/5] END model__C=10, model__gamma=0.1, smote__k_neighbors=3; accuracy: (test=0.962) f1: (test=0.000) mcc: (test=0.000) precision: (test=0.000) recall: (test=0.000) roc_auc: (test=0.580) specificity: (test=1.000) total time=   0.2s\n"
          ]
        },
        {
          "output_type": "stream",
          "name": "stderr",
          "text": [
            "/usr/local/lib/python3.10/dist-packages/sklearn/metrics/_classification.py:1344: UndefinedMetricWarning: Precision is ill-defined and being set to 0.0 due to no predicted samples. Use `zero_division` parameter to control this behavior.\n",
            "  _warn_prf(average, modifier, msg_start, len(result))\n"
          ]
        },
        {
          "output_type": "stream",
          "name": "stdout",
          "text": [
            "[CV 1/5] END model__C=10, model__gamma=0.1, smote__k_neighbors=5; accuracy: (test=0.962) f1: (test=0.000) mcc: (test=0.000) precision: (test=0.000) recall: (test=0.000) roc_auc: (test=0.516) specificity: (test=1.000) total time=   0.3s\n"
          ]
        },
        {
          "output_type": "stream",
          "name": "stderr",
          "text": [
            "/usr/local/lib/python3.10/dist-packages/sklearn/metrics/_classification.py:1344: UndefinedMetricWarning: Precision is ill-defined and being set to 0.0 due to no predicted samples. Use `zero_division` parameter to control this behavior.\n",
            "  _warn_prf(average, modifier, msg_start, len(result))\n"
          ]
        },
        {
          "output_type": "stream",
          "name": "stdout",
          "text": [
            "[CV 2/5] END model__C=10, model__gamma=0.1, smote__k_neighbors=5; accuracy: (test=0.962) f1: (test=0.000) mcc: (test=0.000) precision: (test=0.000) recall: (test=0.000) roc_auc: (test=0.504) specificity: (test=1.000) total time=   0.3s\n"
          ]
        },
        {
          "output_type": "stream",
          "name": "stderr",
          "text": [
            "/usr/local/lib/python3.10/dist-packages/sklearn/metrics/_classification.py:1344: UndefinedMetricWarning: Precision is ill-defined and being set to 0.0 due to no predicted samples. Use `zero_division` parameter to control this behavior.\n",
            "  _warn_prf(average, modifier, msg_start, len(result))\n"
          ]
        },
        {
          "output_type": "stream",
          "name": "stdout",
          "text": [
            "[CV 3/5] END model__C=10, model__gamma=0.1, smote__k_neighbors=5; accuracy: (test=0.954) f1: (test=0.000) mcc: (test=0.000) precision: (test=0.000) recall: (test=0.000) roc_auc: (test=0.548) specificity: (test=1.000) total time=   0.2s\n"
          ]
        },
        {
          "output_type": "stream",
          "name": "stderr",
          "text": [
            "/usr/local/lib/python3.10/dist-packages/sklearn/metrics/_classification.py:1344: UndefinedMetricWarning: Precision is ill-defined and being set to 0.0 due to no predicted samples. Use `zero_division` parameter to control this behavior.\n",
            "  _warn_prf(average, modifier, msg_start, len(result))\n"
          ]
        },
        {
          "output_type": "stream",
          "name": "stdout",
          "text": [
            "[CV 4/5] END model__C=10, model__gamma=0.1, smote__k_neighbors=5; accuracy: (test=0.954) f1: (test=0.000) mcc: (test=0.000) precision: (test=0.000) recall: (test=0.000) roc_auc: (test=0.548) specificity: (test=1.000) total time=   0.2s\n"
          ]
        },
        {
          "output_type": "stream",
          "name": "stderr",
          "text": [
            "/usr/local/lib/python3.10/dist-packages/sklearn/metrics/_classification.py:1344: UndefinedMetricWarning: Precision is ill-defined and being set to 0.0 due to no predicted samples. Use `zero_division` parameter to control this behavior.\n",
            "  _warn_prf(average, modifier, msg_start, len(result))\n",
            "/usr/local/lib/python3.10/dist-packages/sklearn/metrics/_classification.py:1344: UndefinedMetricWarning: Precision is ill-defined and being set to 0.0 due to no predicted samples. Use `zero_division` parameter to control this behavior.\n",
            "  _warn_prf(average, modifier, msg_start, len(result))\n"
          ]
        },
        {
          "output_type": "stream",
          "name": "stdout",
          "text": [
            "[CV 5/5] END model__C=10, model__gamma=0.1, smote__k_neighbors=5; accuracy: (test=0.962) f1: (test=0.000) mcc: (test=0.000) precision: (test=0.000) recall: (test=0.000) roc_auc: (test=0.592) specificity: (test=1.000) total time=   0.2s\n",
            "[CV 1/5] END model__C=10, model__gamma=0.1, smote__k_neighbors=7; accuracy: (test=0.962) f1: (test=0.000) mcc: (test=0.000) precision: (test=0.000) recall: (test=0.000) roc_auc: (test=0.512) specificity: (test=1.000) total time=   0.1s\n"
          ]
        },
        {
          "output_type": "stream",
          "name": "stderr",
          "text": [
            "/usr/local/lib/python3.10/dist-packages/sklearn/metrics/_classification.py:1344: UndefinedMetricWarning: Precision is ill-defined and being set to 0.0 due to no predicted samples. Use `zero_division` parameter to control this behavior.\n",
            "  _warn_prf(average, modifier, msg_start, len(result))\n",
            "/usr/local/lib/python3.10/dist-packages/sklearn/metrics/_classification.py:1344: UndefinedMetricWarning: Precision is ill-defined and being set to 0.0 due to no predicted samples. Use `zero_division` parameter to control this behavior.\n",
            "  _warn_prf(average, modifier, msg_start, len(result))\n"
          ]
        },
        {
          "output_type": "stream",
          "name": "stdout",
          "text": [
            "[CV 2/5] END model__C=10, model__gamma=0.1, smote__k_neighbors=7; accuracy: (test=0.962) f1: (test=0.000) mcc: (test=0.000) precision: (test=0.000) recall: (test=0.000) roc_auc: (test=0.496) specificity: (test=1.000) total time=   0.1s\n",
            "[CV 3/5] END model__C=10, model__gamma=0.1, smote__k_neighbors=7; accuracy: (test=0.954) f1: (test=0.000) mcc: (test=0.000) precision: (test=0.000) recall: (test=0.000) roc_auc: (test=0.548) specificity: (test=1.000) total time=   0.1s\n"
          ]
        },
        {
          "output_type": "stream",
          "name": "stderr",
          "text": [
            "/usr/local/lib/python3.10/dist-packages/sklearn/metrics/_classification.py:1344: UndefinedMetricWarning: Precision is ill-defined and being set to 0.0 due to no predicted samples. Use `zero_division` parameter to control this behavior.\n",
            "  _warn_prf(average, modifier, msg_start, len(result))\n",
            "/usr/local/lib/python3.10/dist-packages/sklearn/metrics/_classification.py:1344: UndefinedMetricWarning: Precision is ill-defined and being set to 0.0 due to no predicted samples. Use `zero_division` parameter to control this behavior.\n",
            "  _warn_prf(average, modifier, msg_start, len(result))\n"
          ]
        },
        {
          "output_type": "stream",
          "name": "stdout",
          "text": [
            "[CV 4/5] END model__C=10, model__gamma=0.1, smote__k_neighbors=7; accuracy: (test=0.954) f1: (test=0.000) mcc: (test=0.000) precision: (test=0.000) recall: (test=0.000) roc_auc: (test=0.544) specificity: (test=1.000) total time=   0.1s\n",
            "[CV 5/5] END model__C=10, model__gamma=0.1, smote__k_neighbors=7; accuracy: (test=0.962) f1: (test=0.000) mcc: (test=0.000) precision: (test=0.000) recall: (test=0.000) roc_auc: (test=0.588) specificity: (test=1.000) total time=   0.1s\n"
          ]
        },
        {
          "output_type": "stream",
          "name": "stderr",
          "text": [
            "/usr/local/lib/python3.10/dist-packages/sklearn/metrics/_classification.py:1344: UndefinedMetricWarning: Precision is ill-defined and being set to 0.0 due to no predicted samples. Use `zero_division` parameter to control this behavior.\n",
            "  _warn_prf(average, modifier, msg_start, len(result))\n",
            "/usr/local/lib/python3.10/dist-packages/sklearn/metrics/_classification.py:1344: UndefinedMetricWarning: Precision is ill-defined and being set to 0.0 due to no predicted samples. Use `zero_division` parameter to control this behavior.\n",
            "  _warn_prf(average, modifier, msg_start, len(result))\n"
          ]
        },
        {
          "output_type": "stream",
          "name": "stdout",
          "text": [
            "[CV 1/5] END model__C=10, model__gamma=1, smote__k_neighbors=3; accuracy: (test=0.962) f1: (test=0.000) mcc: (test=0.000) precision: (test=0.000) recall: (test=0.000) roc_auc: (test=0.500) specificity: (test=1.000) total time=   0.1s\n",
            "[CV 2/5] END model__C=10, model__gamma=1, smote__k_neighbors=3; accuracy: (test=0.962) f1: (test=0.000) mcc: (test=0.000) precision: (test=0.000) recall: (test=0.000) roc_auc: (test=0.500) specificity: (test=1.000) total time=   0.1s\n"
          ]
        },
        {
          "output_type": "stream",
          "name": "stderr",
          "text": [
            "/usr/local/lib/python3.10/dist-packages/sklearn/metrics/_classification.py:1344: UndefinedMetricWarning: Precision is ill-defined and being set to 0.0 due to no predicted samples. Use `zero_division` parameter to control this behavior.\n",
            "  _warn_prf(average, modifier, msg_start, len(result))\n",
            "/usr/local/lib/python3.10/dist-packages/sklearn/metrics/_classification.py:1344: UndefinedMetricWarning: Precision is ill-defined and being set to 0.0 due to no predicted samples. Use `zero_division` parameter to control this behavior.\n",
            "  _warn_prf(average, modifier, msg_start, len(result))\n"
          ]
        },
        {
          "output_type": "stream",
          "name": "stdout",
          "text": [
            "[CV 3/5] END model__C=10, model__gamma=1, smote__k_neighbors=3; accuracy: (test=0.954) f1: (test=0.000) mcc: (test=0.000) precision: (test=0.000) recall: (test=0.000) roc_auc: (test=0.500) specificity: (test=1.000) total time=   0.1s\n",
            "[CV 4/5] END model__C=10, model__gamma=1, smote__k_neighbors=3; accuracy: (test=0.954) f1: (test=0.000) mcc: (test=0.000) precision: (test=0.000) recall: (test=0.000) roc_auc: (test=0.500) specificity: (test=1.000) total time=   0.1s\n"
          ]
        },
        {
          "output_type": "stream",
          "name": "stderr",
          "text": [
            "/usr/local/lib/python3.10/dist-packages/sklearn/metrics/_classification.py:1344: UndefinedMetricWarning: Precision is ill-defined and being set to 0.0 due to no predicted samples. Use `zero_division` parameter to control this behavior.\n",
            "  _warn_prf(average, modifier, msg_start, len(result))\n",
            "/usr/local/lib/python3.10/dist-packages/sklearn/metrics/_classification.py:1344: UndefinedMetricWarning: Precision is ill-defined and being set to 0.0 due to no predicted samples. Use `zero_division` parameter to control this behavior.\n",
            "  _warn_prf(average, modifier, msg_start, len(result))\n"
          ]
        },
        {
          "output_type": "stream",
          "name": "stdout",
          "text": [
            "[CV 5/5] END model__C=10, model__gamma=1, smote__k_neighbors=3; accuracy: (test=0.962) f1: (test=0.000) mcc: (test=0.000) precision: (test=0.000) recall: (test=0.000) roc_auc: (test=0.500) specificity: (test=1.000) total time=   0.1s\n",
            "[CV 1/5] END model__C=10, model__gamma=1, smote__k_neighbors=5; accuracy: (test=0.962) f1: (test=0.000) mcc: (test=0.000) precision: (test=0.000) recall: (test=0.000) roc_auc: (test=0.500) specificity: (test=1.000) total time=   0.1s\n"
          ]
        },
        {
          "output_type": "stream",
          "name": "stderr",
          "text": [
            "/usr/local/lib/python3.10/dist-packages/sklearn/metrics/_classification.py:1344: UndefinedMetricWarning: Precision is ill-defined and being set to 0.0 due to no predicted samples. Use `zero_division` parameter to control this behavior.\n",
            "  _warn_prf(average, modifier, msg_start, len(result))\n",
            "/usr/local/lib/python3.10/dist-packages/sklearn/metrics/_classification.py:1344: UndefinedMetricWarning: Precision is ill-defined and being set to 0.0 due to no predicted samples. Use `zero_division` parameter to control this behavior.\n",
            "  _warn_prf(average, modifier, msg_start, len(result))\n"
          ]
        },
        {
          "output_type": "stream",
          "name": "stdout",
          "text": [
            "[CV 2/5] END model__C=10, model__gamma=1, smote__k_neighbors=5; accuracy: (test=0.962) f1: (test=0.000) mcc: (test=0.000) precision: (test=0.000) recall: (test=0.000) roc_auc: (test=0.500) specificity: (test=1.000) total time=   0.1s\n",
            "[CV 3/5] END model__C=10, model__gamma=1, smote__k_neighbors=5; accuracy: (test=0.954) f1: (test=0.000) mcc: (test=0.000) precision: (test=0.000) recall: (test=0.000) roc_auc: (test=0.500) specificity: (test=1.000) total time=   0.1s\n"
          ]
        },
        {
          "output_type": "stream",
          "name": "stderr",
          "text": [
            "/usr/local/lib/python3.10/dist-packages/sklearn/metrics/_classification.py:1344: UndefinedMetricWarning: Precision is ill-defined and being set to 0.0 due to no predicted samples. Use `zero_division` parameter to control this behavior.\n",
            "  _warn_prf(average, modifier, msg_start, len(result))\n",
            "/usr/local/lib/python3.10/dist-packages/sklearn/metrics/_classification.py:1344: UndefinedMetricWarning: Precision is ill-defined and being set to 0.0 due to no predicted samples. Use `zero_division` parameter to control this behavior.\n",
            "  _warn_prf(average, modifier, msg_start, len(result))\n"
          ]
        },
        {
          "output_type": "stream",
          "name": "stdout",
          "text": [
            "[CV 4/5] END model__C=10, model__gamma=1, smote__k_neighbors=5; accuracy: (test=0.954) f1: (test=0.000) mcc: (test=0.000) precision: (test=0.000) recall: (test=0.000) roc_auc: (test=0.500) specificity: (test=1.000) total time=   0.1s\n",
            "[CV 5/5] END model__C=10, model__gamma=1, smote__k_neighbors=5; accuracy: (test=0.962) f1: (test=0.000) mcc: (test=0.000) precision: (test=0.000) recall: (test=0.000) roc_auc: (test=0.500) specificity: (test=1.000) total time=   0.1s\n"
          ]
        },
        {
          "output_type": "stream",
          "name": "stderr",
          "text": [
            "/usr/local/lib/python3.10/dist-packages/sklearn/metrics/_classification.py:1344: UndefinedMetricWarning: Precision is ill-defined and being set to 0.0 due to no predicted samples. Use `zero_division` parameter to control this behavior.\n",
            "  _warn_prf(average, modifier, msg_start, len(result))\n",
            "/usr/local/lib/python3.10/dist-packages/sklearn/metrics/_classification.py:1344: UndefinedMetricWarning: Precision is ill-defined and being set to 0.0 due to no predicted samples. Use `zero_division` parameter to control this behavior.\n",
            "  _warn_prf(average, modifier, msg_start, len(result))\n"
          ]
        },
        {
          "output_type": "stream",
          "name": "stdout",
          "text": [
            "[CV 1/5] END model__C=10, model__gamma=1, smote__k_neighbors=7; accuracy: (test=0.962) f1: (test=0.000) mcc: (test=0.000) precision: (test=0.000) recall: (test=0.000) roc_auc: (test=0.500) specificity: (test=1.000) total time=   0.1s\n",
            "[CV 2/5] END model__C=10, model__gamma=1, smote__k_neighbors=7; accuracy: (test=0.962) f1: (test=0.000) mcc: (test=0.000) precision: (test=0.000) recall: (test=0.000) roc_auc: (test=0.500) specificity: (test=1.000) total time=   0.1s\n"
          ]
        },
        {
          "output_type": "stream",
          "name": "stderr",
          "text": [
            "/usr/local/lib/python3.10/dist-packages/sklearn/metrics/_classification.py:1344: UndefinedMetricWarning: Precision is ill-defined and being set to 0.0 due to no predicted samples. Use `zero_division` parameter to control this behavior.\n",
            "  _warn_prf(average, modifier, msg_start, len(result))\n",
            "/usr/local/lib/python3.10/dist-packages/sklearn/metrics/_classification.py:1344: UndefinedMetricWarning: Precision is ill-defined and being set to 0.0 due to no predicted samples. Use `zero_division` parameter to control this behavior.\n",
            "  _warn_prf(average, modifier, msg_start, len(result))\n",
            "/usr/local/lib/python3.10/dist-packages/sklearn/metrics/_classification.py:1344: UndefinedMetricWarning: Precision is ill-defined and being set to 0.0 due to no predicted samples. Use `zero_division` parameter to control this behavior.\n",
            "  _warn_prf(average, modifier, msg_start, len(result))\n"
          ]
        },
        {
          "output_type": "stream",
          "name": "stdout",
          "text": [
            "[CV 3/5] END model__C=10, model__gamma=1, smote__k_neighbors=7; accuracy: (test=0.954) f1: (test=0.000) mcc: (test=0.000) precision: (test=0.000) recall: (test=0.000) roc_auc: (test=0.500) specificity: (test=1.000) total time=   0.1s\n",
            "[CV 4/5] END model__C=10, model__gamma=1, smote__k_neighbors=7; accuracy: (test=0.954) f1: (test=0.000) mcc: (test=0.000) precision: (test=0.000) recall: (test=0.000) roc_auc: (test=0.500) specificity: (test=1.000) total time=   0.1s\n",
            "[CV 5/5] END model__C=10, model__gamma=1, smote__k_neighbors=7; accuracy: (test=0.962) f1: (test=0.000) mcc: (test=0.000) precision: (test=0.000) recall: (test=0.000) roc_auc: (test=0.500) specificity: (test=1.000) total time=   0.1s\n",
            "[CV 1/5] END model__C=100, model__gamma=0.001, smote__k_neighbors=3; accuracy: (test=0.954) f1: (test=0.000) mcc: (test=-0.017) precision: (test=0.000) recall: (test=0.000) roc_auc: (test=0.370) specificity: (test=0.992) total time=   0.1s\n",
            "[CV 2/5] END model__C=100, model__gamma=0.001, smote__k_neighbors=3; accuracy: (test=0.931) f1: (test=0.308) mcc: (test=0.282) precision: (test=0.250) recall: (test=0.400) roc_auc: (test=0.738) specificity: (test=0.952) total time=   0.1s\n",
            "[CV 3/5] END model__C=100, model__gamma=0.001, smote__k_neighbors=3; accuracy: (test=0.939) f1: (test=0.000) mcc: (test=-0.027) precision: (test=0.000) recall: (test=0.000) roc_auc: (test=0.631) specificity: (test=0.984) total time=   0.1s\n",
            "[CV 4/5] END model__C=100, model__gamma=0.001, smote__k_neighbors=3; accuracy: (test=0.947) f1: (test=0.000) mcc: (test=-0.019) precision: (test=0.000) recall: (test=0.000) roc_auc: (test=0.732) specificity: (test=0.992) total time=   0.1s\n",
            "[CV 5/5] END model__C=100, model__gamma=0.001, smote__k_neighbors=3; accuracy: (test=0.962) f1: (test=0.000) mcc: (test=0.000) precision: (test=0.000) recall: (test=0.000) roc_auc: (test=0.579) specificity: (test=1.000) total time=   0.1s\n"
          ]
        },
        {
          "output_type": "stream",
          "name": "stderr",
          "text": [
            "/usr/local/lib/python3.10/dist-packages/sklearn/metrics/_classification.py:1344: UndefinedMetricWarning: Precision is ill-defined and being set to 0.0 due to no predicted samples. Use `zero_division` parameter to control this behavior.\n",
            "  _warn_prf(average, modifier, msg_start, len(result))\n"
          ]
        },
        {
          "output_type": "stream",
          "name": "stdout",
          "text": [
            "[CV 1/5] END model__C=100, model__gamma=0.001, smote__k_neighbors=5; accuracy: (test=0.939) f1: (test=0.000) mcc: (test=-0.030) precision: (test=0.000) recall: (test=0.000) roc_auc: (test=0.375) specificity: (test=0.976) total time=   0.1s\n",
            "[CV 2/5] END model__C=100, model__gamma=0.001, smote__k_neighbors=5; accuracy: (test=0.885) f1: (test=0.211) mcc: (test=0.189) precision: (test=0.143) recall: (test=0.400) roc_auc: (test=0.710) specificity: (test=0.905) total time=   0.1s\n",
            "[CV 3/5] END model__C=100, model__gamma=0.001, smote__k_neighbors=5; accuracy: (test=0.931) f1: (test=0.000) mcc: (test=-0.034) precision: (test=0.000) recall: (test=0.000) roc_auc: (test=0.777) specificity: (test=0.976) total time=   0.1s\n",
            "[CV 4/5] END model__C=100, model__gamma=0.001, smote__k_neighbors=5; accuracy: (test=0.931) f1: (test=0.182) mcc: (test=0.147) precision: (test=0.200) recall: (test=0.167) roc_auc: (test=0.677) specificity: (test=0.968) total time=   0.1s\n",
            "[CV 5/5] END model__C=100, model__gamma=0.001, smote__k_neighbors=5; accuracy: (test=0.962) f1: (test=0.000) mcc: (test=0.000) precision: (test=0.000) recall: (test=0.000) roc_auc: (test=0.734) specificity: (test=1.000) total time=   0.1s\n",
            "[CV 1/5] END model__C=100, model__gamma=0.001, smote__k_neighbors=7; accuracy: (test=0.931) f1: (test=0.000) mcc: (test=-0.035) precision: (test=0.000) recall: (test=0.000) roc_auc: (test=0.373) specificity: (test=0.968) total time=   0.1s\n"
          ]
        },
        {
          "output_type": "stream",
          "name": "stderr",
          "text": [
            "/usr/local/lib/python3.10/dist-packages/sklearn/metrics/_classification.py:1344: UndefinedMetricWarning: Precision is ill-defined and being set to 0.0 due to no predicted samples. Use `zero_division` parameter to control this behavior.\n",
            "  _warn_prf(average, modifier, msg_start, len(result))\n"
          ]
        },
        {
          "output_type": "stream",
          "name": "stdout",
          "text": [
            "[CV 2/5] END model__C=100, model__gamma=0.001, smote__k_neighbors=7; accuracy: (test=0.863) f1: (test=0.182) mcc: (test=0.160) precision: (test=0.118) recall: (test=0.400) roc_auc: (test=0.724) specificity: (test=0.881) total time=   0.1s\n",
            "[CV 3/5] END model__C=100, model__gamma=0.001, smote__k_neighbors=7; accuracy: (test=0.924) f1: (test=0.000) mcc: (test=-0.039) precision: (test=0.000) recall: (test=0.000) roc_auc: (test=0.759) specificity: (test=0.968) total time=   0.1s\n",
            "[CV 4/5] END model__C=100, model__gamma=0.001, smote__k_neighbors=7; accuracy: (test=0.924) f1: (test=0.167) mcc: (test=0.127) precision: (test=0.167) recall: (test=0.167) roc_auc: (test=0.665) specificity: (test=0.960) total time=   0.1s\n",
            "[CV 5/5] END model__C=100, model__gamma=0.001, smote__k_neighbors=7; accuracy: (test=0.954) f1: (test=0.000) mcc: (test=-0.018) precision: (test=0.000) recall: (test=0.000) roc_auc: (test=0.626) specificity: (test=0.992) total time=   0.1s\n",
            "[CV 1/5] END model__C=100, model__gamma=0.01, smote__k_neighbors=3; accuracy: (test=0.962) f1: (test=0.000) mcc: (test=0.000) precision: (test=0.000) recall: (test=0.000) roc_auc: (test=0.386) specificity: (test=1.000) total time=   0.1s\n"
          ]
        },
        {
          "output_type": "stream",
          "name": "stderr",
          "text": [
            "/usr/local/lib/python3.10/dist-packages/sklearn/metrics/_classification.py:1344: UndefinedMetricWarning: Precision is ill-defined and being set to 0.0 due to no predicted samples. Use `zero_division` parameter to control this behavior.\n",
            "  _warn_prf(average, modifier, msg_start, len(result))\n",
            "/usr/local/lib/python3.10/dist-packages/sklearn/metrics/_classification.py:1344: UndefinedMetricWarning: Precision is ill-defined and being set to 0.0 due to no predicted samples. Use `zero_division` parameter to control this behavior.\n",
            "  _warn_prf(average, modifier, msg_start, len(result))\n"
          ]
        },
        {
          "output_type": "stream",
          "name": "stdout",
          "text": [
            "[CV 2/5] END model__C=100, model__gamma=0.01, smote__k_neighbors=3; accuracy: (test=0.962) f1: (test=0.000) mcc: (test=0.000) precision: (test=0.000) recall: (test=0.000) roc_auc: (test=0.614) specificity: (test=1.000) total time=   0.1s\n",
            "[CV 3/5] END model__C=100, model__gamma=0.01, smote__k_neighbors=3; accuracy: (test=0.954) f1: (test=0.000) mcc: (test=0.000) precision: (test=0.000) recall: (test=0.000) roc_auc: (test=0.754) specificity: (test=1.000) total time=   0.1s\n"
          ]
        },
        {
          "output_type": "stream",
          "name": "stderr",
          "text": [
            "/usr/local/lib/python3.10/dist-packages/sklearn/metrics/_classification.py:1344: UndefinedMetricWarning: Precision is ill-defined and being set to 0.0 due to no predicted samples. Use `zero_division` parameter to control this behavior.\n",
            "  _warn_prf(average, modifier, msg_start, len(result))\n",
            "/usr/local/lib/python3.10/dist-packages/sklearn/metrics/_classification.py:1344: UndefinedMetricWarning: Precision is ill-defined and being set to 0.0 due to no predicted samples. Use `zero_division` parameter to control this behavior.\n",
            "  _warn_prf(average, modifier, msg_start, len(result))\n"
          ]
        },
        {
          "output_type": "stream",
          "name": "stdout",
          "text": [
            "[CV 4/5] END model__C=100, model__gamma=0.01, smote__k_neighbors=3; accuracy: (test=0.954) f1: (test=0.000) mcc: (test=0.000) precision: (test=0.000) recall: (test=0.000) roc_auc: (test=0.663) specificity: (test=1.000) total time=   0.1s\n",
            "[CV 5/5] END model__C=100, model__gamma=0.01, smote__k_neighbors=3; accuracy: (test=0.962) f1: (test=0.000) mcc: (test=0.000) precision: (test=0.000) recall: (test=0.000) roc_auc: (test=0.606) specificity: (test=1.000) total time=   0.1s\n"
          ]
        },
        {
          "output_type": "stream",
          "name": "stderr",
          "text": [
            "/usr/local/lib/python3.10/dist-packages/sklearn/metrics/_classification.py:1344: UndefinedMetricWarning: Precision is ill-defined and being set to 0.0 due to no predicted samples. Use `zero_division` parameter to control this behavior.\n",
            "  _warn_prf(average, modifier, msg_start, len(result))\n",
            "/usr/local/lib/python3.10/dist-packages/sklearn/metrics/_classification.py:1344: UndefinedMetricWarning: Precision is ill-defined and being set to 0.0 due to no predicted samples. Use `zero_division` parameter to control this behavior.\n",
            "  _warn_prf(average, modifier, msg_start, len(result))\n"
          ]
        },
        {
          "output_type": "stream",
          "name": "stdout",
          "text": [
            "[CV 1/5] END model__C=100, model__gamma=0.01, smote__k_neighbors=5; accuracy: (test=0.962) f1: (test=0.000) mcc: (test=0.000) precision: (test=0.000) recall: (test=0.000) roc_auc: (test=0.378) specificity: (test=1.000) total time=   0.1s\n",
            "[CV 2/5] END model__C=100, model__gamma=0.01, smote__k_neighbors=5; accuracy: (test=0.962) f1: (test=0.000) mcc: (test=0.000) precision: (test=0.000) recall: (test=0.000) roc_auc: (test=0.586) specificity: (test=1.000) total time=   0.1s\n"
          ]
        },
        {
          "output_type": "stream",
          "name": "stderr",
          "text": [
            "/usr/local/lib/python3.10/dist-packages/sklearn/metrics/_classification.py:1344: UndefinedMetricWarning: Precision is ill-defined and being set to 0.0 due to no predicted samples. Use `zero_division` parameter to control this behavior.\n",
            "  _warn_prf(average, modifier, msg_start, len(result))\n",
            "/usr/local/lib/python3.10/dist-packages/sklearn/metrics/_classification.py:1344: UndefinedMetricWarning: Precision is ill-defined and being set to 0.0 due to no predicted samples. Use `zero_division` parameter to control this behavior.\n",
            "  _warn_prf(average, modifier, msg_start, len(result))\n"
          ]
        },
        {
          "output_type": "stream",
          "name": "stdout",
          "text": [
            "[CV 3/5] END model__C=100, model__gamma=0.01, smote__k_neighbors=5; accuracy: (test=0.954) f1: (test=0.000) mcc: (test=0.000) precision: (test=0.000) recall: (test=0.000) roc_auc: (test=0.646) specificity: (test=1.000) total time=   0.1s\n",
            "[CV 4/5] END model__C=100, model__gamma=0.01, smote__k_neighbors=5; accuracy: (test=0.954) f1: (test=0.000) mcc: (test=0.000) precision: (test=0.000) recall: (test=0.000) roc_auc: (test=0.655) specificity: (test=1.000) total time=   0.1s\n"
          ]
        },
        {
          "output_type": "stream",
          "name": "stderr",
          "text": [
            "/usr/local/lib/python3.10/dist-packages/sklearn/metrics/_classification.py:1344: UndefinedMetricWarning: Precision is ill-defined and being set to 0.0 due to no predicted samples. Use `zero_division` parameter to control this behavior.\n",
            "  _warn_prf(average, modifier, msg_start, len(result))\n",
            "/usr/local/lib/python3.10/dist-packages/sklearn/metrics/_classification.py:1344: UndefinedMetricWarning: Precision is ill-defined and being set to 0.0 due to no predicted samples. Use `zero_division` parameter to control this behavior.\n",
            "  _warn_prf(average, modifier, msg_start, len(result))\n"
          ]
        },
        {
          "output_type": "stream",
          "name": "stdout",
          "text": [
            "[CV 5/5] END model__C=100, model__gamma=0.01, smote__k_neighbors=5; accuracy: (test=0.962) f1: (test=0.000) mcc: (test=0.000) precision: (test=0.000) recall: (test=0.000) roc_auc: (test=0.593) specificity: (test=1.000) total time=   0.1s\n",
            "[CV 1/5] END model__C=100, model__gamma=0.01, smote__k_neighbors=7; accuracy: (test=0.962) f1: (test=0.000) mcc: (test=0.000) precision: (test=0.000) recall: (test=0.000) roc_auc: (test=0.371) specificity: (test=1.000) total time=   0.1s\n"
          ]
        },
        {
          "output_type": "stream",
          "name": "stderr",
          "text": [
            "/usr/local/lib/python3.10/dist-packages/sklearn/metrics/_classification.py:1344: UndefinedMetricWarning: Precision is ill-defined and being set to 0.0 due to no predicted samples. Use `zero_division` parameter to control this behavior.\n",
            "  _warn_prf(average, modifier, msg_start, len(result))\n",
            "/usr/local/lib/python3.10/dist-packages/sklearn/metrics/_classification.py:1344: UndefinedMetricWarning: Precision is ill-defined and being set to 0.0 due to no predicted samples. Use `zero_division` parameter to control this behavior.\n",
            "  _warn_prf(average, modifier, msg_start, len(result))\n"
          ]
        },
        {
          "output_type": "stream",
          "name": "stdout",
          "text": [
            "[CV 2/5] END model__C=100, model__gamma=0.01, smote__k_neighbors=7; accuracy: (test=0.962) f1: (test=0.000) mcc: (test=0.000) precision: (test=0.000) recall: (test=0.000) roc_auc: (test=0.583) specificity: (test=1.000) total time=   0.1s\n",
            "[CV 3/5] END model__C=100, model__gamma=0.01, smote__k_neighbors=7; accuracy: (test=0.954) f1: (test=0.000) mcc: (test=0.000) precision: (test=0.000) recall: (test=0.000) roc_auc: (test=0.698) specificity: (test=1.000) total time=   0.1s\n"
          ]
        },
        {
          "output_type": "stream",
          "name": "stderr",
          "text": [
            "/usr/local/lib/python3.10/dist-packages/sklearn/metrics/_classification.py:1344: UndefinedMetricWarning: Precision is ill-defined and being set to 0.0 due to no predicted samples. Use `zero_division` parameter to control this behavior.\n",
            "  _warn_prf(average, modifier, msg_start, len(result))\n",
            "/usr/local/lib/python3.10/dist-packages/sklearn/metrics/_classification.py:1344: UndefinedMetricWarning: Precision is ill-defined and being set to 0.0 due to no predicted samples. Use `zero_division` parameter to control this behavior.\n",
            "  _warn_prf(average, modifier, msg_start, len(result))\n"
          ]
        },
        {
          "output_type": "stream",
          "name": "stdout",
          "text": [
            "[CV 4/5] END model__C=100, model__gamma=0.01, smote__k_neighbors=7; accuracy: (test=0.954) f1: (test=0.000) mcc: (test=0.000) precision: (test=0.000) recall: (test=0.000) roc_auc: (test=0.643) specificity: (test=1.000) total time=   0.1s\n",
            "[CV 5/5] END model__C=100, model__gamma=0.01, smote__k_neighbors=7; accuracy: (test=0.962) f1: (test=0.000) mcc: (test=0.000) precision: (test=0.000) recall: (test=0.000) roc_auc: (test=0.646) specificity: (test=1.000) total time=   0.1s\n"
          ]
        },
        {
          "output_type": "stream",
          "name": "stderr",
          "text": [
            "/usr/local/lib/python3.10/dist-packages/sklearn/metrics/_classification.py:1344: UndefinedMetricWarning: Precision is ill-defined and being set to 0.0 due to no predicted samples. Use `zero_division` parameter to control this behavior.\n",
            "  _warn_prf(average, modifier, msg_start, len(result))\n",
            "/usr/local/lib/python3.10/dist-packages/sklearn/metrics/_classification.py:1344: UndefinedMetricWarning: Precision is ill-defined and being set to 0.0 due to no predicted samples. Use `zero_division` parameter to control this behavior.\n",
            "  _warn_prf(average, modifier, msg_start, len(result))\n"
          ]
        },
        {
          "output_type": "stream",
          "name": "stdout",
          "text": [
            "[CV 1/5] END model__C=100, model__gamma=0.1, smote__k_neighbors=3; accuracy: (test=0.962) f1: (test=0.000) mcc: (test=0.000) precision: (test=0.000) recall: (test=0.000) roc_auc: (test=0.516) specificity: (test=1.000) total time=   0.1s\n",
            "[CV 2/5] END model__C=100, model__gamma=0.1, smote__k_neighbors=3; accuracy: (test=0.962) f1: (test=0.000) mcc: (test=0.000) precision: (test=0.000) recall: (test=0.000) roc_auc: (test=0.508) specificity: (test=1.000) total time=   0.1s\n"
          ]
        },
        {
          "output_type": "stream",
          "name": "stderr",
          "text": [
            "/usr/local/lib/python3.10/dist-packages/sklearn/metrics/_classification.py:1344: UndefinedMetricWarning: Precision is ill-defined and being set to 0.0 due to no predicted samples. Use `zero_division` parameter to control this behavior.\n",
            "  _warn_prf(average, modifier, msg_start, len(result))\n",
            "/usr/local/lib/python3.10/dist-packages/sklearn/metrics/_classification.py:1344: UndefinedMetricWarning: Precision is ill-defined and being set to 0.0 due to no predicted samples. Use `zero_division` parameter to control this behavior.\n",
            "  _warn_prf(average, modifier, msg_start, len(result))\n"
          ]
        },
        {
          "output_type": "stream",
          "name": "stdout",
          "text": [
            "[CV 3/5] END model__C=100, model__gamma=0.1, smote__k_neighbors=3; accuracy: (test=0.954) f1: (test=0.000) mcc: (test=0.000) precision: (test=0.000) recall: (test=0.000) roc_auc: (test=0.548) specificity: (test=1.000) total time=   0.1s\n",
            "[CV 4/5] END model__C=100, model__gamma=0.1, smote__k_neighbors=3; accuracy: (test=0.954) f1: (test=0.000) mcc: (test=0.000) precision: (test=0.000) recall: (test=0.000) roc_auc: (test=0.544) specificity: (test=1.000) total time=   0.1s\n"
          ]
        },
        {
          "output_type": "stream",
          "name": "stderr",
          "text": [
            "/usr/local/lib/python3.10/dist-packages/sklearn/metrics/_classification.py:1344: UndefinedMetricWarning: Precision is ill-defined and being set to 0.0 due to no predicted samples. Use `zero_division` parameter to control this behavior.\n",
            "  _warn_prf(average, modifier, msg_start, len(result))\n",
            "/usr/local/lib/python3.10/dist-packages/sklearn/metrics/_classification.py:1344: UndefinedMetricWarning: Precision is ill-defined and being set to 0.0 due to no predicted samples. Use `zero_division` parameter to control this behavior.\n",
            "  _warn_prf(average, modifier, msg_start, len(result))\n"
          ]
        },
        {
          "output_type": "stream",
          "name": "stdout",
          "text": [
            "[CV 5/5] END model__C=100, model__gamma=0.1, smote__k_neighbors=3; accuracy: (test=0.962) f1: (test=0.000) mcc: (test=0.000) precision: (test=0.000) recall: (test=0.000) roc_auc: (test=0.580) specificity: (test=1.000) total time=   0.1s\n",
            "[CV 1/5] END model__C=100, model__gamma=0.1, smote__k_neighbors=5; accuracy: (test=0.962) f1: (test=0.000) mcc: (test=0.000) precision: (test=0.000) recall: (test=0.000) roc_auc: (test=0.516) specificity: (test=1.000) total time=   0.1s\n"
          ]
        },
        {
          "output_type": "stream",
          "name": "stderr",
          "text": [
            "/usr/local/lib/python3.10/dist-packages/sklearn/metrics/_classification.py:1344: UndefinedMetricWarning: Precision is ill-defined and being set to 0.0 due to no predicted samples. Use `zero_division` parameter to control this behavior.\n",
            "  _warn_prf(average, modifier, msg_start, len(result))\n",
            "/usr/local/lib/python3.10/dist-packages/sklearn/metrics/_classification.py:1344: UndefinedMetricWarning: Precision is ill-defined and being set to 0.0 due to no predicted samples. Use `zero_division` parameter to control this behavior.\n",
            "  _warn_prf(average, modifier, msg_start, len(result))\n"
          ]
        },
        {
          "output_type": "stream",
          "name": "stdout",
          "text": [
            "[CV 2/5] END model__C=100, model__gamma=0.1, smote__k_neighbors=5; accuracy: (test=0.962) f1: (test=0.000) mcc: (test=0.000) precision: (test=0.000) recall: (test=0.000) roc_auc: (test=0.504) specificity: (test=1.000) total time=   0.1s\n",
            "[CV 3/5] END model__C=100, model__gamma=0.1, smote__k_neighbors=5; accuracy: (test=0.954) f1: (test=0.000) mcc: (test=0.000) precision: (test=0.000) recall: (test=0.000) roc_auc: (test=0.548) specificity: (test=1.000) total time=   0.1s\n"
          ]
        },
        {
          "output_type": "stream",
          "name": "stderr",
          "text": [
            "/usr/local/lib/python3.10/dist-packages/sklearn/metrics/_classification.py:1344: UndefinedMetricWarning: Precision is ill-defined and being set to 0.0 due to no predicted samples. Use `zero_division` parameter to control this behavior.\n",
            "  _warn_prf(average, modifier, msg_start, len(result))\n",
            "/usr/local/lib/python3.10/dist-packages/sklearn/metrics/_classification.py:1344: UndefinedMetricWarning: Precision is ill-defined and being set to 0.0 due to no predicted samples. Use `zero_division` parameter to control this behavior.\n",
            "  _warn_prf(average, modifier, msg_start, len(result))\n"
          ]
        },
        {
          "output_type": "stream",
          "name": "stdout",
          "text": [
            "[CV 4/5] END model__C=100, model__gamma=0.1, smote__k_neighbors=5; accuracy: (test=0.954) f1: (test=0.000) mcc: (test=0.000) precision: (test=0.000) recall: (test=0.000) roc_auc: (test=0.548) specificity: (test=1.000) total time=   0.1s\n",
            "[CV 5/5] END model__C=100, model__gamma=0.1, smote__k_neighbors=5; accuracy: (test=0.962) f1: (test=0.000) mcc: (test=0.000) precision: (test=0.000) recall: (test=0.000) roc_auc: (test=0.592) specificity: (test=1.000) total time=   0.1s\n"
          ]
        },
        {
          "output_type": "stream",
          "name": "stderr",
          "text": [
            "/usr/local/lib/python3.10/dist-packages/sklearn/metrics/_classification.py:1344: UndefinedMetricWarning: Precision is ill-defined and being set to 0.0 due to no predicted samples. Use `zero_division` parameter to control this behavior.\n",
            "  _warn_prf(average, modifier, msg_start, len(result))\n",
            "/usr/local/lib/python3.10/dist-packages/sklearn/metrics/_classification.py:1344: UndefinedMetricWarning: Precision is ill-defined and being set to 0.0 due to no predicted samples. Use `zero_division` parameter to control this behavior.\n",
            "  _warn_prf(average, modifier, msg_start, len(result))\n"
          ]
        },
        {
          "output_type": "stream",
          "name": "stdout",
          "text": [
            "[CV 1/5] END model__C=100, model__gamma=0.1, smote__k_neighbors=7; accuracy: (test=0.962) f1: (test=0.000) mcc: (test=0.000) precision: (test=0.000) recall: (test=0.000) roc_auc: (test=0.512) specificity: (test=1.000) total time=   0.1s\n",
            "[CV 2/5] END model__C=100, model__gamma=0.1, smote__k_neighbors=7; accuracy: (test=0.962) f1: (test=0.000) mcc: (test=0.000) precision: (test=0.000) recall: (test=0.000) roc_auc: (test=0.496) specificity: (test=1.000) total time=   0.1s\n"
          ]
        },
        {
          "output_type": "stream",
          "name": "stderr",
          "text": [
            "/usr/local/lib/python3.10/dist-packages/sklearn/metrics/_classification.py:1344: UndefinedMetricWarning: Precision is ill-defined and being set to 0.0 due to no predicted samples. Use `zero_division` parameter to control this behavior.\n",
            "  _warn_prf(average, modifier, msg_start, len(result))\n",
            "/usr/local/lib/python3.10/dist-packages/sklearn/metrics/_classification.py:1344: UndefinedMetricWarning: Precision is ill-defined and being set to 0.0 due to no predicted samples. Use `zero_division` parameter to control this behavior.\n",
            "  _warn_prf(average, modifier, msg_start, len(result))\n"
          ]
        },
        {
          "output_type": "stream",
          "name": "stdout",
          "text": [
            "[CV 3/5] END model__C=100, model__gamma=0.1, smote__k_neighbors=7; accuracy: (test=0.954) f1: (test=0.000) mcc: (test=0.000) precision: (test=0.000) recall: (test=0.000) roc_auc: (test=0.548) specificity: (test=1.000) total time=   0.1s\n",
            "[CV 4/5] END model__C=100, model__gamma=0.1, smote__k_neighbors=7; accuracy: (test=0.954) f1: (test=0.000) mcc: (test=0.000) precision: (test=0.000) recall: (test=0.000) roc_auc: (test=0.544) specificity: (test=1.000) total time=   0.1s\n"
          ]
        },
        {
          "output_type": "stream",
          "name": "stderr",
          "text": [
            "/usr/local/lib/python3.10/dist-packages/sklearn/metrics/_classification.py:1344: UndefinedMetricWarning: Precision is ill-defined and being set to 0.0 due to no predicted samples. Use `zero_division` parameter to control this behavior.\n",
            "  _warn_prf(average, modifier, msg_start, len(result))\n",
            "/usr/local/lib/python3.10/dist-packages/sklearn/metrics/_classification.py:1344: UndefinedMetricWarning: Precision is ill-defined and being set to 0.0 due to no predicted samples. Use `zero_division` parameter to control this behavior.\n",
            "  _warn_prf(average, modifier, msg_start, len(result))\n"
          ]
        },
        {
          "output_type": "stream",
          "name": "stdout",
          "text": [
            "[CV 5/5] END model__C=100, model__gamma=0.1, smote__k_neighbors=7; accuracy: (test=0.962) f1: (test=0.000) mcc: (test=0.000) precision: (test=0.000) recall: (test=0.000) roc_auc: (test=0.588) specificity: (test=1.000) total time=   0.1s\n",
            "[CV 1/5] END model__C=100, model__gamma=1, smote__k_neighbors=3; accuracy: (test=0.962) f1: (test=0.000) mcc: (test=0.000) precision: (test=0.000) recall: (test=0.000) roc_auc: (test=0.500) specificity: (test=1.000) total time=   0.1s\n"
          ]
        },
        {
          "output_type": "stream",
          "name": "stderr",
          "text": [
            "/usr/local/lib/python3.10/dist-packages/sklearn/metrics/_classification.py:1344: UndefinedMetricWarning: Precision is ill-defined and being set to 0.0 due to no predicted samples. Use `zero_division` parameter to control this behavior.\n",
            "  _warn_prf(average, modifier, msg_start, len(result))\n",
            "/usr/local/lib/python3.10/dist-packages/sklearn/metrics/_classification.py:1344: UndefinedMetricWarning: Precision is ill-defined and being set to 0.0 due to no predicted samples. Use `zero_division` parameter to control this behavior.\n",
            "  _warn_prf(average, modifier, msg_start, len(result))\n"
          ]
        },
        {
          "output_type": "stream",
          "name": "stdout",
          "text": [
            "[CV 2/5] END model__C=100, model__gamma=1, smote__k_neighbors=3; accuracy: (test=0.962) f1: (test=0.000) mcc: (test=0.000) precision: (test=0.000) recall: (test=0.000) roc_auc: (test=0.500) specificity: (test=1.000) total time=   0.1s\n",
            "[CV 3/5] END model__C=100, model__gamma=1, smote__k_neighbors=3; accuracy: (test=0.954) f1: (test=0.000) mcc: (test=0.000) precision: (test=0.000) recall: (test=0.000) roc_auc: (test=0.500) specificity: (test=1.000) total time=   0.1s\n"
          ]
        },
        {
          "output_type": "stream",
          "name": "stderr",
          "text": [
            "/usr/local/lib/python3.10/dist-packages/sklearn/metrics/_classification.py:1344: UndefinedMetricWarning: Precision is ill-defined and being set to 0.0 due to no predicted samples. Use `zero_division` parameter to control this behavior.\n",
            "  _warn_prf(average, modifier, msg_start, len(result))\n",
            "/usr/local/lib/python3.10/dist-packages/sklearn/metrics/_classification.py:1344: UndefinedMetricWarning: Precision is ill-defined and being set to 0.0 due to no predicted samples. Use `zero_division` parameter to control this behavior.\n",
            "  _warn_prf(average, modifier, msg_start, len(result))\n"
          ]
        },
        {
          "output_type": "stream",
          "name": "stdout",
          "text": [
            "[CV 4/5] END model__C=100, model__gamma=1, smote__k_neighbors=3; accuracy: (test=0.954) f1: (test=0.000) mcc: (test=0.000) precision: (test=0.000) recall: (test=0.000) roc_auc: (test=0.500) specificity: (test=1.000) total time=   0.1s\n",
            "[CV 5/5] END model__C=100, model__gamma=1, smote__k_neighbors=3; accuracy: (test=0.962) f1: (test=0.000) mcc: (test=0.000) precision: (test=0.000) recall: (test=0.000) roc_auc: (test=0.500) specificity: (test=1.000) total time=   0.1s\n"
          ]
        },
        {
          "output_type": "stream",
          "name": "stderr",
          "text": [
            "/usr/local/lib/python3.10/dist-packages/sklearn/metrics/_classification.py:1344: UndefinedMetricWarning: Precision is ill-defined and being set to 0.0 due to no predicted samples. Use `zero_division` parameter to control this behavior.\n",
            "  _warn_prf(average, modifier, msg_start, len(result))\n",
            "/usr/local/lib/python3.10/dist-packages/sklearn/metrics/_classification.py:1344: UndefinedMetricWarning: Precision is ill-defined and being set to 0.0 due to no predicted samples. Use `zero_division` parameter to control this behavior.\n",
            "  _warn_prf(average, modifier, msg_start, len(result))\n"
          ]
        },
        {
          "output_type": "stream",
          "name": "stdout",
          "text": [
            "[CV 1/5] END model__C=100, model__gamma=1, smote__k_neighbors=5; accuracy: (test=0.962) f1: (test=0.000) mcc: (test=0.000) precision: (test=0.000) recall: (test=0.000) roc_auc: (test=0.500) specificity: (test=1.000) total time=   0.1s\n",
            "[CV 2/5] END model__C=100, model__gamma=1, smote__k_neighbors=5; accuracy: (test=0.962) f1: (test=0.000) mcc: (test=0.000) precision: (test=0.000) recall: (test=0.000) roc_auc: (test=0.500) specificity: (test=1.000) total time=   0.1s\n"
          ]
        },
        {
          "output_type": "stream",
          "name": "stderr",
          "text": [
            "/usr/local/lib/python3.10/dist-packages/sklearn/metrics/_classification.py:1344: UndefinedMetricWarning: Precision is ill-defined and being set to 0.0 due to no predicted samples. Use `zero_division` parameter to control this behavior.\n",
            "  _warn_prf(average, modifier, msg_start, len(result))\n",
            "/usr/local/lib/python3.10/dist-packages/sklearn/metrics/_classification.py:1344: UndefinedMetricWarning: Precision is ill-defined and being set to 0.0 due to no predicted samples. Use `zero_division` parameter to control this behavior.\n",
            "  _warn_prf(average, modifier, msg_start, len(result))\n"
          ]
        },
        {
          "output_type": "stream",
          "name": "stdout",
          "text": [
            "[CV 3/5] END model__C=100, model__gamma=1, smote__k_neighbors=5; accuracy: (test=0.954) f1: (test=0.000) mcc: (test=0.000) precision: (test=0.000) recall: (test=0.000) roc_auc: (test=0.500) specificity: (test=1.000) total time=   0.1s\n",
            "[CV 4/5] END model__C=100, model__gamma=1, smote__k_neighbors=5; accuracy: (test=0.954) f1: (test=0.000) mcc: (test=0.000) precision: (test=0.000) recall: (test=0.000) roc_auc: (test=0.500) specificity: (test=1.000) total time=   0.1s\n"
          ]
        },
        {
          "output_type": "stream",
          "name": "stderr",
          "text": [
            "/usr/local/lib/python3.10/dist-packages/sklearn/metrics/_classification.py:1344: UndefinedMetricWarning: Precision is ill-defined and being set to 0.0 due to no predicted samples. Use `zero_division` parameter to control this behavior.\n",
            "  _warn_prf(average, modifier, msg_start, len(result))\n",
            "/usr/local/lib/python3.10/dist-packages/sklearn/metrics/_classification.py:1344: UndefinedMetricWarning: Precision is ill-defined and being set to 0.0 due to no predicted samples. Use `zero_division` parameter to control this behavior.\n",
            "  _warn_prf(average, modifier, msg_start, len(result))\n"
          ]
        },
        {
          "output_type": "stream",
          "name": "stdout",
          "text": [
            "[CV 5/5] END model__C=100, model__gamma=1, smote__k_neighbors=5; accuracy: (test=0.962) f1: (test=0.000) mcc: (test=0.000) precision: (test=0.000) recall: (test=0.000) roc_auc: (test=0.500) specificity: (test=1.000) total time=   0.1s\n",
            "[CV 1/5] END model__C=100, model__gamma=1, smote__k_neighbors=7; accuracy: (test=0.962) f1: (test=0.000) mcc: (test=0.000) precision: (test=0.000) recall: (test=0.000) roc_auc: (test=0.500) specificity: (test=1.000) total time=   0.1s\n"
          ]
        },
        {
          "output_type": "stream",
          "name": "stderr",
          "text": [
            "/usr/local/lib/python3.10/dist-packages/sklearn/metrics/_classification.py:1344: UndefinedMetricWarning: Precision is ill-defined and being set to 0.0 due to no predicted samples. Use `zero_division` parameter to control this behavior.\n",
            "  _warn_prf(average, modifier, msg_start, len(result))\n",
            "/usr/local/lib/python3.10/dist-packages/sklearn/metrics/_classification.py:1344: UndefinedMetricWarning: Precision is ill-defined and being set to 0.0 due to no predicted samples. Use `zero_division` parameter to control this behavior.\n",
            "  _warn_prf(average, modifier, msg_start, len(result))\n"
          ]
        },
        {
          "output_type": "stream",
          "name": "stdout",
          "text": [
            "[CV 2/5] END model__C=100, model__gamma=1, smote__k_neighbors=7; accuracy: (test=0.962) f1: (test=0.000) mcc: (test=0.000) precision: (test=0.000) recall: (test=0.000) roc_auc: (test=0.500) specificity: (test=1.000) total time=   0.1s\n",
            "[CV 3/5] END model__C=100, model__gamma=1, smote__k_neighbors=7; accuracy: (test=0.954) f1: (test=0.000) mcc: (test=0.000) precision: (test=0.000) recall: (test=0.000) roc_auc: (test=0.500) specificity: (test=1.000) total time=   0.1s\n"
          ]
        },
        {
          "output_type": "stream",
          "name": "stderr",
          "text": [
            "/usr/local/lib/python3.10/dist-packages/sklearn/metrics/_classification.py:1344: UndefinedMetricWarning: Precision is ill-defined and being set to 0.0 due to no predicted samples. Use `zero_division` parameter to control this behavior.\n",
            "  _warn_prf(average, modifier, msg_start, len(result))\n",
            "/usr/local/lib/python3.10/dist-packages/sklearn/metrics/_classification.py:1344: UndefinedMetricWarning: Precision is ill-defined and being set to 0.0 due to no predicted samples. Use `zero_division` parameter to control this behavior.\n",
            "  _warn_prf(average, modifier, msg_start, len(result))\n"
          ]
        },
        {
          "output_type": "stream",
          "name": "stdout",
          "text": [
            "[CV 4/5] END model__C=100, model__gamma=1, smote__k_neighbors=7; accuracy: (test=0.954) f1: (test=0.000) mcc: (test=0.000) precision: (test=0.000) recall: (test=0.000) roc_auc: (test=0.500) specificity: (test=1.000) total time=   0.1s\n",
            "[CV 5/5] END model__C=100, model__gamma=1, smote__k_neighbors=7; accuracy: (test=0.962) f1: (test=0.000) mcc: (test=0.000) precision: (test=0.000) recall: (test=0.000) roc_auc: (test=0.500) specificity: (test=1.000) total time=   0.1s\n",
            "Mejores parámetros:  {'model__C': 1, 'model__gamma': 0.001, 'smote__k_neighbors': 5}\n",
            "Mejor score (F1):  0.11587301587301586\n"
          ]
        },
        {
          "output_type": "stream",
          "name": "stderr",
          "text": [
            "/usr/local/lib/python3.10/dist-packages/sklearn/metrics/_classification.py:1344: UndefinedMetricWarning: Precision is ill-defined and being set to 0.0 due to no predicted samples. Use `zero_division` parameter to control this behavior.\n",
            "  _warn_prf(average, modifier, msg_start, len(result))\n"
          ]
        }
      ]
    },
    {
      "cell_type": "markdown",
      "source": [
        "**Media métricas validación cruzada**"
      ],
      "metadata": {
        "id": "O8LZuEDH_Hld"
      }
    },
    {
      "cell_type": "code",
      "source": [
        "# Crear un pipeline que primero aplica SMOTE y luego el modelo\n",
        "model_pipeline = IMBPipeline([\n",
        "    ('smote', SMOTE(random_state=seed_value, k_neighbors=5)),\n",
        "    ('model', make_pipeline(StandardScaler(), SVC(kernel='rbf', C=1, gamma=0.001)))\n",
        "])\n",
        "\n",
        "# Usar StratifiedKFold para mantener la proporción de clases en cada fold\n",
        "cv = StratifiedKFold(n_splits=5)\n",
        "def specificity_score(y_true, y_pred):\n",
        "    tn, fp, fn, tp = confusion_matrix(y_true, y_pred).ravel()\n",
        "    specificity = tn / (tn + fp)\n",
        "    return specificity\n",
        "\n",
        "# Crear un scorer personalizado para la especificidad\n",
        "specificity_scorer = make_scorer(specificity_score)\n",
        "\n",
        "scoring = {'accuracy' : 'accuracy', 'sensibility' : 'recall','specificity': specificity_scorer, 'roc_auc':'roc_auc','f1':'f1', 'mcc': make_scorer(matthews_corrcoef) }\n",
        "\n",
        "# Realizar la validación cruzada\n",
        "results = cross_validate(model_pipeline, X, y, cv=cv, scoring=scoring)\n",
        "\n",
        "mean_scores = {metric: results['test_' + metric].mean().round(2) for metric in scoring}\n",
        "std_scores = {metric: results['test_' + metric].std().round(2) for metric in scoring}\n",
        "\n",
        "results_df = pd.DataFrame({\n",
        "    'Metric': mean_scores.keys(),\n",
        "    'Mean': mean_scores.values(),\n",
        "    'Standard Deviation': std_scores.values()\n",
        "})\n",
        "\n",
        "print(results_df)"
      ],
      "metadata": {
        "colab": {
          "base_uri": "https://localhost:8080/"
        },
        "id": "-GYcWq7WbW9K",
        "outputId": "2b4ab316-1ac5-49e3-e3d3-8e60ec55210e"
      },
      "execution_count": 8,
      "outputs": [
        {
          "output_type": "stream",
          "name": "stdout",
          "text": [
            "        Metric  Mean  Standard Deviation\n",
            "0     accuracy  0.58                0.25\n",
            "1  sensibility  0.61                0.37\n",
            "2  specificity  0.58                0.27\n",
            "3      roc_auc  0.71                0.11\n",
            "4           f1  0.15                0.10\n",
            "5          mcc  0.15                0.17\n"
          ]
        }
      ]
    }
  ]
}