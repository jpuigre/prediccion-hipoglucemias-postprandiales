{
  "nbformat": 4,
  "nbformat_minor": 0,
  "metadata": {
    "colab": {
      "provenance": []
    },
    "kernelspec": {
      "name": "python3",
      "display_name": "Python 3"
    },
    "language_info": {
      "name": "python"
    }
  },
  "cells": [
    {
      "cell_type": "code",
      "source": [
        "import pandas as pd\n",
        "from sklearn.model_selection import train_test_split\n",
        "from sklearn.preprocessing import StandardScaler,MinMaxScaler\n",
        "from sklearn.svm import SVC\n",
        "from sklearn.metrics import roc_curve, auc,get_scorer_names\n",
        "from sklearn.metrics import accuracy_score, classification_report,confusion_matrix,ConfusionMatrixDisplay, roc_curve, matthews_corrcoef, balanced_accuracy_score\n",
        "from sklearn.metrics import make_scorer, matthews_corrcoef\n",
        "from sklearn.pipeline import make_pipeline\n",
        "from sklearn.model_selection import StratifiedKFold\n",
        "from sklearn.model_selection import cross_val_score\n",
        "from sklearn.model_selection import cross_validate\n",
        "from imblearn.pipeline import Pipeline as IMBPipeline\n",
        "from imblearn.over_sampling import SMOTE\n",
        "import matplotlib.pyplot as plt\n",
        "import numpy as np\n",
        "import seaborn as sns\n",
        "import random\n",
        "import os"
      ],
      "metadata": {
        "id": "XJjecOH0s8-D"
      },
      "execution_count": 1,
      "outputs": []
    },
    {
      "cell_type": "code",
      "source": [
        "# Función para definir en un solo lugar todas las semillas\n",
        "def seed_everything(seed_value):\n",
        "    random.seed(seed_value)\n",
        "    np.random.seed(seed_value)\n",
        "    os.environ['PYTHONHASHSEED'] = str(seed_value)\n",
        "\n",
        "seed_value = 42\n",
        "seed_everything(seed_value)"
      ],
      "metadata": {
        "id": "SB3_bj9OhV7W"
      },
      "execution_count": 2,
      "outputs": []
    },
    {
      "cell_type": "code",
      "execution_count": 3,
      "metadata": {
        "id": "n5_zk9KistLh"
      },
      "outputs": [],
      "source": [
        "file_path = 'postprandial_hypoglycemias.csv'\n",
        "df = pd.read_csv(file_path)"
      ]
    },
    {
      "cell_type": "code",
      "source": [
        "physiological_features = ['glucose','cho','next_iob','cob','aob_3h','aob_6h']\n",
        "physiological_features_no_glucose = ['cho','iob','next_iob','cob','aob_3h','aob_6h']\n",
        "no_glucose_related_features = ['glucose','cho', 'basal', 'bolus_normal', 'total_bolus_squared','cob','next_iob','aob_3h','aob_6h']\n",
        "no_glucose_related_features_exclude_aob = ['glucose','cho', 'basal', 'bolus_normal', 'total_bolus_squared','cob','next_iob']\n",
        "more_features = ['glucose','glucose_range','glucose_rate_change','mean_glucose_1h','glucose_1h','glucose_30m','cho', 'basal', 'bolus_normal', 'total_bolus_squared','cob','next_iob','aob_3h','aob_6h']\n",
        "more_features_exclude_aob = ['glucose','glucose_range','glucose_rate_change','mean_glucose_1h','glucose_1h','glucose_30m','cho', 'basal', 'bolus_normal', 'total_bolus_squared','cob','next_iob']\n",
        "more_features_no_cob_no_iob = ['glucose','glucose_range','glucose_rate_change','mean_glucose_1h','glucose_1h','glucose_30m','cho', 'basal', 'bolus_normal', 'total_bolus_squared']\n",
        "all_features = ['glucose','glucose_range','glucose_rate_change','mean_glucose_1h','glucose_1h','glucose_30m','cho', 'basal', 'bolus_normal', 'total_bolus_squared',\n",
        "                'cob','next_iob','iob','aob_3h','aob_6h','hour']\n",
        "selected_features = all_features\n",
        "target = 'hypoglycemia'\n",
        "df = df[selected_features + [target]]\n",
        "\n",
        "df = df.dropna()"
      ],
      "metadata": {
        "id": "muN0d8Nkl2ZA"
      },
      "execution_count": 4,
      "outputs": []
    },
    {
      "cell_type": "code",
      "source": [
        "# Separar las características (X) i la etiqueta (y)\n",
        "X = df.drop('hypoglycemia', axis=1)\n",
        "y = df['hypoglycemia']"
      ],
      "metadata": {
        "id": "fn1r_5YotaKq"
      },
      "execution_count": 5,
      "outputs": []
    },
    {
      "cell_type": "code",
      "source": [
        "print('Registros totales para entrenamiento: ' + str(len(df)))\n",
        "print('Registros totales para entrenamiento con hipoglucemia: ' + str(len(df[df['hypoglycemia'] == 1])))\n"
      ],
      "metadata": {
        "colab": {
          "base_uri": "https://localhost:8080/"
        },
        "id": "IfSZ_eU9Tiby",
        "outputId": "3453a4a4-a323-4d5d-82d1-7e27da29aee4"
      },
      "execution_count": 6,
      "outputs": [
        {
          "output_type": "stream",
          "name": "stdout",
          "text": [
            "Registros totales para entrenamiento: 654\n",
            "Registros totales para entrenamiento con hipoglucemia: 104\n"
          ]
        }
      ]
    },
    {
      "cell_type": "markdown",
      "source": [
        "**Optimización de parámetros mediante GridSearchCV**"
      ],
      "metadata": {
        "id": "lmC0biTn9j4K"
      }
    },
    {
      "cell_type": "code",
      "source": [
        "from sklearn.model_selection import GridSearchCV, StratifiedKFold\n",
        "from imblearn.over_sampling import SMOTE\n",
        "from imblearn.pipeline import Pipeline as IMBPipeline\n",
        "from sklearn.preprocessing import StandardScaler\n",
        "from sklearn.svm import SVC\n",
        "from sklearn.metrics import make_scorer, confusion_matrix, recall_score, precision_score, f1_score, roc_auc_score, matthews_corrcoef\n",
        "\n",
        "# Definir la función de especificidad\n",
        "def specificity_score(y_true, y_pred):\n",
        "    tn, fp, fn, tp = confusion_matrix(y_true, y_pred).ravel()\n",
        "    specificity = tn / (tn + fp)\n",
        "    return specificity\n",
        "\n",
        "# Crear un pipeline con SMOTE y SVC\n",
        "model_pipeline = IMBPipeline([\n",
        "    ('smote', SMOTE(random_state=seed_value)),\n",
        "    ('model', SVC(kernel='rbf', random_state=seed_value))\n",
        "])\n",
        "\n",
        "# Definir el espacio de búsqueda de hiperparámetros\n",
        "param_grid = {\n",
        "    'smote__k_neighbors': [3, 5, 7],\n",
        "    'model__C': [0.1, 1, 10, 100],\n",
        "    'model__gamma': [0.001, 0.01, 0.1, 1]\n",
        "}\n",
        "\n",
        "# Definir los scorers\n",
        "scoring = {\n",
        "    'accuracy': 'accuracy',\n",
        "    'precision': 'precision',\n",
        "    'recall': 'recall',\n",
        "    'f1': 'f1',\n",
        "    'roc_auc': 'roc_auc',\n",
        "    'mcc': make_scorer(matthews_corrcoef),\n",
        "    'specificity': make_scorer(specificity_score)\n",
        "}\n",
        "\n",
        "# Configurar GridSearchCV\n",
        "grid_search = GridSearchCV(model_pipeline, param_grid, cv=StratifiedKFold(n_splits=5), scoring=scoring, refit='f1', verbose=3)\n",
        "\n",
        "# Realizar la búsqueda de hiperparámetros\n",
        "grid_search.fit(X, y)\n",
        "\n",
        "# Mostrar los mejores parámetros y el mejor score\n",
        "print(\"Mejores parámetros: \", grid_search.best_params_)\n",
        "print(\"Mejor score (F1): \", grid_search.best_score_)\n"
      ],
      "metadata": {
        "id": "DVhSgE8ilsgF",
        "colab": {
          "base_uri": "https://localhost:8080/"
        },
        "outputId": "ddf3e7d1-7365-4fef-810e-ac863ca189c8"
      },
      "execution_count": 7,
      "outputs": [
        {
          "output_type": "stream",
          "name": "stdout",
          "text": [
            "Fitting 5 folds for each of 48 candidates, totalling 240 fits\n",
            "[CV 1/5] END model__C=0.1, model__gamma=0.001, smote__k_neighbors=3; accuracy: (test=0.855) f1: (test=0.174) mcc: (test=0.285) precision: (test=1.000) recall: (test=0.095) roc_auc: (test=0.711) specificity: (test=1.000) total time=   0.1s\n",
            "[CV 2/5] END model__C=0.1, model__gamma=0.001, smote__k_neighbors=3; accuracy: (test=0.794) f1: (test=0.341) mcc: (test=0.219) precision: (test=0.350) recall: (test=0.333) roc_auc: (test=0.750) specificity: (test=0.882) total time=   0.1s\n",
            "[CV 3/5] END model__C=0.1, model__gamma=0.001, smote__k_neighbors=3; accuracy: (test=0.824) f1: (test=0.148) mcc: (test=0.103) precision: (test=0.333) recall: (test=0.095) roc_auc: (test=0.675) specificity: (test=0.964) total time=   0.1s\n",
            "[CV 4/5] END model__C=0.1, model__gamma=0.001, smote__k_neighbors=3; accuracy: (test=0.817) f1: (test=0.143) mcc: (test=0.081) precision: (test=0.286) recall: (test=0.095) roc_auc: (test=0.616) specificity: (test=0.955) total time=   0.1s\n",
            "[CV 5/5] END model__C=0.1, model__gamma=0.001, smote__k_neighbors=3; accuracy: (test=0.854) f1: (test=0.174) mcc: (test=0.218) precision: (test=0.667) recall: (test=0.100) roc_auc: (test=0.797) specificity: (test=0.991) total time=   0.1s\n",
            "[CV 1/5] END model__C=0.1, model__gamma=0.001, smote__k_neighbors=5; accuracy: (test=0.847) f1: (test=0.167) mcc: (test=0.211) precision: (test=0.667) recall: (test=0.095) roc_auc: (test=0.698) specificity: (test=0.991) total time=   0.1s\n",
            "[CV 2/5] END model__C=0.1, model__gamma=0.001, smote__k_neighbors=5; accuracy: (test=0.748) f1: (test=0.400) mcc: (test=0.263) precision: (test=0.324) recall: (test=0.524) roc_auc: (test=0.726) specificity: (test=0.791) total time=   0.1s\n",
            "[CV 3/5] END model__C=0.1, model__gamma=0.001, smote__k_neighbors=5; accuracy: (test=0.817) f1: (test=0.143) mcc: (test=0.081) precision: (test=0.286) recall: (test=0.095) roc_auc: (test=0.658) specificity: (test=0.955) total time=   0.1s\n",
            "[CV 4/5] END model__C=0.1, model__gamma=0.001, smote__k_neighbors=5; accuracy: (test=0.824) f1: (test=0.258) mcc: (test=0.188) precision: (test=0.400) recall: (test=0.190) roc_auc: (test=0.643) specificity: (test=0.945) total time=   0.1s\n",
            "[CV 5/5] END model__C=0.1, model__gamma=0.001, smote__k_neighbors=5; accuracy: (test=0.846) f1: (test=0.231) mcc: (test=0.211) precision: (test=0.500) recall: (test=0.150) roc_auc: (test=0.820) specificity: (test=0.973) total time=   0.1s\n",
            "[CV 1/5] END model__C=0.1, model__gamma=0.001, smote__k_neighbors=7; accuracy: (test=0.855) f1: (test=0.240) mcc: (test=0.285) precision: (test=0.750) recall: (test=0.143) roc_auc: (test=0.696) specificity: (test=0.991) total time=   0.1s\n",
            "[CV 2/5] END model__C=0.1, model__gamma=0.001, smote__k_neighbors=7; accuracy: (test=0.794) f1: (test=0.491) mcc: (test=0.381) precision: (test=0.406) recall: (test=0.619) roc_auc: (test=0.739) specificity: (test=0.827) total time=   0.1s\n",
            "[CV 3/5] END model__C=0.1, model__gamma=0.001, smote__k_neighbors=7; accuracy: (test=0.824) f1: (test=0.207) mcc: (test=0.149) precision: (test=0.375) recall: (test=0.143) roc_auc: (test=0.669) specificity: (test=0.955) total time=   0.1s\n",
            "[CV 4/5] END model__C=0.1, model__gamma=0.001, smote__k_neighbors=7; accuracy: (test=0.794) f1: (test=0.270) mcc: (test=0.155) precision: (test=0.312) recall: (test=0.238) roc_auc: (test=0.619) specificity: (test=0.900) total time=   0.1s\n",
            "[CV 5/5] END model__C=0.1, model__gamma=0.001, smote__k_neighbors=7; accuracy: (test=0.862) f1: (test=0.250) mcc: (test=0.294) precision: (test=0.750) recall: (test=0.150) roc_auc: (test=0.709) specificity: (test=0.991) total time=   0.1s\n",
            "[CV 1/5] END model__C=0.1, model__gamma=0.01, smote__k_neighbors=3; accuracy: (test=0.840) f1: (test=0.000) mcc: (test=0.000) precision: (test=0.000) recall: (test=0.000) roc_auc: (test=0.634) specificity: (test=1.000) total time=   0.1s\n"
          ]
        },
        {
          "output_type": "stream",
          "name": "stderr",
          "text": [
            "/usr/local/lib/python3.10/dist-packages/sklearn/metrics/_classification.py:1344: UndefinedMetricWarning: Precision is ill-defined and being set to 0.0 due to no predicted samples. Use `zero_division` parameter to control this behavior.\n",
            "  _warn_prf(average, modifier, msg_start, len(result))\n",
            "/usr/local/lib/python3.10/dist-packages/sklearn/metrics/_classification.py:1344: UndefinedMetricWarning: Precision is ill-defined and being set to 0.0 due to no predicted samples. Use `zero_division` parameter to control this behavior.\n",
            "  _warn_prf(average, modifier, msg_start, len(result))\n",
            "/usr/local/lib/python3.10/dist-packages/sklearn/metrics/_classification.py:1344: UndefinedMetricWarning: Precision is ill-defined and being set to 0.0 due to no predicted samples. Use `zero_division` parameter to control this behavior.\n",
            "  _warn_prf(average, modifier, msg_start, len(result))\n"
          ]
        },
        {
          "output_type": "stream",
          "name": "stdout",
          "text": [
            "[CV 2/5] END model__C=0.1, model__gamma=0.01, smote__k_neighbors=3; accuracy: (test=0.840) f1: (test=0.000) mcc: (test=0.000) precision: (test=0.000) recall: (test=0.000) roc_auc: (test=0.639) specificity: (test=1.000) total time=   0.1s\n",
            "[CV 3/5] END model__C=0.1, model__gamma=0.01, smote__k_neighbors=3; accuracy: (test=0.840) f1: (test=0.000) mcc: (test=0.000) precision: (test=0.000) recall: (test=0.000) roc_auc: (test=0.660) specificity: (test=1.000) total time=   0.1s\n",
            "[CV 4/5] END model__C=0.1, model__gamma=0.01, smote__k_neighbors=3; accuracy: (test=0.840) f1: (test=0.000) mcc: (test=0.000) precision: (test=0.000) recall: (test=0.000) roc_auc: (test=0.564) specificity: (test=1.000) total time=   0.1s\n"
          ]
        },
        {
          "output_type": "stream",
          "name": "stderr",
          "text": [
            "/usr/local/lib/python3.10/dist-packages/sklearn/metrics/_classification.py:1344: UndefinedMetricWarning: Precision is ill-defined and being set to 0.0 due to no predicted samples. Use `zero_division` parameter to control this behavior.\n",
            "  _warn_prf(average, modifier, msg_start, len(result))\n",
            "/usr/local/lib/python3.10/dist-packages/sklearn/metrics/_classification.py:1344: UndefinedMetricWarning: Precision is ill-defined and being set to 0.0 due to no predicted samples. Use `zero_division` parameter to control this behavior.\n",
            "  _warn_prf(average, modifier, msg_start, len(result))\n",
            "/usr/local/lib/python3.10/dist-packages/sklearn/metrics/_classification.py:1344: UndefinedMetricWarning: Precision is ill-defined and being set to 0.0 due to no predicted samples. Use `zero_division` parameter to control this behavior.\n",
            "  _warn_prf(average, modifier, msg_start, len(result))\n"
          ]
        },
        {
          "output_type": "stream",
          "name": "stdout",
          "text": [
            "[CV 5/5] END model__C=0.1, model__gamma=0.01, smote__k_neighbors=3; accuracy: (test=0.846) f1: (test=0.000) mcc: (test=0.000) precision: (test=0.000) recall: (test=0.000) roc_auc: (test=0.675) specificity: (test=1.000) total time=   0.1s\n",
            "[CV 1/5] END model__C=0.1, model__gamma=0.01, smote__k_neighbors=5; accuracy: (test=0.840) f1: (test=0.000) mcc: (test=0.000) precision: (test=0.000) recall: (test=0.000) roc_auc: (test=0.657) specificity: (test=1.000) total time=   0.1s\n"
          ]
        },
        {
          "output_type": "stream",
          "name": "stderr",
          "text": [
            "/usr/local/lib/python3.10/dist-packages/sklearn/metrics/_classification.py:1344: UndefinedMetricWarning: Precision is ill-defined and being set to 0.0 due to no predicted samples. Use `zero_division` parameter to control this behavior.\n",
            "  _warn_prf(average, modifier, msg_start, len(result))\n",
            "/usr/local/lib/python3.10/dist-packages/sklearn/metrics/_classification.py:1344: UndefinedMetricWarning: Precision is ill-defined and being set to 0.0 due to no predicted samples. Use `zero_division` parameter to control this behavior.\n",
            "  _warn_prf(average, modifier, msg_start, len(result))\n",
            "/usr/local/lib/python3.10/dist-packages/sklearn/metrics/_classification.py:1344: UndefinedMetricWarning: Precision is ill-defined and being set to 0.0 due to no predicted samples. Use `zero_division` parameter to control this behavior.\n",
            "  _warn_prf(average, modifier, msg_start, len(result))\n"
          ]
        },
        {
          "output_type": "stream",
          "name": "stdout",
          "text": [
            "[CV 2/5] END model__C=0.1, model__gamma=0.01, smote__k_neighbors=5; accuracy: (test=0.840) f1: (test=0.000) mcc: (test=0.000) precision: (test=0.000) recall: (test=0.000) roc_auc: (test=0.658) specificity: (test=1.000) total time=   0.1s\n",
            "[CV 3/5] END model__C=0.1, model__gamma=0.01, smote__k_neighbors=5; accuracy: (test=0.840) f1: (test=0.000) mcc: (test=0.000) precision: (test=0.000) recall: (test=0.000) roc_auc: (test=0.660) specificity: (test=1.000) total time=   0.1s\n",
            "[CV 4/5] END model__C=0.1, model__gamma=0.01, smote__k_neighbors=5; accuracy: (test=0.840) f1: (test=0.000) mcc: (test=0.000) precision: (test=0.000) recall: (test=0.000) roc_auc: (test=0.573) specificity: (test=1.000) total time=   0.1s\n"
          ]
        },
        {
          "output_type": "stream",
          "name": "stderr",
          "text": [
            "/usr/local/lib/python3.10/dist-packages/sklearn/metrics/_classification.py:1344: UndefinedMetricWarning: Precision is ill-defined and being set to 0.0 due to no predicted samples. Use `zero_division` parameter to control this behavior.\n",
            "  _warn_prf(average, modifier, msg_start, len(result))\n",
            "/usr/local/lib/python3.10/dist-packages/sklearn/metrics/_classification.py:1344: UndefinedMetricWarning: Precision is ill-defined and being set to 0.0 due to no predicted samples. Use `zero_division` parameter to control this behavior.\n",
            "  _warn_prf(average, modifier, msg_start, len(result))\n",
            "/usr/local/lib/python3.10/dist-packages/sklearn/metrics/_classification.py:1344: UndefinedMetricWarning: Precision is ill-defined and being set to 0.0 due to no predicted samples. Use `zero_division` parameter to control this behavior.\n",
            "  _warn_prf(average, modifier, msg_start, len(result))\n"
          ]
        },
        {
          "output_type": "stream",
          "name": "stdout",
          "text": [
            "[CV 5/5] END model__C=0.1, model__gamma=0.01, smote__k_neighbors=5; accuracy: (test=0.846) f1: (test=0.000) mcc: (test=0.000) precision: (test=0.000) recall: (test=0.000) roc_auc: (test=0.648) specificity: (test=1.000) total time=   0.1s\n",
            "[CV 1/5] END model__C=0.1, model__gamma=0.01, smote__k_neighbors=7; accuracy: (test=0.840) f1: (test=0.000) mcc: (test=0.000) precision: (test=0.000) recall: (test=0.000) roc_auc: (test=0.621) specificity: (test=1.000) total time=   0.1s\n",
            "[CV 2/5] END model__C=0.1, model__gamma=0.01, smote__k_neighbors=7; accuracy: (test=0.840) f1: (test=0.000) mcc: (test=0.000) precision: (test=0.000) recall: (test=0.000) roc_auc: (test=0.655) specificity: (test=1.000) total time=   0.1s\n"
          ]
        },
        {
          "output_type": "stream",
          "name": "stderr",
          "text": [
            "/usr/local/lib/python3.10/dist-packages/sklearn/metrics/_classification.py:1344: UndefinedMetricWarning: Precision is ill-defined and being set to 0.0 due to no predicted samples. Use `zero_division` parameter to control this behavior.\n",
            "  _warn_prf(average, modifier, msg_start, len(result))\n",
            "/usr/local/lib/python3.10/dist-packages/sklearn/metrics/_classification.py:1344: UndefinedMetricWarning: Precision is ill-defined and being set to 0.0 due to no predicted samples. Use `zero_division` parameter to control this behavior.\n",
            "  _warn_prf(average, modifier, msg_start, len(result))\n",
            "/usr/local/lib/python3.10/dist-packages/sklearn/metrics/_classification.py:1344: UndefinedMetricWarning: Precision is ill-defined and being set to 0.0 due to no predicted samples. Use `zero_division` parameter to control this behavior.\n",
            "  _warn_prf(average, modifier, msg_start, len(result))\n"
          ]
        },
        {
          "output_type": "stream",
          "name": "stdout",
          "text": [
            "[CV 3/5] END model__C=0.1, model__gamma=0.01, smote__k_neighbors=7; accuracy: (test=0.840) f1: (test=0.000) mcc: (test=0.000) precision: (test=0.000) recall: (test=0.000) roc_auc: (test=0.644) specificity: (test=1.000) total time=   0.1s\n",
            "[CV 4/5] END model__C=0.1, model__gamma=0.01, smote__k_neighbors=7; accuracy: (test=0.840) f1: (test=0.000) mcc: (test=0.000) precision: (test=0.000) recall: (test=0.000) roc_auc: (test=0.602) specificity: (test=1.000) total time=   0.1s\n",
            "[CV 5/5] END model__C=0.1, model__gamma=0.01, smote__k_neighbors=7; accuracy: (test=0.846) f1: (test=0.000) mcc: (test=0.000) precision: (test=0.000) recall: (test=0.000) roc_auc: (test=0.652) specificity: (test=1.000) total time=   0.1s\n"
          ]
        },
        {
          "output_type": "stream",
          "name": "stderr",
          "text": [
            "/usr/local/lib/python3.10/dist-packages/sklearn/metrics/_classification.py:1344: UndefinedMetricWarning: Precision is ill-defined and being set to 0.0 due to no predicted samples. Use `zero_division` parameter to control this behavior.\n",
            "  _warn_prf(average, modifier, msg_start, len(result))\n",
            "/usr/local/lib/python3.10/dist-packages/sklearn/metrics/_classification.py:1344: UndefinedMetricWarning: Precision is ill-defined and being set to 0.0 due to no predicted samples. Use `zero_division` parameter to control this behavior.\n",
            "  _warn_prf(average, modifier, msg_start, len(result))\n",
            "/usr/local/lib/python3.10/dist-packages/sklearn/metrics/_classification.py:1344: UndefinedMetricWarning: Precision is ill-defined and being set to 0.0 due to no predicted samples. Use `zero_division` parameter to control this behavior.\n",
            "  _warn_prf(average, modifier, msg_start, len(result))\n"
          ]
        },
        {
          "output_type": "stream",
          "name": "stdout",
          "text": [
            "[CV 1/5] END model__C=0.1, model__gamma=0.1, smote__k_neighbors=3; accuracy: (test=0.840) f1: (test=0.000) mcc: (test=0.000) precision: (test=0.000) recall: (test=0.000) roc_auc: (test=0.518) specificity: (test=1.000) total time=   0.1s\n",
            "[CV 2/5] END model__C=0.1, model__gamma=0.1, smote__k_neighbors=3; accuracy: (test=0.840) f1: (test=0.000) mcc: (test=0.000) precision: (test=0.000) recall: (test=0.000) roc_auc: (test=0.514) specificity: (test=1.000) total time=   0.1s\n",
            "[CV 3/5] END model__C=0.1, model__gamma=0.1, smote__k_neighbors=3; accuracy: (test=0.840) f1: (test=0.000) mcc: (test=0.000) precision: (test=0.000) recall: (test=0.000) roc_auc: (test=0.555) specificity: (test=1.000) total time=   0.1s\n"
          ]
        },
        {
          "output_type": "stream",
          "name": "stderr",
          "text": [
            "/usr/local/lib/python3.10/dist-packages/sklearn/metrics/_classification.py:1344: UndefinedMetricWarning: Precision is ill-defined and being set to 0.0 due to no predicted samples. Use `zero_division` parameter to control this behavior.\n",
            "  _warn_prf(average, modifier, msg_start, len(result))\n",
            "/usr/local/lib/python3.10/dist-packages/sklearn/metrics/_classification.py:1344: UndefinedMetricWarning: Precision is ill-defined and being set to 0.0 due to no predicted samples. Use `zero_division` parameter to control this behavior.\n",
            "  _warn_prf(average, modifier, msg_start, len(result))\n",
            "/usr/local/lib/python3.10/dist-packages/sklearn/metrics/_classification.py:1344: UndefinedMetricWarning: Precision is ill-defined and being set to 0.0 due to no predicted samples. Use `zero_division` parameter to control this behavior.\n",
            "  _warn_prf(average, modifier, msg_start, len(result))\n"
          ]
        },
        {
          "output_type": "stream",
          "name": "stdout",
          "text": [
            "[CV 4/5] END model__C=0.1, model__gamma=0.1, smote__k_neighbors=3; accuracy: (test=0.840) f1: (test=0.000) mcc: (test=0.000) precision: (test=0.000) recall: (test=0.000) roc_auc: (test=0.504) specificity: (test=1.000) total time=   0.1s\n",
            "[CV 5/5] END model__C=0.1, model__gamma=0.1, smote__k_neighbors=3; accuracy: (test=0.846) f1: (test=0.000) mcc: (test=0.000) precision: (test=0.000) recall: (test=0.000) roc_auc: (test=0.555) specificity: (test=1.000) total time=   0.1s\n",
            "[CV 1/5] END model__C=0.1, model__gamma=0.1, smote__k_neighbors=5; accuracy: (test=0.840) f1: (test=0.000) mcc: (test=0.000) precision: (test=0.000) recall: (test=0.000) roc_auc: (test=0.518) specificity: (test=1.000) total time=   0.1s\n"
          ]
        },
        {
          "output_type": "stream",
          "name": "stderr",
          "text": [
            "/usr/local/lib/python3.10/dist-packages/sklearn/metrics/_classification.py:1344: UndefinedMetricWarning: Precision is ill-defined and being set to 0.0 due to no predicted samples. Use `zero_division` parameter to control this behavior.\n",
            "  _warn_prf(average, modifier, msg_start, len(result))\n",
            "/usr/local/lib/python3.10/dist-packages/sklearn/metrics/_classification.py:1344: UndefinedMetricWarning: Precision is ill-defined and being set to 0.0 due to no predicted samples. Use `zero_division` parameter to control this behavior.\n",
            "  _warn_prf(average, modifier, msg_start, len(result))\n",
            "/usr/local/lib/python3.10/dist-packages/sklearn/metrics/_classification.py:1344: UndefinedMetricWarning: Precision is ill-defined and being set to 0.0 due to no predicted samples. Use `zero_division` parameter to control this behavior.\n",
            "  _warn_prf(average, modifier, msg_start, len(result))\n"
          ]
        },
        {
          "output_type": "stream",
          "name": "stdout",
          "text": [
            "[CV 2/5] END model__C=0.1, model__gamma=0.1, smote__k_neighbors=5; accuracy: (test=0.840) f1: (test=0.000) mcc: (test=0.000) precision: (test=0.000) recall: (test=0.000) roc_auc: (test=0.509) specificity: (test=1.000) total time=   0.1s\n",
            "[CV 3/5] END model__C=0.1, model__gamma=0.1, smote__k_neighbors=5; accuracy: (test=0.840) f1: (test=0.000) mcc: (test=0.000) precision: (test=0.000) recall: (test=0.000) roc_auc: (test=0.555) specificity: (test=1.000) total time=   0.1s\n",
            "[CV 4/5] END model__C=0.1, model__gamma=0.1, smote__k_neighbors=5; accuracy: (test=0.840) f1: (test=0.000) mcc: (test=0.000) precision: (test=0.000) recall: (test=0.000) roc_auc: (test=0.504) specificity: (test=1.000) total time=   0.1s\n"
          ]
        },
        {
          "output_type": "stream",
          "name": "stderr",
          "text": [
            "/usr/local/lib/python3.10/dist-packages/sklearn/metrics/_classification.py:1344: UndefinedMetricWarning: Precision is ill-defined and being set to 0.0 due to no predicted samples. Use `zero_division` parameter to control this behavior.\n",
            "  _warn_prf(average, modifier, msg_start, len(result))\n",
            "/usr/local/lib/python3.10/dist-packages/sklearn/metrics/_classification.py:1344: UndefinedMetricWarning: Precision is ill-defined and being set to 0.0 due to no predicted samples. Use `zero_division` parameter to control this behavior.\n",
            "  _warn_prf(average, modifier, msg_start, len(result))\n",
            "/usr/local/lib/python3.10/dist-packages/sklearn/metrics/_classification.py:1344: UndefinedMetricWarning: Precision is ill-defined and being set to 0.0 due to no predicted samples. Use `zero_division` parameter to control this behavior.\n",
            "  _warn_prf(average, modifier, msg_start, len(result))\n"
          ]
        },
        {
          "output_type": "stream",
          "name": "stdout",
          "text": [
            "[CV 5/5] END model__C=0.1, model__gamma=0.1, smote__k_neighbors=5; accuracy: (test=0.846) f1: (test=0.000) mcc: (test=0.000) precision: (test=0.000) recall: (test=0.000) roc_auc: (test=0.559) specificity: (test=1.000) total time=   0.1s\n",
            "[CV 1/5] END model__C=0.1, model__gamma=0.1, smote__k_neighbors=7; accuracy: (test=0.840) f1: (test=0.000) mcc: (test=0.000) precision: (test=0.000) recall: (test=0.000) roc_auc: (test=0.518) specificity: (test=1.000) total time=   0.1s\n",
            "[CV 2/5] END model__C=0.1, model__gamma=0.1, smote__k_neighbors=7; accuracy: (test=0.840) f1: (test=0.000) mcc: (test=0.000) precision: (test=0.000) recall: (test=0.000) roc_auc: (test=0.514) specificity: (test=1.000) total time=   0.1s\n"
          ]
        },
        {
          "output_type": "stream",
          "name": "stderr",
          "text": [
            "/usr/local/lib/python3.10/dist-packages/sklearn/metrics/_classification.py:1344: UndefinedMetricWarning: Precision is ill-defined and being set to 0.0 due to no predicted samples. Use `zero_division` parameter to control this behavior.\n",
            "  _warn_prf(average, modifier, msg_start, len(result))\n",
            "/usr/local/lib/python3.10/dist-packages/sklearn/metrics/_classification.py:1344: UndefinedMetricWarning: Precision is ill-defined and being set to 0.0 due to no predicted samples. Use `zero_division` parameter to control this behavior.\n",
            "  _warn_prf(average, modifier, msg_start, len(result))\n",
            "/usr/local/lib/python3.10/dist-packages/sklearn/metrics/_classification.py:1344: UndefinedMetricWarning: Precision is ill-defined and being set to 0.0 due to no predicted samples. Use `zero_division` parameter to control this behavior.\n",
            "  _warn_prf(average, modifier, msg_start, len(result))\n"
          ]
        },
        {
          "output_type": "stream",
          "name": "stdout",
          "text": [
            "[CV 3/5] END model__C=0.1, model__gamma=0.1, smote__k_neighbors=7; accuracy: (test=0.840) f1: (test=0.000) mcc: (test=0.000) precision: (test=0.000) recall: (test=0.000) roc_auc: (test=0.545) specificity: (test=1.000) total time=   0.1s\n",
            "[CV 4/5] END model__C=0.1, model__gamma=0.1, smote__k_neighbors=7; accuracy: (test=0.840) f1: (test=0.000) mcc: (test=0.000) precision: (test=0.000) recall: (test=0.000) roc_auc: (test=0.526) specificity: (test=1.000) total time=   0.1s\n",
            "[CV 5/5] END model__C=0.1, model__gamma=0.1, smote__k_neighbors=7; accuracy: (test=0.846) f1: (test=0.000) mcc: (test=0.000) precision: (test=0.000) recall: (test=0.000) roc_auc: (test=0.555) specificity: (test=1.000) total time=   0.1s\n"
          ]
        },
        {
          "output_type": "stream",
          "name": "stderr",
          "text": [
            "/usr/local/lib/python3.10/dist-packages/sklearn/metrics/_classification.py:1344: UndefinedMetricWarning: Precision is ill-defined and being set to 0.0 due to no predicted samples. Use `zero_division` parameter to control this behavior.\n",
            "  _warn_prf(average, modifier, msg_start, len(result))\n",
            "/usr/local/lib/python3.10/dist-packages/sklearn/metrics/_classification.py:1344: UndefinedMetricWarning: Precision is ill-defined and being set to 0.0 due to no predicted samples. Use `zero_division` parameter to control this behavior.\n",
            "  _warn_prf(average, modifier, msg_start, len(result))\n",
            "/usr/local/lib/python3.10/dist-packages/sklearn/metrics/_classification.py:1344: UndefinedMetricWarning: Precision is ill-defined and being set to 0.0 due to no predicted samples. Use `zero_division` parameter to control this behavior.\n",
            "  _warn_prf(average, modifier, msg_start, len(result))\n"
          ]
        },
        {
          "output_type": "stream",
          "name": "stdout",
          "text": [
            "[CV 1/5] END model__C=0.1, model__gamma=1, smote__k_neighbors=3; accuracy: (test=0.840) f1: (test=0.000) mcc: (test=0.000) precision: (test=0.000) recall: (test=0.000) roc_auc: (test=0.500) specificity: (test=1.000) total time=   0.1s\n",
            "[CV 2/5] END model__C=0.1, model__gamma=1, smote__k_neighbors=3; accuracy: (test=0.840) f1: (test=0.000) mcc: (test=0.000) precision: (test=0.000) recall: (test=0.000) roc_auc: (test=0.500) specificity: (test=1.000) total time=   0.1s\n",
            "[CV 3/5] END model__C=0.1, model__gamma=1, smote__k_neighbors=3; accuracy: (test=0.840) f1: (test=0.000) mcc: (test=0.000) precision: (test=0.000) recall: (test=0.000) roc_auc: (test=0.500) specificity: (test=1.000) total time=   0.1s\n"
          ]
        },
        {
          "output_type": "stream",
          "name": "stderr",
          "text": [
            "/usr/local/lib/python3.10/dist-packages/sklearn/metrics/_classification.py:1344: UndefinedMetricWarning: Precision is ill-defined and being set to 0.0 due to no predicted samples. Use `zero_division` parameter to control this behavior.\n",
            "  _warn_prf(average, modifier, msg_start, len(result))\n",
            "/usr/local/lib/python3.10/dist-packages/sklearn/metrics/_classification.py:1344: UndefinedMetricWarning: Precision is ill-defined and being set to 0.0 due to no predicted samples. Use `zero_division` parameter to control this behavior.\n",
            "  _warn_prf(average, modifier, msg_start, len(result))\n",
            "/usr/local/lib/python3.10/dist-packages/sklearn/metrics/_classification.py:1344: UndefinedMetricWarning: Precision is ill-defined and being set to 0.0 due to no predicted samples. Use `zero_division` parameter to control this behavior.\n",
            "  _warn_prf(average, modifier, msg_start, len(result))\n"
          ]
        },
        {
          "output_type": "stream",
          "name": "stdout",
          "text": [
            "[CV 4/5] END model__C=0.1, model__gamma=1, smote__k_neighbors=3; accuracy: (test=0.840) f1: (test=0.000) mcc: (test=0.000) precision: (test=0.000) recall: (test=0.000) roc_auc: (test=0.500) specificity: (test=1.000) total time=   0.1s\n",
            "[CV 5/5] END model__C=0.1, model__gamma=1, smote__k_neighbors=3; accuracy: (test=0.846) f1: (test=0.000) mcc: (test=0.000) precision: (test=0.000) recall: (test=0.000) roc_auc: (test=0.500) specificity: (test=1.000) total time=   0.1s\n",
            "[CV 1/5] END model__C=0.1, model__gamma=1, smote__k_neighbors=5; accuracy: (test=0.840) f1: (test=0.000) mcc: (test=0.000) precision: (test=0.000) recall: (test=0.000) roc_auc: (test=0.500) specificity: (test=1.000) total time=   0.1s\n"
          ]
        },
        {
          "output_type": "stream",
          "name": "stderr",
          "text": [
            "/usr/local/lib/python3.10/dist-packages/sklearn/metrics/_classification.py:1344: UndefinedMetricWarning: Precision is ill-defined and being set to 0.0 due to no predicted samples. Use `zero_division` parameter to control this behavior.\n",
            "  _warn_prf(average, modifier, msg_start, len(result))\n",
            "/usr/local/lib/python3.10/dist-packages/sklearn/metrics/_classification.py:1344: UndefinedMetricWarning: Precision is ill-defined and being set to 0.0 due to no predicted samples. Use `zero_division` parameter to control this behavior.\n",
            "  _warn_prf(average, modifier, msg_start, len(result))\n",
            "/usr/local/lib/python3.10/dist-packages/sklearn/metrics/_classification.py:1344: UndefinedMetricWarning: Precision is ill-defined and being set to 0.0 due to no predicted samples. Use `zero_division` parameter to control this behavior.\n",
            "  _warn_prf(average, modifier, msg_start, len(result))\n"
          ]
        },
        {
          "output_type": "stream",
          "name": "stdout",
          "text": [
            "[CV 2/5] END model__C=0.1, model__gamma=1, smote__k_neighbors=5; accuracy: (test=0.840) f1: (test=0.000) mcc: (test=0.000) precision: (test=0.000) recall: (test=0.000) roc_auc: (test=0.500) specificity: (test=1.000) total time=   0.1s\n",
            "[CV 3/5] END model__C=0.1, model__gamma=1, smote__k_neighbors=5; accuracy: (test=0.840) f1: (test=0.000) mcc: (test=0.000) precision: (test=0.000) recall: (test=0.000) roc_auc: (test=0.500) specificity: (test=1.000) total time=   0.1s\n",
            "[CV 4/5] END model__C=0.1, model__gamma=1, smote__k_neighbors=5; accuracy: (test=0.840) f1: (test=0.000) mcc: (test=0.000) precision: (test=0.000) recall: (test=0.000) roc_auc: (test=0.500) specificity: (test=1.000) total time=   0.1s\n"
          ]
        },
        {
          "output_type": "stream",
          "name": "stderr",
          "text": [
            "/usr/local/lib/python3.10/dist-packages/sklearn/metrics/_classification.py:1344: UndefinedMetricWarning: Precision is ill-defined and being set to 0.0 due to no predicted samples. Use `zero_division` parameter to control this behavior.\n",
            "  _warn_prf(average, modifier, msg_start, len(result))\n",
            "/usr/local/lib/python3.10/dist-packages/sklearn/metrics/_classification.py:1344: UndefinedMetricWarning: Precision is ill-defined and being set to 0.0 due to no predicted samples. Use `zero_division` parameter to control this behavior.\n",
            "  _warn_prf(average, modifier, msg_start, len(result))\n"
          ]
        },
        {
          "output_type": "stream",
          "name": "stdout",
          "text": [
            "[CV 5/5] END model__C=0.1, model__gamma=1, smote__k_neighbors=5; accuracy: (test=0.846) f1: (test=0.000) mcc: (test=0.000) precision: (test=0.000) recall: (test=0.000) roc_auc: (test=0.500) specificity: (test=1.000) total time=   0.1s\n",
            "[CV 1/5] END model__C=0.1, model__gamma=1, smote__k_neighbors=7; accuracy: (test=0.840) f1: (test=0.000) mcc: (test=0.000) precision: (test=0.000) recall: (test=0.000) roc_auc: (test=0.500) specificity: (test=1.000) total time=   0.1s\n"
          ]
        },
        {
          "output_type": "stream",
          "name": "stderr",
          "text": [
            "/usr/local/lib/python3.10/dist-packages/sklearn/metrics/_classification.py:1344: UndefinedMetricWarning: Precision is ill-defined and being set to 0.0 due to no predicted samples. Use `zero_division` parameter to control this behavior.\n",
            "  _warn_prf(average, modifier, msg_start, len(result))\n",
            "/usr/local/lib/python3.10/dist-packages/sklearn/metrics/_classification.py:1344: UndefinedMetricWarning: Precision is ill-defined and being set to 0.0 due to no predicted samples. Use `zero_division` parameter to control this behavior.\n",
            "  _warn_prf(average, modifier, msg_start, len(result))\n"
          ]
        },
        {
          "output_type": "stream",
          "name": "stdout",
          "text": [
            "[CV 2/5] END model__C=0.1, model__gamma=1, smote__k_neighbors=7; accuracy: (test=0.840) f1: (test=0.000) mcc: (test=0.000) precision: (test=0.000) recall: (test=0.000) roc_auc: (test=0.500) specificity: (test=1.000) total time=   0.1s\n",
            "[CV 3/5] END model__C=0.1, model__gamma=1, smote__k_neighbors=7; accuracy: (test=0.840) f1: (test=0.000) mcc: (test=0.000) precision: (test=0.000) recall: (test=0.000) roc_auc: (test=0.500) specificity: (test=1.000) total time=   0.2s\n"
          ]
        },
        {
          "output_type": "stream",
          "name": "stderr",
          "text": [
            "/usr/local/lib/python3.10/dist-packages/sklearn/metrics/_classification.py:1344: UndefinedMetricWarning: Precision is ill-defined and being set to 0.0 due to no predicted samples. Use `zero_division` parameter to control this behavior.\n",
            "  _warn_prf(average, modifier, msg_start, len(result))\n",
            "/usr/local/lib/python3.10/dist-packages/sklearn/metrics/_classification.py:1344: UndefinedMetricWarning: Precision is ill-defined and being set to 0.0 due to no predicted samples. Use `zero_division` parameter to control this behavior.\n",
            "  _warn_prf(average, modifier, msg_start, len(result))\n"
          ]
        },
        {
          "output_type": "stream",
          "name": "stdout",
          "text": [
            "[CV 4/5] END model__C=0.1, model__gamma=1, smote__k_neighbors=7; accuracy: (test=0.840) f1: (test=0.000) mcc: (test=0.000) precision: (test=0.000) recall: (test=0.000) roc_auc: (test=0.500) specificity: (test=1.000) total time=   0.2s\n",
            "[CV 5/5] END model__C=0.1, model__gamma=1, smote__k_neighbors=7; accuracy: (test=0.846) f1: (test=0.000) mcc: (test=0.000) precision: (test=0.000) recall: (test=0.000) roc_auc: (test=0.500) specificity: (test=1.000) total time=   0.2s\n",
            "[CV 1/5] END model__C=1, model__gamma=0.001, smote__k_neighbors=3; accuracy: (test=0.855) f1: (test=0.174) mcc: (test=0.285) precision: (test=1.000) recall: (test=0.095) roc_auc: (test=0.703) specificity: (test=1.000) total time=   0.1s\n",
            "[CV 2/5] END model__C=1, model__gamma=0.001, smote__k_neighbors=3; accuracy: (test=0.817) f1: (test=0.368) mcc: (test=0.265) precision: (test=0.412) recall: (test=0.333) roc_auc: (test=0.773) specificity: (test=0.909) total time=   0.1s\n",
            "[CV 3/5] END model__C=1, model__gamma=0.001, smote__k_neighbors=3; accuracy: (test=0.832) f1: (test=0.214) mcc: (test=0.174) precision: (test=0.429) recall: (test=0.143) roc_auc: (test=0.665) specificity: (test=0.964) total time=   0.1s\n",
            "[CV 4/5] END model__C=1, model__gamma=0.001, smote__k_neighbors=3; accuracy: (test=0.832) f1: (test=0.267) mcc: (test=0.210) precision: (test=0.444) recall: (test=0.190) roc_auc: (test=0.677) specificity: (test=0.955) total time=   0.1s\n",
            "[CV 5/5] END model__C=1, model__gamma=0.001, smote__k_neighbors=3; accuracy: (test=0.854) f1: (test=0.345) mcc: (test=0.304) precision: (test=0.556) recall: (test=0.250) roc_auc: (test=0.730) specificity: (test=0.964) total time=   0.1s\n",
            "[CV 1/5] END model__C=1, model__gamma=0.001, smote__k_neighbors=5; accuracy: (test=0.870) f1: (test=0.370) mcc: (test=0.402) precision: (test=0.833) recall: (test=0.238) roc_auc: (test=0.697) specificity: (test=0.991) total time=   0.1s\n",
            "[CV 2/5] END model__C=1, model__gamma=0.001, smote__k_neighbors=5; accuracy: (test=0.779) f1: (test=0.326) mcc: (test=0.193) precision: (test=0.318) recall: (test=0.333) roc_auc: (test=0.767) specificity: (test=0.864) total time=   0.1s\n",
            "[CV 3/5] END model__C=1, model__gamma=0.001, smote__k_neighbors=5; accuracy: (test=0.840) f1: (test=0.276) mcc: (test=0.236) precision: (test=0.500) recall: (test=0.190) roc_auc: (test=0.664) specificity: (test=0.964) total time=   0.1s\n",
            "[CV 4/5] END model__C=1, model__gamma=0.001, smote__k_neighbors=5; accuracy: (test=0.832) f1: (test=0.214) mcc: (test=0.174) precision: (test=0.429) recall: (test=0.143) roc_auc: (test=0.669) specificity: (test=0.964) total time=   0.2s\n",
            "[CV 5/5] END model__C=1, model__gamma=0.001, smote__k_neighbors=5; accuracy: (test=0.831) f1: (test=0.214) mcc: (test=0.157) precision: (test=0.375) recall: (test=0.150) roc_auc: (test=0.715) specificity: (test=0.955) total time=   0.1s\n",
            "[CV 1/5] END model__C=1, model__gamma=0.001, smote__k_neighbors=7; accuracy: (test=0.855) f1: (test=0.296) mcc: (test=0.302) precision: (test=0.667) recall: (test=0.190) roc_auc: (test=0.743) specificity: (test=0.982) total time=   0.1s\n",
            "[CV 2/5] END model__C=1, model__gamma=0.001, smote__k_neighbors=7; accuracy: (test=0.802) f1: (test=0.409) mcc: (test=0.291) precision: (test=0.391) recall: (test=0.429) roc_auc: (test=0.774) specificity: (test=0.873) total time=   0.1s\n",
            "[CV 3/5] END model__C=1, model__gamma=0.001, smote__k_neighbors=7; accuracy: (test=0.817) f1: (test=0.250) mcc: (test=0.168) precision: (test=0.364) recall: (test=0.190) roc_auc: (test=0.644) specificity: (test=0.936) total time=   0.2s\n",
            "[CV 4/5] END model__C=1, model__gamma=0.001, smote__k_neighbors=7; accuracy: (test=0.817) f1: (test=0.200) mcc: (test=0.128) precision: (test=0.333) recall: (test=0.143) roc_auc: (test=0.664) specificity: (test=0.945) total time=   0.1s\n",
            "[CV 5/5] END model__C=1, model__gamma=0.001, smote__k_neighbors=7; accuracy: (test=0.838) f1: (test=0.323) mcc: (test=0.253) precision: (test=0.455) recall: (test=0.250) roc_auc: (test=0.689) specificity: (test=0.945) total time=   0.2s\n",
            "[CV 1/5] END model__C=1, model__gamma=0.01, smote__k_neighbors=3; accuracy: (test=0.840) f1: (test=0.000) mcc: (test=0.000) precision: (test=0.000) recall: (test=0.000) roc_auc: (test=0.631) specificity: (test=1.000) total time=   0.1s\n"
          ]
        },
        {
          "output_type": "stream",
          "name": "stderr",
          "text": [
            "/usr/local/lib/python3.10/dist-packages/sklearn/metrics/_classification.py:1344: UndefinedMetricWarning: Precision is ill-defined and being set to 0.0 due to no predicted samples. Use `zero_division` parameter to control this behavior.\n",
            "  _warn_prf(average, modifier, msg_start, len(result))\n",
            "/usr/local/lib/python3.10/dist-packages/sklearn/metrics/_classification.py:1344: UndefinedMetricWarning: Precision is ill-defined and being set to 0.0 due to no predicted samples. Use `zero_division` parameter to control this behavior.\n",
            "  _warn_prf(average, modifier, msg_start, len(result))\n"
          ]
        },
        {
          "output_type": "stream",
          "name": "stdout",
          "text": [
            "[CV 2/5] END model__C=1, model__gamma=0.01, smote__k_neighbors=3; accuracy: (test=0.840) f1: (test=0.000) mcc: (test=0.000) precision: (test=0.000) recall: (test=0.000) roc_auc: (test=0.640) specificity: (test=1.000) total time=   0.2s\n",
            "[CV 3/5] END model__C=1, model__gamma=0.01, smote__k_neighbors=3; accuracy: (test=0.840) f1: (test=0.000) mcc: (test=0.000) precision: (test=0.000) recall: (test=0.000) roc_auc: (test=0.656) specificity: (test=1.000) total time=   0.2s\n"
          ]
        },
        {
          "output_type": "stream",
          "name": "stderr",
          "text": [
            "/usr/local/lib/python3.10/dist-packages/sklearn/metrics/_classification.py:1344: UndefinedMetricWarning: Precision is ill-defined and being set to 0.0 due to no predicted samples. Use `zero_division` parameter to control this behavior.\n",
            "  _warn_prf(average, modifier, msg_start, len(result))\n",
            "/usr/local/lib/python3.10/dist-packages/sklearn/metrics/_classification.py:1344: UndefinedMetricWarning: Precision is ill-defined and being set to 0.0 due to no predicted samples. Use `zero_division` parameter to control this behavior.\n",
            "  _warn_prf(average, modifier, msg_start, len(result))\n"
          ]
        },
        {
          "output_type": "stream",
          "name": "stdout",
          "text": [
            "[CV 4/5] END model__C=1, model__gamma=0.01, smote__k_neighbors=3; accuracy: (test=0.840) f1: (test=0.000) mcc: (test=0.000) precision: (test=0.000) recall: (test=0.000) roc_auc: (test=0.569) specificity: (test=1.000) total time=   0.2s\n",
            "[CV 5/5] END model__C=1, model__gamma=0.01, smote__k_neighbors=3; accuracy: (test=0.846) f1: (test=0.000) mcc: (test=0.000) precision: (test=0.000) recall: (test=0.000) roc_auc: (test=0.670) specificity: (test=1.000) total time=   0.2s\n"
          ]
        },
        {
          "output_type": "stream",
          "name": "stderr",
          "text": [
            "/usr/local/lib/python3.10/dist-packages/sklearn/metrics/_classification.py:1344: UndefinedMetricWarning: Precision is ill-defined and being set to 0.0 due to no predicted samples. Use `zero_division` parameter to control this behavior.\n",
            "  _warn_prf(average, modifier, msg_start, len(result))\n",
            "/usr/local/lib/python3.10/dist-packages/sklearn/metrics/_classification.py:1344: UndefinedMetricWarning: Precision is ill-defined and being set to 0.0 due to no predicted samples. Use `zero_division` parameter to control this behavior.\n",
            "  _warn_prf(average, modifier, msg_start, len(result))\n",
            "/usr/local/lib/python3.10/dist-packages/sklearn/metrics/_classification.py:1344: UndefinedMetricWarning: Precision is ill-defined and being set to 0.0 due to no predicted samples. Use `zero_division` parameter to control this behavior.\n",
            "  _warn_prf(average, modifier, msg_start, len(result))\n"
          ]
        },
        {
          "output_type": "stream",
          "name": "stdout",
          "text": [
            "[CV 1/5] END model__C=1, model__gamma=0.01, smote__k_neighbors=5; accuracy: (test=0.840) f1: (test=0.000) mcc: (test=0.000) precision: (test=0.000) recall: (test=0.000) roc_auc: (test=0.655) specificity: (test=1.000) total time=   0.1s\n",
            "[CV 2/5] END model__C=1, model__gamma=0.01, smote__k_neighbors=5; accuracy: (test=0.840) f1: (test=0.000) mcc: (test=0.000) precision: (test=0.000) recall: (test=0.000) roc_auc: (test=0.665) specificity: (test=1.000) total time=   0.1s\n",
            "[CV 3/5] END model__C=1, model__gamma=0.01, smote__k_neighbors=5; accuracy: (test=0.840) f1: (test=0.000) mcc: (test=0.000) precision: (test=0.000) recall: (test=0.000) roc_auc: (test=0.647) specificity: (test=1.000) total time=   0.1s\n"
          ]
        },
        {
          "output_type": "stream",
          "name": "stderr",
          "text": [
            "/usr/local/lib/python3.10/dist-packages/sklearn/metrics/_classification.py:1344: UndefinedMetricWarning: Precision is ill-defined and being set to 0.0 due to no predicted samples. Use `zero_division` parameter to control this behavior.\n",
            "  _warn_prf(average, modifier, msg_start, len(result))\n",
            "/usr/local/lib/python3.10/dist-packages/sklearn/metrics/_classification.py:1344: UndefinedMetricWarning: Precision is ill-defined and being set to 0.0 due to no predicted samples. Use `zero_division` parameter to control this behavior.\n",
            "  _warn_prf(average, modifier, msg_start, len(result))\n",
            "/usr/local/lib/python3.10/dist-packages/sklearn/metrics/_classification.py:1344: UndefinedMetricWarning: Precision is ill-defined and being set to 0.0 due to no predicted samples. Use `zero_division` parameter to control this behavior.\n",
            "  _warn_prf(average, modifier, msg_start, len(result))\n"
          ]
        },
        {
          "output_type": "stream",
          "name": "stdout",
          "text": [
            "[CV 4/5] END model__C=1, model__gamma=0.01, smote__k_neighbors=5; accuracy: (test=0.840) f1: (test=0.000) mcc: (test=0.000) precision: (test=0.000) recall: (test=0.000) roc_auc: (test=0.573) specificity: (test=1.000) total time=   0.1s\n",
            "[CV 5/5] END model__C=1, model__gamma=0.01, smote__k_neighbors=5; accuracy: (test=0.846) f1: (test=0.000) mcc: (test=0.000) precision: (test=0.000) recall: (test=0.000) roc_auc: (test=0.650) specificity: (test=1.000) total time=   0.1s\n",
            "[CV 1/5] END model__C=1, model__gamma=0.01, smote__k_neighbors=7; accuracy: (test=0.840) f1: (test=0.000) mcc: (test=0.000) precision: (test=0.000) recall: (test=0.000) roc_auc: (test=0.652) specificity: (test=1.000) total time=   0.1s\n"
          ]
        },
        {
          "output_type": "stream",
          "name": "stderr",
          "text": [
            "/usr/local/lib/python3.10/dist-packages/sklearn/metrics/_classification.py:1344: UndefinedMetricWarning: Precision is ill-defined and being set to 0.0 due to no predicted samples. Use `zero_division` parameter to control this behavior.\n",
            "  _warn_prf(average, modifier, msg_start, len(result))\n",
            "/usr/local/lib/python3.10/dist-packages/sklearn/metrics/_classification.py:1344: UndefinedMetricWarning: Precision is ill-defined and being set to 0.0 due to no predicted samples. Use `zero_division` parameter to control this behavior.\n",
            "  _warn_prf(average, modifier, msg_start, len(result))\n",
            "/usr/local/lib/python3.10/dist-packages/sklearn/metrics/_classification.py:1344: UndefinedMetricWarning: Precision is ill-defined and being set to 0.0 due to no predicted samples. Use `zero_division` parameter to control this behavior.\n",
            "  _warn_prf(average, modifier, msg_start, len(result))\n"
          ]
        },
        {
          "output_type": "stream",
          "name": "stdout",
          "text": [
            "[CV 2/5] END model__C=1, model__gamma=0.01, smote__k_neighbors=7; accuracy: (test=0.840) f1: (test=0.000) mcc: (test=0.000) precision: (test=0.000) recall: (test=0.000) roc_auc: (test=0.654) specificity: (test=1.000) total time=   0.1s\n",
            "[CV 3/5] END model__C=1, model__gamma=0.01, smote__k_neighbors=7; accuracy: (test=0.840) f1: (test=0.000) mcc: (test=0.000) precision: (test=0.000) recall: (test=0.000) roc_auc: (test=0.643) specificity: (test=1.000) total time=   0.1s\n",
            "[CV 4/5] END model__C=1, model__gamma=0.01, smote__k_neighbors=7; accuracy: (test=0.840) f1: (test=0.000) mcc: (test=0.000) precision: (test=0.000) recall: (test=0.000) roc_auc: (test=0.601) specificity: (test=1.000) total time=   0.1s\n"
          ]
        },
        {
          "output_type": "stream",
          "name": "stderr",
          "text": [
            "/usr/local/lib/python3.10/dist-packages/sklearn/metrics/_classification.py:1344: UndefinedMetricWarning: Precision is ill-defined and being set to 0.0 due to no predicted samples. Use `zero_division` parameter to control this behavior.\n",
            "  _warn_prf(average, modifier, msg_start, len(result))\n",
            "/usr/local/lib/python3.10/dist-packages/sklearn/metrics/_classification.py:1344: UndefinedMetricWarning: Precision is ill-defined and being set to 0.0 due to no predicted samples. Use `zero_division` parameter to control this behavior.\n",
            "  _warn_prf(average, modifier, msg_start, len(result))\n",
            "/usr/local/lib/python3.10/dist-packages/sklearn/metrics/_classification.py:1344: UndefinedMetricWarning: Precision is ill-defined and being set to 0.0 due to no predicted samples. Use `zero_division` parameter to control this behavior.\n",
            "  _warn_prf(average, modifier, msg_start, len(result))\n"
          ]
        },
        {
          "output_type": "stream",
          "name": "stdout",
          "text": [
            "[CV 5/5] END model__C=1, model__gamma=0.01, smote__k_neighbors=7; accuracy: (test=0.846) f1: (test=0.000) mcc: (test=0.000) precision: (test=0.000) recall: (test=0.000) roc_auc: (test=0.653) specificity: (test=1.000) total time=   0.1s\n",
            "[CV 1/5] END model__C=1, model__gamma=0.1, smote__k_neighbors=3; accuracy: (test=0.840) f1: (test=0.000) mcc: (test=0.000) precision: (test=0.000) recall: (test=0.000) roc_auc: (test=0.518) specificity: (test=1.000) total time=   0.1s\n",
            "[CV 2/5] END model__C=1, model__gamma=0.1, smote__k_neighbors=3; accuracy: (test=0.840) f1: (test=0.000) mcc: (test=0.000) precision: (test=0.000) recall: (test=0.000) roc_auc: (test=0.518) specificity: (test=1.000) total time=   0.1s\n"
          ]
        },
        {
          "output_type": "stream",
          "name": "stderr",
          "text": [
            "/usr/local/lib/python3.10/dist-packages/sklearn/metrics/_classification.py:1344: UndefinedMetricWarning: Precision is ill-defined and being set to 0.0 due to no predicted samples. Use `zero_division` parameter to control this behavior.\n",
            "  _warn_prf(average, modifier, msg_start, len(result))\n",
            "/usr/local/lib/python3.10/dist-packages/sklearn/metrics/_classification.py:1344: UndefinedMetricWarning: Precision is ill-defined and being set to 0.0 due to no predicted samples. Use `zero_division` parameter to control this behavior.\n",
            "  _warn_prf(average, modifier, msg_start, len(result))\n",
            "/usr/local/lib/python3.10/dist-packages/sklearn/metrics/_classification.py:1344: UndefinedMetricWarning: Precision is ill-defined and being set to 0.0 due to no predicted samples. Use `zero_division` parameter to control this behavior.\n",
            "  _warn_prf(average, modifier, msg_start, len(result))\n"
          ]
        },
        {
          "output_type": "stream",
          "name": "stdout",
          "text": [
            "[CV 3/5] END model__C=1, model__gamma=0.1, smote__k_neighbors=3; accuracy: (test=0.840) f1: (test=0.000) mcc: (test=0.000) precision: (test=0.000) recall: (test=0.000) roc_auc: (test=0.559) specificity: (test=1.000) total time=   0.1s\n",
            "[CV 4/5] END model__C=1, model__gamma=0.1, smote__k_neighbors=3; accuracy: (test=0.840) f1: (test=0.000) mcc: (test=0.000) precision: (test=0.000) recall: (test=0.000) roc_auc: (test=0.508) specificity: (test=1.000) total time=   0.1s\n",
            "[CV 5/5] END model__C=1, model__gamma=0.1, smote__k_neighbors=3; accuracy: (test=0.846) f1: (test=0.000) mcc: (test=0.000) precision: (test=0.000) recall: (test=0.000) roc_auc: (test=0.564) specificity: (test=1.000) total time=   0.1s\n"
          ]
        },
        {
          "output_type": "stream",
          "name": "stderr",
          "text": [
            "/usr/local/lib/python3.10/dist-packages/sklearn/metrics/_classification.py:1344: UndefinedMetricWarning: Precision is ill-defined and being set to 0.0 due to no predicted samples. Use `zero_division` parameter to control this behavior.\n",
            "  _warn_prf(average, modifier, msg_start, len(result))\n",
            "/usr/local/lib/python3.10/dist-packages/sklearn/metrics/_classification.py:1344: UndefinedMetricWarning: Precision is ill-defined and being set to 0.0 due to no predicted samples. Use `zero_division` parameter to control this behavior.\n",
            "  _warn_prf(average, modifier, msg_start, len(result))\n",
            "/usr/local/lib/python3.10/dist-packages/sklearn/metrics/_classification.py:1344: UndefinedMetricWarning: Precision is ill-defined and being set to 0.0 due to no predicted samples. Use `zero_division` parameter to control this behavior.\n",
            "  _warn_prf(average, modifier, msg_start, len(result))\n"
          ]
        },
        {
          "output_type": "stream",
          "name": "stdout",
          "text": [
            "[CV 1/5] END model__C=1, model__gamma=0.1, smote__k_neighbors=5; accuracy: (test=0.840) f1: (test=0.000) mcc: (test=0.000) precision: (test=0.000) recall: (test=0.000) roc_auc: (test=0.518) specificity: (test=1.000) total time=   0.1s\n",
            "[CV 2/5] END model__C=1, model__gamma=0.1, smote__k_neighbors=5; accuracy: (test=0.840) f1: (test=0.000) mcc: (test=0.000) precision: (test=0.000) recall: (test=0.000) roc_auc: (test=0.523) specificity: (test=1.000) total time=   0.1s\n",
            "[CV 3/5] END model__C=1, model__gamma=0.1, smote__k_neighbors=5; accuracy: (test=0.840) f1: (test=0.000) mcc: (test=0.000) precision: (test=0.000) recall: (test=0.000) roc_auc: (test=0.559) specificity: (test=1.000) total time=   0.1s\n"
          ]
        },
        {
          "output_type": "stream",
          "name": "stderr",
          "text": [
            "/usr/local/lib/python3.10/dist-packages/sklearn/metrics/_classification.py:1344: UndefinedMetricWarning: Precision is ill-defined and being set to 0.0 due to no predicted samples. Use `zero_division` parameter to control this behavior.\n",
            "  _warn_prf(average, modifier, msg_start, len(result))\n",
            "/usr/local/lib/python3.10/dist-packages/sklearn/metrics/_classification.py:1344: UndefinedMetricWarning: Precision is ill-defined and being set to 0.0 due to no predicted samples. Use `zero_division` parameter to control this behavior.\n",
            "  _warn_prf(average, modifier, msg_start, len(result))\n",
            "/usr/local/lib/python3.10/dist-packages/sklearn/metrics/_classification.py:1344: UndefinedMetricWarning: Precision is ill-defined and being set to 0.0 due to no predicted samples. Use `zero_division` parameter to control this behavior.\n",
            "  _warn_prf(average, modifier, msg_start, len(result))\n"
          ]
        },
        {
          "output_type": "stream",
          "name": "stdout",
          "text": [
            "[CV 4/5] END model__C=1, model__gamma=0.1, smote__k_neighbors=5; accuracy: (test=0.840) f1: (test=0.000) mcc: (test=0.000) precision: (test=0.000) recall: (test=0.000) roc_auc: (test=0.504) specificity: (test=1.000) total time=   0.1s\n",
            "[CV 5/5] END model__C=1, model__gamma=0.1, smote__k_neighbors=5; accuracy: (test=0.846) f1: (test=0.000) mcc: (test=0.000) precision: (test=0.000) recall: (test=0.000) roc_auc: (test=0.568) specificity: (test=1.000) total time=   0.1s\n",
            "[CV 1/5] END model__C=1, model__gamma=0.1, smote__k_neighbors=7; accuracy: (test=0.840) f1: (test=0.000) mcc: (test=0.000) precision: (test=0.000) recall: (test=0.000) roc_auc: (test=0.518) specificity: (test=1.000) total time=   0.1s\n"
          ]
        },
        {
          "output_type": "stream",
          "name": "stderr",
          "text": [
            "/usr/local/lib/python3.10/dist-packages/sklearn/metrics/_classification.py:1344: UndefinedMetricWarning: Precision is ill-defined and being set to 0.0 due to no predicted samples. Use `zero_division` parameter to control this behavior.\n",
            "  _warn_prf(average, modifier, msg_start, len(result))\n",
            "/usr/local/lib/python3.10/dist-packages/sklearn/metrics/_classification.py:1344: UndefinedMetricWarning: Precision is ill-defined and being set to 0.0 due to no predicted samples. Use `zero_division` parameter to control this behavior.\n",
            "  _warn_prf(average, modifier, msg_start, len(result))\n",
            "/usr/local/lib/python3.10/dist-packages/sklearn/metrics/_classification.py:1344: UndefinedMetricWarning: Precision is ill-defined and being set to 0.0 due to no predicted samples. Use `zero_division` parameter to control this behavior.\n",
            "  _warn_prf(average, modifier, msg_start, len(result))\n"
          ]
        },
        {
          "output_type": "stream",
          "name": "stdout",
          "text": [
            "[CV 2/5] END model__C=1, model__gamma=0.1, smote__k_neighbors=7; accuracy: (test=0.840) f1: (test=0.000) mcc: (test=0.000) precision: (test=0.000) recall: (test=0.000) roc_auc: (test=0.523) specificity: (test=1.000) total time=   0.1s\n",
            "[CV 3/5] END model__C=1, model__gamma=0.1, smote__k_neighbors=7; accuracy: (test=0.840) f1: (test=0.000) mcc: (test=0.000) precision: (test=0.000) recall: (test=0.000) roc_auc: (test=0.550) specificity: (test=1.000) total time=   0.1s\n",
            "[CV 4/5] END model__C=1, model__gamma=0.1, smote__k_neighbors=7; accuracy: (test=0.840) f1: (test=0.000) mcc: (test=0.000) precision: (test=0.000) recall: (test=0.000) roc_auc: (test=0.529) specificity: (test=1.000) total time=   0.1s\n"
          ]
        },
        {
          "output_type": "stream",
          "name": "stderr",
          "text": [
            "/usr/local/lib/python3.10/dist-packages/sklearn/metrics/_classification.py:1344: UndefinedMetricWarning: Precision is ill-defined and being set to 0.0 due to no predicted samples. Use `zero_division` parameter to control this behavior.\n",
            "  _warn_prf(average, modifier, msg_start, len(result))\n",
            "/usr/local/lib/python3.10/dist-packages/sklearn/metrics/_classification.py:1344: UndefinedMetricWarning: Precision is ill-defined and being set to 0.0 due to no predicted samples. Use `zero_division` parameter to control this behavior.\n",
            "  _warn_prf(average, modifier, msg_start, len(result))\n",
            "/usr/local/lib/python3.10/dist-packages/sklearn/metrics/_classification.py:1344: UndefinedMetricWarning: Precision is ill-defined and being set to 0.0 due to no predicted samples. Use `zero_division` parameter to control this behavior.\n",
            "  _warn_prf(average, modifier, msg_start, len(result))\n"
          ]
        },
        {
          "output_type": "stream",
          "name": "stdout",
          "text": [
            "[CV 5/5] END model__C=1, model__gamma=0.1, smote__k_neighbors=7; accuracy: (test=0.846) f1: (test=0.000) mcc: (test=0.000) precision: (test=0.000) recall: (test=0.000) roc_auc: (test=0.564) specificity: (test=1.000) total time=   0.1s\n",
            "[CV 1/5] END model__C=1, model__gamma=1, smote__k_neighbors=3; accuracy: (test=0.840) f1: (test=0.000) mcc: (test=0.000) precision: (test=0.000) recall: (test=0.000) roc_auc: (test=0.500) specificity: (test=1.000) total time=   0.1s\n",
            "[CV 2/5] END model__C=1, model__gamma=1, smote__k_neighbors=3; accuracy: (test=0.840) f1: (test=0.000) mcc: (test=0.000) precision: (test=0.000) recall: (test=0.000) roc_auc: (test=0.500) specificity: (test=1.000) total time=   0.1s\n"
          ]
        },
        {
          "output_type": "stream",
          "name": "stderr",
          "text": [
            "/usr/local/lib/python3.10/dist-packages/sklearn/metrics/_classification.py:1344: UndefinedMetricWarning: Precision is ill-defined and being set to 0.0 due to no predicted samples. Use `zero_division` parameter to control this behavior.\n",
            "  _warn_prf(average, modifier, msg_start, len(result))\n",
            "/usr/local/lib/python3.10/dist-packages/sklearn/metrics/_classification.py:1344: UndefinedMetricWarning: Precision is ill-defined and being set to 0.0 due to no predicted samples. Use `zero_division` parameter to control this behavior.\n",
            "  _warn_prf(average, modifier, msg_start, len(result))\n",
            "/usr/local/lib/python3.10/dist-packages/sklearn/metrics/_classification.py:1344: UndefinedMetricWarning: Precision is ill-defined and being set to 0.0 due to no predicted samples. Use `zero_division` parameter to control this behavior.\n",
            "  _warn_prf(average, modifier, msg_start, len(result))\n"
          ]
        },
        {
          "output_type": "stream",
          "name": "stdout",
          "text": [
            "[CV 3/5] END model__C=1, model__gamma=1, smote__k_neighbors=3; accuracy: (test=0.840) f1: (test=0.000) mcc: (test=0.000) precision: (test=0.000) recall: (test=0.000) roc_auc: (test=0.500) specificity: (test=1.000) total time=   0.1s\n",
            "[CV 4/5] END model__C=1, model__gamma=1, smote__k_neighbors=3; accuracy: (test=0.840) f1: (test=0.000) mcc: (test=0.000) precision: (test=0.000) recall: (test=0.000) roc_auc: (test=0.500) specificity: (test=1.000) total time=   0.1s\n",
            "[CV 5/5] END model__C=1, model__gamma=1, smote__k_neighbors=3; accuracy: (test=0.846) f1: (test=0.000) mcc: (test=0.000) precision: (test=0.000) recall: (test=0.000) roc_auc: (test=0.500) specificity: (test=1.000) total time=   0.1s\n"
          ]
        },
        {
          "output_type": "stream",
          "name": "stderr",
          "text": [
            "/usr/local/lib/python3.10/dist-packages/sklearn/metrics/_classification.py:1344: UndefinedMetricWarning: Precision is ill-defined and being set to 0.0 due to no predicted samples. Use `zero_division` parameter to control this behavior.\n",
            "  _warn_prf(average, modifier, msg_start, len(result))\n",
            "/usr/local/lib/python3.10/dist-packages/sklearn/metrics/_classification.py:1344: UndefinedMetricWarning: Precision is ill-defined and being set to 0.0 due to no predicted samples. Use `zero_division` parameter to control this behavior.\n",
            "  _warn_prf(average, modifier, msg_start, len(result))\n",
            "/usr/local/lib/python3.10/dist-packages/sklearn/metrics/_classification.py:1344: UndefinedMetricWarning: Precision is ill-defined and being set to 0.0 due to no predicted samples. Use `zero_division` parameter to control this behavior.\n",
            "  _warn_prf(average, modifier, msg_start, len(result))\n"
          ]
        },
        {
          "output_type": "stream",
          "name": "stdout",
          "text": [
            "[CV 1/5] END model__C=1, model__gamma=1, smote__k_neighbors=5; accuracy: (test=0.840) f1: (test=0.000) mcc: (test=0.000) precision: (test=0.000) recall: (test=0.000) roc_auc: (test=0.500) specificity: (test=1.000) total time=   0.1s\n",
            "[CV 2/5] END model__C=1, model__gamma=1, smote__k_neighbors=5; accuracy: (test=0.840) f1: (test=0.000) mcc: (test=0.000) precision: (test=0.000) recall: (test=0.000) roc_auc: (test=0.500) specificity: (test=1.000) total time=   0.1s\n",
            "[CV 3/5] END model__C=1, model__gamma=1, smote__k_neighbors=5; accuracy: (test=0.840) f1: (test=0.000) mcc: (test=0.000) precision: (test=0.000) recall: (test=0.000) roc_auc: (test=0.500) specificity: (test=1.000) total time=   0.1s\n"
          ]
        },
        {
          "output_type": "stream",
          "name": "stderr",
          "text": [
            "/usr/local/lib/python3.10/dist-packages/sklearn/metrics/_classification.py:1344: UndefinedMetricWarning: Precision is ill-defined and being set to 0.0 due to no predicted samples. Use `zero_division` parameter to control this behavior.\n",
            "  _warn_prf(average, modifier, msg_start, len(result))\n",
            "/usr/local/lib/python3.10/dist-packages/sklearn/metrics/_classification.py:1344: UndefinedMetricWarning: Precision is ill-defined and being set to 0.0 due to no predicted samples. Use `zero_division` parameter to control this behavior.\n",
            "  _warn_prf(average, modifier, msg_start, len(result))\n",
            "/usr/local/lib/python3.10/dist-packages/sklearn/metrics/_classification.py:1344: UndefinedMetricWarning: Precision is ill-defined and being set to 0.0 due to no predicted samples. Use `zero_division` parameter to control this behavior.\n",
            "  _warn_prf(average, modifier, msg_start, len(result))\n"
          ]
        },
        {
          "output_type": "stream",
          "name": "stdout",
          "text": [
            "[CV 4/5] END model__C=1, model__gamma=1, smote__k_neighbors=5; accuracy: (test=0.840) f1: (test=0.000) mcc: (test=0.000) precision: (test=0.000) recall: (test=0.000) roc_auc: (test=0.500) specificity: (test=1.000) total time=   0.1s\n",
            "[CV 5/5] END model__C=1, model__gamma=1, smote__k_neighbors=5; accuracy: (test=0.846) f1: (test=0.000) mcc: (test=0.000) precision: (test=0.000) recall: (test=0.000) roc_auc: (test=0.500) specificity: (test=1.000) total time=   0.1s\n",
            "[CV 1/5] END model__C=1, model__gamma=1, smote__k_neighbors=7; accuracy: (test=0.840) f1: (test=0.000) mcc: (test=0.000) precision: (test=0.000) recall: (test=0.000) roc_auc: (test=0.500) specificity: (test=1.000) total time=   0.1s\n"
          ]
        },
        {
          "output_type": "stream",
          "name": "stderr",
          "text": [
            "/usr/local/lib/python3.10/dist-packages/sklearn/metrics/_classification.py:1344: UndefinedMetricWarning: Precision is ill-defined and being set to 0.0 due to no predicted samples. Use `zero_division` parameter to control this behavior.\n",
            "  _warn_prf(average, modifier, msg_start, len(result))\n",
            "/usr/local/lib/python3.10/dist-packages/sklearn/metrics/_classification.py:1344: UndefinedMetricWarning: Precision is ill-defined and being set to 0.0 due to no predicted samples. Use `zero_division` parameter to control this behavior.\n",
            "  _warn_prf(average, modifier, msg_start, len(result))\n",
            "/usr/local/lib/python3.10/dist-packages/sklearn/metrics/_classification.py:1344: UndefinedMetricWarning: Precision is ill-defined and being set to 0.0 due to no predicted samples. Use `zero_division` parameter to control this behavior.\n",
            "  _warn_prf(average, modifier, msg_start, len(result))\n"
          ]
        },
        {
          "output_type": "stream",
          "name": "stdout",
          "text": [
            "[CV 2/5] END model__C=1, model__gamma=1, smote__k_neighbors=7; accuracy: (test=0.840) f1: (test=0.000) mcc: (test=0.000) precision: (test=0.000) recall: (test=0.000) roc_auc: (test=0.500) specificity: (test=1.000) total time=   0.1s\n",
            "[CV 3/5] END model__C=1, model__gamma=1, smote__k_neighbors=7; accuracy: (test=0.840) f1: (test=0.000) mcc: (test=0.000) precision: (test=0.000) recall: (test=0.000) roc_auc: (test=0.500) specificity: (test=1.000) total time=   0.1s\n",
            "[CV 4/5] END model__C=1, model__gamma=1, smote__k_neighbors=7; accuracy: (test=0.840) f1: (test=0.000) mcc: (test=0.000) precision: (test=0.000) recall: (test=0.000) roc_auc: (test=0.500) specificity: (test=1.000) total time=   0.1s\n"
          ]
        },
        {
          "output_type": "stream",
          "name": "stderr",
          "text": [
            "/usr/local/lib/python3.10/dist-packages/sklearn/metrics/_classification.py:1344: UndefinedMetricWarning: Precision is ill-defined and being set to 0.0 due to no predicted samples. Use `zero_division` parameter to control this behavior.\n",
            "  _warn_prf(average, modifier, msg_start, len(result))\n",
            "/usr/local/lib/python3.10/dist-packages/sklearn/metrics/_classification.py:1344: UndefinedMetricWarning: Precision is ill-defined and being set to 0.0 due to no predicted samples. Use `zero_division` parameter to control this behavior.\n",
            "  _warn_prf(average, modifier, msg_start, len(result))\n"
          ]
        },
        {
          "output_type": "stream",
          "name": "stdout",
          "text": [
            "[CV 5/5] END model__C=1, model__gamma=1, smote__k_neighbors=7; accuracy: (test=0.846) f1: (test=0.000) mcc: (test=0.000) precision: (test=0.000) recall: (test=0.000) roc_auc: (test=0.500) specificity: (test=1.000) total time=   0.1s\n",
            "[CV 1/5] END model__C=10, model__gamma=0.001, smote__k_neighbors=3; accuracy: (test=0.863) f1: (test=0.250) mcc: (test=0.350) precision: (test=1.000) recall: (test=0.143) roc_auc: (test=0.668) specificity: (test=1.000) total time=   0.1s\n",
            "[CV 2/5] END model__C=10, model__gamma=0.001, smote__k_neighbors=3; accuracy: (test=0.809) f1: (test=0.324) mcc: (test=0.218) precision: (test=0.375) recall: (test=0.286) roc_auc: (test=0.747) specificity: (test=0.909) total time=   0.1s\n",
            "[CV 3/5] END model__C=10, model__gamma=0.001, smote__k_neighbors=3; accuracy: (test=0.840) f1: (test=0.276) mcc: (test=0.236) precision: (test=0.500) recall: (test=0.190) roc_auc: (test=0.649) specificity: (test=0.964) total time=   0.1s\n",
            "[CV 4/5] END model__C=10, model__gamma=0.001, smote__k_neighbors=3; accuracy: (test=0.832) f1: (test=0.214) mcc: (test=0.174) precision: (test=0.429) recall: (test=0.143) roc_auc: (test=0.696) specificity: (test=0.964) total time=   0.1s\n",
            "[CV 5/5] END model__C=10, model__gamma=0.001, smote__k_neighbors=3; accuracy: (test=0.823) f1: (test=0.258) mcc: (test=0.177) precision: (test=0.364) recall: (test=0.200) roc_auc: (test=0.725) specificity: (test=0.936) total time=   0.1s\n",
            "[CV 1/5] END model__C=10, model__gamma=0.001, smote__k_neighbors=5; accuracy: (test=0.863) f1: (test=0.400) mcc: (test=0.375) precision: (test=0.667) recall: (test=0.286) roc_auc: (test=0.662) specificity: (test=0.973) total time=   0.1s\n",
            "[CV 2/5] END model__C=10, model__gamma=0.001, smote__k_neighbors=5; accuracy: (test=0.786) f1: (test=0.364) mcc: (test=0.236) precision: (test=0.348) recall: (test=0.381) roc_auc: (test=0.724) specificity: (test=0.864) total time=   0.1s\n",
            "[CV 3/5] END model__C=10, model__gamma=0.001, smote__k_neighbors=5; accuracy: (test=0.832) f1: (test=0.267) mcc: (test=0.210) precision: (test=0.444) recall: (test=0.190) roc_auc: (test=0.641) specificity: (test=0.955) total time=   0.1s\n",
            "[CV 4/5] END model__C=10, model__gamma=0.001, smote__k_neighbors=5; accuracy: (test=0.832) f1: (test=0.214) mcc: (test=0.174) precision: (test=0.429) recall: (test=0.143) roc_auc: (test=0.681) specificity: (test=0.964) total time=   0.1s\n",
            "[CV 5/5] END model__C=10, model__gamma=0.001, smote__k_neighbors=5; accuracy: (test=0.838) f1: (test=0.222) mcc: (test=0.182) precision: (test=0.429) recall: (test=0.150) roc_auc: (test=0.731) specificity: (test=0.964) total time=   0.1s\n",
            "[CV 1/5] END model__C=10, model__gamma=0.001, smote__k_neighbors=7; accuracy: (test=0.863) f1: (test=0.357) mcc: (test=0.359) precision: (test=0.714) recall: (test=0.238) roc_auc: (test=0.732) specificity: (test=0.982) total time=   0.1s\n",
            "[CV 2/5] END model__C=10, model__gamma=0.001, smote__k_neighbors=7; accuracy: (test=0.809) f1: (test=0.419) mcc: (test=0.305) precision: (test=0.409) recall: (test=0.429) roc_auc: (test=0.733) specificity: (test=0.882) total time=   0.1s\n",
            "[CV 3/5] END model__C=10, model__gamma=0.001, smote__k_neighbors=7; accuracy: (test=0.802) f1: (test=0.235) mcc: (test=0.133) precision: (test=0.308) recall: (test=0.190) roc_auc: (test=0.619) specificity: (test=0.918) total time=   0.1s\n",
            "[CV 4/5] END model__C=10, model__gamma=0.001, smote__k_neighbors=7; accuracy: (test=0.817) f1: (test=0.143) mcc: (test=0.081) precision: (test=0.286) recall: (test=0.095) roc_auc: (test=0.678) specificity: (test=0.955) total time=   0.1s\n",
            "[CV 5/5] END model__C=10, model__gamma=0.001, smote__k_neighbors=7; accuracy: (test=0.800) f1: (test=0.235) mcc: (test=0.127) precision: (test=0.286) recall: (test=0.200) roc_auc: (test=0.720) specificity: (test=0.909) total time=   0.1s\n",
            "[CV 1/5] END model__C=10, model__gamma=0.01, smote__k_neighbors=3; accuracy: (test=0.840) f1: (test=0.000) mcc: (test=0.000) precision: (test=0.000) recall: (test=0.000) roc_auc: (test=0.631) specificity: (test=1.000) total time=   0.1s\n",
            "[CV 2/5] END model__C=10, model__gamma=0.01, smote__k_neighbors=3; accuracy: (test=0.840) f1: (test=0.000) mcc: (test=0.000) precision: (test=0.000) recall: (test=0.000) roc_auc: (test=0.640) specificity: (test=1.000) total time=   0.1s\n"
          ]
        },
        {
          "output_type": "stream",
          "name": "stderr",
          "text": [
            "/usr/local/lib/python3.10/dist-packages/sklearn/metrics/_classification.py:1344: UndefinedMetricWarning: Precision is ill-defined and being set to 0.0 due to no predicted samples. Use `zero_division` parameter to control this behavior.\n",
            "  _warn_prf(average, modifier, msg_start, len(result))\n",
            "/usr/local/lib/python3.10/dist-packages/sklearn/metrics/_classification.py:1344: UndefinedMetricWarning: Precision is ill-defined and being set to 0.0 due to no predicted samples. Use `zero_division` parameter to control this behavior.\n",
            "  _warn_prf(average, modifier, msg_start, len(result))\n",
            "/usr/local/lib/python3.10/dist-packages/sklearn/metrics/_classification.py:1344: UndefinedMetricWarning: Precision is ill-defined and being set to 0.0 due to no predicted samples. Use `zero_division` parameter to control this behavior.\n",
            "  _warn_prf(average, modifier, msg_start, len(result))\n"
          ]
        },
        {
          "output_type": "stream",
          "name": "stdout",
          "text": [
            "[CV 3/5] END model__C=10, model__gamma=0.01, smote__k_neighbors=3; accuracy: (test=0.840) f1: (test=0.000) mcc: (test=0.000) precision: (test=0.000) recall: (test=0.000) roc_auc: (test=0.656) specificity: (test=1.000) total time=   0.1s\n",
            "[CV 4/5] END model__C=10, model__gamma=0.01, smote__k_neighbors=3; accuracy: (test=0.840) f1: (test=0.000) mcc: (test=0.000) precision: (test=0.000) recall: (test=0.000) roc_auc: (test=0.576) specificity: (test=1.000) total time=   0.1s\n",
            "[CV 5/5] END model__C=10, model__gamma=0.01, smote__k_neighbors=3; accuracy: (test=0.846) f1: (test=0.000) mcc: (test=0.000) precision: (test=0.000) recall: (test=0.000) roc_auc: (test=0.670) specificity: (test=1.000) total time=   0.1s\n"
          ]
        },
        {
          "output_type": "stream",
          "name": "stderr",
          "text": [
            "/usr/local/lib/python3.10/dist-packages/sklearn/metrics/_classification.py:1344: UndefinedMetricWarning: Precision is ill-defined and being set to 0.0 due to no predicted samples. Use `zero_division` parameter to control this behavior.\n",
            "  _warn_prf(average, modifier, msg_start, len(result))\n",
            "/usr/local/lib/python3.10/dist-packages/sklearn/metrics/_classification.py:1344: UndefinedMetricWarning: Precision is ill-defined and being set to 0.0 due to no predicted samples. Use `zero_division` parameter to control this behavior.\n",
            "  _warn_prf(average, modifier, msg_start, len(result))\n",
            "/usr/local/lib/python3.10/dist-packages/sklearn/metrics/_classification.py:1344: UndefinedMetricWarning: Precision is ill-defined and being set to 0.0 due to no predicted samples. Use `zero_division` parameter to control this behavior.\n",
            "  _warn_prf(average, modifier, msg_start, len(result))\n"
          ]
        },
        {
          "output_type": "stream",
          "name": "stdout",
          "text": [
            "[CV 1/5] END model__C=10, model__gamma=0.01, smote__k_neighbors=5; accuracy: (test=0.840) f1: (test=0.000) mcc: (test=0.000) precision: (test=0.000) recall: (test=0.000) roc_auc: (test=0.655) specificity: (test=1.000) total time=   0.1s\n",
            "[CV 2/5] END model__C=10, model__gamma=0.01, smote__k_neighbors=5; accuracy: (test=0.840) f1: (test=0.000) mcc: (test=0.000) precision: (test=0.000) recall: (test=0.000) roc_auc: (test=0.667) specificity: (test=1.000) total time=   0.1s\n",
            "[CV 3/5] END model__C=10, model__gamma=0.01, smote__k_neighbors=5; accuracy: (test=0.840) f1: (test=0.000) mcc: (test=0.000) precision: (test=0.000) recall: (test=0.000) roc_auc: (test=0.648) specificity: (test=1.000) total time=   0.1s\n"
          ]
        },
        {
          "output_type": "stream",
          "name": "stderr",
          "text": [
            "/usr/local/lib/python3.10/dist-packages/sklearn/metrics/_classification.py:1344: UndefinedMetricWarning: Precision is ill-defined and being set to 0.0 due to no predicted samples. Use `zero_division` parameter to control this behavior.\n",
            "  _warn_prf(average, modifier, msg_start, len(result))\n",
            "/usr/local/lib/python3.10/dist-packages/sklearn/metrics/_classification.py:1344: UndefinedMetricWarning: Precision is ill-defined and being set to 0.0 due to no predicted samples. Use `zero_division` parameter to control this behavior.\n",
            "  _warn_prf(average, modifier, msg_start, len(result))\n",
            "/usr/local/lib/python3.10/dist-packages/sklearn/metrics/_classification.py:1344: UndefinedMetricWarning: Precision is ill-defined and being set to 0.0 due to no predicted samples. Use `zero_division` parameter to control this behavior.\n",
            "  _warn_prf(average, modifier, msg_start, len(result))\n"
          ]
        },
        {
          "output_type": "stream",
          "name": "stdout",
          "text": [
            "[CV 4/5] END model__C=10, model__gamma=0.01, smote__k_neighbors=5; accuracy: (test=0.840) f1: (test=0.000) mcc: (test=0.000) precision: (test=0.000) recall: (test=0.000) roc_auc: (test=0.569) specificity: (test=1.000) total time=   0.1s\n",
            "[CV 5/5] END model__C=10, model__gamma=0.01, smote__k_neighbors=5; accuracy: (test=0.846) f1: (test=0.000) mcc: (test=0.000) precision: (test=0.000) recall: (test=0.000) roc_auc: (test=0.650) specificity: (test=1.000) total time=   0.1s\n",
            "[CV 1/5] END model__C=10, model__gamma=0.01, smote__k_neighbors=7; accuracy: (test=0.840) f1: (test=0.000) mcc: (test=0.000) precision: (test=0.000) recall: (test=0.000) roc_auc: (test=0.651) specificity: (test=1.000) total time=   0.1s\n"
          ]
        },
        {
          "output_type": "stream",
          "name": "stderr",
          "text": [
            "/usr/local/lib/python3.10/dist-packages/sklearn/metrics/_classification.py:1344: UndefinedMetricWarning: Precision is ill-defined and being set to 0.0 due to no predicted samples. Use `zero_division` parameter to control this behavior.\n",
            "  _warn_prf(average, modifier, msg_start, len(result))\n",
            "/usr/local/lib/python3.10/dist-packages/sklearn/metrics/_classification.py:1344: UndefinedMetricWarning: Precision is ill-defined and being set to 0.0 due to no predicted samples. Use `zero_division` parameter to control this behavior.\n",
            "  _warn_prf(average, modifier, msg_start, len(result))\n",
            "/usr/local/lib/python3.10/dist-packages/sklearn/metrics/_classification.py:1344: UndefinedMetricWarning: Precision is ill-defined and being set to 0.0 due to no predicted samples. Use `zero_division` parameter to control this behavior.\n",
            "  _warn_prf(average, modifier, msg_start, len(result))\n"
          ]
        },
        {
          "output_type": "stream",
          "name": "stdout",
          "text": [
            "[CV 2/5] END model__C=10, model__gamma=0.01, smote__k_neighbors=7; accuracy: (test=0.840) f1: (test=0.000) mcc: (test=0.000) precision: (test=0.000) recall: (test=0.000) roc_auc: (test=0.654) specificity: (test=1.000) total time=   0.1s\n",
            "[CV 3/5] END model__C=10, model__gamma=0.01, smote__k_neighbors=7; accuracy: (test=0.840) f1: (test=0.000) mcc: (test=0.000) precision: (test=0.000) recall: (test=0.000) roc_auc: (test=0.639) specificity: (test=1.000) total time=   0.1s\n"
          ]
        },
        {
          "output_type": "stream",
          "name": "stderr",
          "text": [
            "/usr/local/lib/python3.10/dist-packages/sklearn/metrics/_classification.py:1344: UndefinedMetricWarning: Precision is ill-defined and being set to 0.0 due to no predicted samples. Use `zero_division` parameter to control this behavior.\n",
            "  _warn_prf(average, modifier, msg_start, len(result))\n",
            "/usr/local/lib/python3.10/dist-packages/sklearn/metrics/_classification.py:1344: UndefinedMetricWarning: Precision is ill-defined and being set to 0.0 due to no predicted samples. Use `zero_division` parameter to control this behavior.\n",
            "  _warn_prf(average, modifier, msg_start, len(result))\n"
          ]
        },
        {
          "output_type": "stream",
          "name": "stdout",
          "text": [
            "[CV 4/5] END model__C=10, model__gamma=0.01, smote__k_neighbors=7; accuracy: (test=0.840) f1: (test=0.000) mcc: (test=0.000) precision: (test=0.000) recall: (test=0.000) roc_auc: (test=0.606) specificity: (test=1.000) total time=   0.1s\n",
            "[CV 5/5] END model__C=10, model__gamma=0.01, smote__k_neighbors=7; accuracy: (test=0.846) f1: (test=0.000) mcc: (test=0.000) precision: (test=0.000) recall: (test=0.000) roc_auc: (test=0.653) specificity: (test=1.000) total time=   0.1s\n",
            "[CV 1/5] END model__C=10, model__gamma=0.1, smote__k_neighbors=3; accuracy: (test=0.840) f1: (test=0.000) mcc: (test=0.000) precision: (test=0.000) recall: (test=0.000) roc_auc: (test=0.518) specificity: (test=1.000) total time=   0.1s\n"
          ]
        },
        {
          "output_type": "stream",
          "name": "stderr",
          "text": [
            "/usr/local/lib/python3.10/dist-packages/sklearn/metrics/_classification.py:1344: UndefinedMetricWarning: Precision is ill-defined and being set to 0.0 due to no predicted samples. Use `zero_division` parameter to control this behavior.\n",
            "  _warn_prf(average, modifier, msg_start, len(result))\n",
            "/usr/local/lib/python3.10/dist-packages/sklearn/metrics/_classification.py:1344: UndefinedMetricWarning: Precision is ill-defined and being set to 0.0 due to no predicted samples. Use `zero_division` parameter to control this behavior.\n",
            "  _warn_prf(average, modifier, msg_start, len(result))\n",
            "/usr/local/lib/python3.10/dist-packages/sklearn/metrics/_classification.py:1344: UndefinedMetricWarning: Precision is ill-defined and being set to 0.0 due to no predicted samples. Use `zero_division` parameter to control this behavior.\n",
            "  _warn_prf(average, modifier, msg_start, len(result))\n"
          ]
        },
        {
          "output_type": "stream",
          "name": "stdout",
          "text": [
            "[CV 2/5] END model__C=10, model__gamma=0.1, smote__k_neighbors=3; accuracy: (test=0.840) f1: (test=0.000) mcc: (test=0.000) precision: (test=0.000) recall: (test=0.000) roc_auc: (test=0.523) specificity: (test=1.000) total time=   0.1s\n",
            "[CV 3/5] END model__C=10, model__gamma=0.1, smote__k_neighbors=3; accuracy: (test=0.840) f1: (test=0.000) mcc: (test=0.000) precision: (test=0.000) recall: (test=0.000) roc_auc: (test=0.559) specificity: (test=1.000) total time=   0.1s\n",
            "[CV 4/5] END model__C=10, model__gamma=0.1, smote__k_neighbors=3; accuracy: (test=0.840) f1: (test=0.000) mcc: (test=0.000) precision: (test=0.000) recall: (test=0.000) roc_auc: (test=0.504) specificity: (test=1.000) total time=   0.1s\n"
          ]
        },
        {
          "output_type": "stream",
          "name": "stderr",
          "text": [
            "/usr/local/lib/python3.10/dist-packages/sklearn/metrics/_classification.py:1344: UndefinedMetricWarning: Precision is ill-defined and being set to 0.0 due to no predicted samples. Use `zero_division` parameter to control this behavior.\n",
            "  _warn_prf(average, modifier, msg_start, len(result))\n",
            "/usr/local/lib/python3.10/dist-packages/sklearn/metrics/_classification.py:1344: UndefinedMetricWarning: Precision is ill-defined and being set to 0.0 due to no predicted samples. Use `zero_division` parameter to control this behavior.\n",
            "  _warn_prf(average, modifier, msg_start, len(result))\n",
            "/usr/local/lib/python3.10/dist-packages/sklearn/metrics/_classification.py:1344: UndefinedMetricWarning: Precision is ill-defined and being set to 0.0 due to no predicted samples. Use `zero_division` parameter to control this behavior.\n",
            "  _warn_prf(average, modifier, msg_start, len(result))\n"
          ]
        },
        {
          "output_type": "stream",
          "name": "stdout",
          "text": [
            "[CV 5/5] END model__C=10, model__gamma=0.1, smote__k_neighbors=3; accuracy: (test=0.846) f1: (test=0.000) mcc: (test=0.000) precision: (test=0.000) recall: (test=0.000) roc_auc: (test=0.568) specificity: (test=1.000) total time=   0.1s\n",
            "[CV 1/5] END model__C=10, model__gamma=0.1, smote__k_neighbors=5; accuracy: (test=0.840) f1: (test=0.000) mcc: (test=0.000) precision: (test=0.000) recall: (test=0.000) roc_auc: (test=0.518) specificity: (test=1.000) total time=   0.1s\n",
            "[CV 2/5] END model__C=10, model__gamma=0.1, smote__k_neighbors=5; accuracy: (test=0.840) f1: (test=0.000) mcc: (test=0.000) precision: (test=0.000) recall: (test=0.000) roc_auc: (test=0.523) specificity: (test=1.000) total time=   0.1s\n"
          ]
        },
        {
          "output_type": "stream",
          "name": "stderr",
          "text": [
            "/usr/local/lib/python3.10/dist-packages/sklearn/metrics/_classification.py:1344: UndefinedMetricWarning: Precision is ill-defined and being set to 0.0 due to no predicted samples. Use `zero_division` parameter to control this behavior.\n",
            "  _warn_prf(average, modifier, msg_start, len(result))\n",
            "/usr/local/lib/python3.10/dist-packages/sklearn/metrics/_classification.py:1344: UndefinedMetricWarning: Precision is ill-defined and being set to 0.0 due to no predicted samples. Use `zero_division` parameter to control this behavior.\n",
            "  _warn_prf(average, modifier, msg_start, len(result))\n",
            "/usr/local/lib/python3.10/dist-packages/sklearn/metrics/_classification.py:1344: UndefinedMetricWarning: Precision is ill-defined and being set to 0.0 due to no predicted samples. Use `zero_division` parameter to control this behavior.\n",
            "  _warn_prf(average, modifier, msg_start, len(result))\n"
          ]
        },
        {
          "output_type": "stream",
          "name": "stdout",
          "text": [
            "[CV 3/5] END model__C=10, model__gamma=0.1, smote__k_neighbors=5; accuracy: (test=0.840) f1: (test=0.000) mcc: (test=0.000) precision: (test=0.000) recall: (test=0.000) roc_auc: (test=0.555) specificity: (test=1.000) total time=   0.1s\n",
            "[CV 4/5] END model__C=10, model__gamma=0.1, smote__k_neighbors=5; accuracy: (test=0.840) f1: (test=0.000) mcc: (test=0.000) precision: (test=0.000) recall: (test=0.000) roc_auc: (test=0.504) specificity: (test=1.000) total time=   0.1s\n",
            "[CV 5/5] END model__C=10, model__gamma=0.1, smote__k_neighbors=5; accuracy: (test=0.846) f1: (test=0.000) mcc: (test=0.000) precision: (test=0.000) recall: (test=0.000) roc_auc: (test=0.568) specificity: (test=1.000) total time=   0.1s\n"
          ]
        },
        {
          "output_type": "stream",
          "name": "stderr",
          "text": [
            "/usr/local/lib/python3.10/dist-packages/sklearn/metrics/_classification.py:1344: UndefinedMetricWarning: Precision is ill-defined and being set to 0.0 due to no predicted samples. Use `zero_division` parameter to control this behavior.\n",
            "  _warn_prf(average, modifier, msg_start, len(result))\n",
            "/usr/local/lib/python3.10/dist-packages/sklearn/metrics/_classification.py:1344: UndefinedMetricWarning: Precision is ill-defined and being set to 0.0 due to no predicted samples. Use `zero_division` parameter to control this behavior.\n",
            "  _warn_prf(average, modifier, msg_start, len(result))\n",
            "/usr/local/lib/python3.10/dist-packages/sklearn/metrics/_classification.py:1344: UndefinedMetricWarning: Precision is ill-defined and being set to 0.0 due to no predicted samples. Use `zero_division` parameter to control this behavior.\n",
            "  _warn_prf(average, modifier, msg_start, len(result))\n"
          ]
        },
        {
          "output_type": "stream",
          "name": "stdout",
          "text": [
            "[CV 1/5] END model__C=10, model__gamma=0.1, smote__k_neighbors=7; accuracy: (test=0.840) f1: (test=0.000) mcc: (test=0.000) precision: (test=0.000) recall: (test=0.000) roc_auc: (test=0.518) specificity: (test=1.000) total time=   0.1s\n",
            "[CV 2/5] END model__C=10, model__gamma=0.1, smote__k_neighbors=7; accuracy: (test=0.840) f1: (test=0.000) mcc: (test=0.000) precision: (test=0.000) recall: (test=0.000) roc_auc: (test=0.523) specificity: (test=1.000) total time=   0.1s\n",
            "[CV 3/5] END model__C=10, model__gamma=0.1, smote__k_neighbors=7; accuracy: (test=0.840) f1: (test=0.000) mcc: (test=0.000) precision: (test=0.000) recall: (test=0.000) roc_auc: (test=0.550) specificity: (test=1.000) total time=   0.1s\n"
          ]
        },
        {
          "output_type": "stream",
          "name": "stderr",
          "text": [
            "/usr/local/lib/python3.10/dist-packages/sklearn/metrics/_classification.py:1344: UndefinedMetricWarning: Precision is ill-defined and being set to 0.0 due to no predicted samples. Use `zero_division` parameter to control this behavior.\n",
            "  _warn_prf(average, modifier, msg_start, len(result))\n",
            "/usr/local/lib/python3.10/dist-packages/sklearn/metrics/_classification.py:1344: UndefinedMetricWarning: Precision is ill-defined and being set to 0.0 due to no predicted samples. Use `zero_division` parameter to control this behavior.\n",
            "  _warn_prf(average, modifier, msg_start, len(result))\n",
            "/usr/local/lib/python3.10/dist-packages/sklearn/metrics/_classification.py:1344: UndefinedMetricWarning: Precision is ill-defined and being set to 0.0 due to no predicted samples. Use `zero_division` parameter to control this behavior.\n",
            "  _warn_prf(average, modifier, msg_start, len(result))\n"
          ]
        },
        {
          "output_type": "stream",
          "name": "stdout",
          "text": [
            "[CV 4/5] END model__C=10, model__gamma=0.1, smote__k_neighbors=7; accuracy: (test=0.840) f1: (test=0.000) mcc: (test=0.000) precision: (test=0.000) recall: (test=0.000) roc_auc: (test=0.529) specificity: (test=1.000) total time=   0.1s\n",
            "[CV 5/5] END model__C=10, model__gamma=0.1, smote__k_neighbors=7; accuracy: (test=0.846) f1: (test=0.000) mcc: (test=0.000) precision: (test=0.000) recall: (test=0.000) roc_auc: (test=0.564) specificity: (test=1.000) total time=   0.1s\n",
            "[CV 1/5] END model__C=10, model__gamma=1, smote__k_neighbors=3; accuracy: (test=0.840) f1: (test=0.000) mcc: (test=0.000) precision: (test=0.000) recall: (test=0.000) roc_auc: (test=0.500) specificity: (test=1.000) total time=   0.1s\n"
          ]
        },
        {
          "output_type": "stream",
          "name": "stderr",
          "text": [
            "/usr/local/lib/python3.10/dist-packages/sklearn/metrics/_classification.py:1344: UndefinedMetricWarning: Precision is ill-defined and being set to 0.0 due to no predicted samples. Use `zero_division` parameter to control this behavior.\n",
            "  _warn_prf(average, modifier, msg_start, len(result))\n",
            "/usr/local/lib/python3.10/dist-packages/sklearn/metrics/_classification.py:1344: UndefinedMetricWarning: Precision is ill-defined and being set to 0.0 due to no predicted samples. Use `zero_division` parameter to control this behavior.\n",
            "  _warn_prf(average, modifier, msg_start, len(result))\n",
            "/usr/local/lib/python3.10/dist-packages/sklearn/metrics/_classification.py:1344: UndefinedMetricWarning: Precision is ill-defined and being set to 0.0 due to no predicted samples. Use `zero_division` parameter to control this behavior.\n",
            "  _warn_prf(average, modifier, msg_start, len(result))\n"
          ]
        },
        {
          "output_type": "stream",
          "name": "stdout",
          "text": [
            "[CV 2/5] END model__C=10, model__gamma=1, smote__k_neighbors=3; accuracy: (test=0.840) f1: (test=0.000) mcc: (test=0.000) precision: (test=0.000) recall: (test=0.000) roc_auc: (test=0.500) specificity: (test=1.000) total time=   0.1s\n",
            "[CV 3/5] END model__C=10, model__gamma=1, smote__k_neighbors=3; accuracy: (test=0.840) f1: (test=0.000) mcc: (test=0.000) precision: (test=0.000) recall: (test=0.000) roc_auc: (test=0.500) specificity: (test=1.000) total time=   0.1s\n",
            "[CV 4/5] END model__C=10, model__gamma=1, smote__k_neighbors=3; accuracy: (test=0.840) f1: (test=0.000) mcc: (test=0.000) precision: (test=0.000) recall: (test=0.000) roc_auc: (test=0.500) specificity: (test=1.000) total time=   0.1s\n"
          ]
        },
        {
          "output_type": "stream",
          "name": "stderr",
          "text": [
            "/usr/local/lib/python3.10/dist-packages/sklearn/metrics/_classification.py:1344: UndefinedMetricWarning: Precision is ill-defined and being set to 0.0 due to no predicted samples. Use `zero_division` parameter to control this behavior.\n",
            "  _warn_prf(average, modifier, msg_start, len(result))\n",
            "/usr/local/lib/python3.10/dist-packages/sklearn/metrics/_classification.py:1344: UndefinedMetricWarning: Precision is ill-defined and being set to 0.0 due to no predicted samples. Use `zero_division` parameter to control this behavior.\n",
            "  _warn_prf(average, modifier, msg_start, len(result))\n",
            "/usr/local/lib/python3.10/dist-packages/sklearn/metrics/_classification.py:1344: UndefinedMetricWarning: Precision is ill-defined and being set to 0.0 due to no predicted samples. Use `zero_division` parameter to control this behavior.\n",
            "  _warn_prf(average, modifier, msg_start, len(result))\n"
          ]
        },
        {
          "output_type": "stream",
          "name": "stdout",
          "text": [
            "[CV 5/5] END model__C=10, model__gamma=1, smote__k_neighbors=3; accuracy: (test=0.846) f1: (test=0.000) mcc: (test=0.000) precision: (test=0.000) recall: (test=0.000) roc_auc: (test=0.500) specificity: (test=1.000) total time=   0.1s\n",
            "[CV 1/5] END model__C=10, model__gamma=1, smote__k_neighbors=5; accuracy: (test=0.840) f1: (test=0.000) mcc: (test=0.000) precision: (test=0.000) recall: (test=0.000) roc_auc: (test=0.500) specificity: (test=1.000) total time=   0.1s\n",
            "[CV 2/5] END model__C=10, model__gamma=1, smote__k_neighbors=5; accuracy: (test=0.840) f1: (test=0.000) mcc: (test=0.000) precision: (test=0.000) recall: (test=0.000) roc_auc: (test=0.500) specificity: (test=1.000) total time=   0.1s\n"
          ]
        },
        {
          "output_type": "stream",
          "name": "stderr",
          "text": [
            "/usr/local/lib/python3.10/dist-packages/sklearn/metrics/_classification.py:1344: UndefinedMetricWarning: Precision is ill-defined and being set to 0.0 due to no predicted samples. Use `zero_division` parameter to control this behavior.\n",
            "  _warn_prf(average, modifier, msg_start, len(result))\n",
            "/usr/local/lib/python3.10/dist-packages/sklearn/metrics/_classification.py:1344: UndefinedMetricWarning: Precision is ill-defined and being set to 0.0 due to no predicted samples. Use `zero_division` parameter to control this behavior.\n",
            "  _warn_prf(average, modifier, msg_start, len(result))\n",
            "/usr/local/lib/python3.10/dist-packages/sklearn/metrics/_classification.py:1344: UndefinedMetricWarning: Precision is ill-defined and being set to 0.0 due to no predicted samples. Use `zero_division` parameter to control this behavior.\n",
            "  _warn_prf(average, modifier, msg_start, len(result))\n"
          ]
        },
        {
          "output_type": "stream",
          "name": "stdout",
          "text": [
            "[CV 3/5] END model__C=10, model__gamma=1, smote__k_neighbors=5; accuracy: (test=0.840) f1: (test=0.000) mcc: (test=0.000) precision: (test=0.000) recall: (test=0.000) roc_auc: (test=0.500) specificity: (test=1.000) total time=   0.1s\n",
            "[CV 4/5] END model__C=10, model__gamma=1, smote__k_neighbors=5; accuracy: (test=0.840) f1: (test=0.000) mcc: (test=0.000) precision: (test=0.000) recall: (test=0.000) roc_auc: (test=0.500) specificity: (test=1.000) total time=   0.1s\n",
            "[CV 5/5] END model__C=10, model__gamma=1, smote__k_neighbors=5; accuracy: (test=0.846) f1: (test=0.000) mcc: (test=0.000) precision: (test=0.000) recall: (test=0.000) roc_auc: (test=0.500) specificity: (test=1.000) total time=   0.1s\n"
          ]
        },
        {
          "output_type": "stream",
          "name": "stderr",
          "text": [
            "/usr/local/lib/python3.10/dist-packages/sklearn/metrics/_classification.py:1344: UndefinedMetricWarning: Precision is ill-defined and being set to 0.0 due to no predicted samples. Use `zero_division` parameter to control this behavior.\n",
            "  _warn_prf(average, modifier, msg_start, len(result))\n",
            "/usr/local/lib/python3.10/dist-packages/sklearn/metrics/_classification.py:1344: UndefinedMetricWarning: Precision is ill-defined and being set to 0.0 due to no predicted samples. Use `zero_division` parameter to control this behavior.\n",
            "  _warn_prf(average, modifier, msg_start, len(result))\n",
            "/usr/local/lib/python3.10/dist-packages/sklearn/metrics/_classification.py:1344: UndefinedMetricWarning: Precision is ill-defined and being set to 0.0 due to no predicted samples. Use `zero_division` parameter to control this behavior.\n",
            "  _warn_prf(average, modifier, msg_start, len(result))\n"
          ]
        },
        {
          "output_type": "stream",
          "name": "stdout",
          "text": [
            "[CV 1/5] END model__C=10, model__gamma=1, smote__k_neighbors=7; accuracy: (test=0.840) f1: (test=0.000) mcc: (test=0.000) precision: (test=0.000) recall: (test=0.000) roc_auc: (test=0.500) specificity: (test=1.000) total time=   0.1s\n",
            "[CV 2/5] END model__C=10, model__gamma=1, smote__k_neighbors=7; accuracy: (test=0.840) f1: (test=0.000) mcc: (test=0.000) precision: (test=0.000) recall: (test=0.000) roc_auc: (test=0.500) specificity: (test=1.000) total time=   0.1s\n",
            "[CV 3/5] END model__C=10, model__gamma=1, smote__k_neighbors=7; accuracy: (test=0.840) f1: (test=0.000) mcc: (test=0.000) precision: (test=0.000) recall: (test=0.000) roc_auc: (test=0.500) specificity: (test=1.000) total time=   0.1s\n"
          ]
        },
        {
          "output_type": "stream",
          "name": "stderr",
          "text": [
            "/usr/local/lib/python3.10/dist-packages/sklearn/metrics/_classification.py:1344: UndefinedMetricWarning: Precision is ill-defined and being set to 0.0 due to no predicted samples. Use `zero_division` parameter to control this behavior.\n",
            "  _warn_prf(average, modifier, msg_start, len(result))\n",
            "/usr/local/lib/python3.10/dist-packages/sklearn/metrics/_classification.py:1344: UndefinedMetricWarning: Precision is ill-defined and being set to 0.0 due to no predicted samples. Use `zero_division` parameter to control this behavior.\n",
            "  _warn_prf(average, modifier, msg_start, len(result))\n",
            "/usr/local/lib/python3.10/dist-packages/sklearn/metrics/_classification.py:1344: UndefinedMetricWarning: Precision is ill-defined and being set to 0.0 due to no predicted samples. Use `zero_division` parameter to control this behavior.\n",
            "  _warn_prf(average, modifier, msg_start, len(result))\n"
          ]
        },
        {
          "output_type": "stream",
          "name": "stdout",
          "text": [
            "[CV 4/5] END model__C=10, model__gamma=1, smote__k_neighbors=7; accuracy: (test=0.840) f1: (test=0.000) mcc: (test=0.000) precision: (test=0.000) recall: (test=0.000) roc_auc: (test=0.500) specificity: (test=1.000) total time=   0.1s\n",
            "[CV 5/5] END model__C=10, model__gamma=1, smote__k_neighbors=7; accuracy: (test=0.846) f1: (test=0.000) mcc: (test=0.000) precision: (test=0.000) recall: (test=0.000) roc_auc: (test=0.500) specificity: (test=1.000) total time=   0.1s\n",
            "[CV 1/5] END model__C=100, model__gamma=0.001, smote__k_neighbors=3; accuracy: (test=0.863) f1: (test=0.250) mcc: (test=0.350) precision: (test=1.000) recall: (test=0.143) roc_auc: (test=0.668) specificity: (test=1.000) total time=   0.1s\n"
          ]
        },
        {
          "output_type": "stream",
          "name": "stderr",
          "text": [
            "/usr/local/lib/python3.10/dist-packages/sklearn/metrics/_classification.py:1344: UndefinedMetricWarning: Precision is ill-defined and being set to 0.0 due to no predicted samples. Use `zero_division` parameter to control this behavior.\n",
            "  _warn_prf(average, modifier, msg_start, len(result))\n"
          ]
        },
        {
          "output_type": "stream",
          "name": "stdout",
          "text": [
            "[CV 2/5] END model__C=100, model__gamma=0.001, smote__k_neighbors=3; accuracy: (test=0.809) f1: (test=0.324) mcc: (test=0.218) precision: (test=0.375) recall: (test=0.286) roc_auc: (test=0.747) specificity: (test=0.909) total time=   0.1s\n",
            "[CV 3/5] END model__C=100, model__gamma=0.001, smote__k_neighbors=3; accuracy: (test=0.840) f1: (test=0.276) mcc: (test=0.236) precision: (test=0.500) recall: (test=0.190) roc_auc: (test=0.648) specificity: (test=0.964) total time=   0.1s\n",
            "[CV 4/5] END model__C=100, model__gamma=0.001, smote__k_neighbors=3; accuracy: (test=0.840) f1: (test=0.222) mcc: (test=0.203) precision: (test=0.500) recall: (test=0.143) roc_auc: (test=0.696) specificity: (test=0.973) total time=   0.1s\n",
            "[CV 5/5] END model__C=100, model__gamma=0.001, smote__k_neighbors=3; accuracy: (test=0.823) f1: (test=0.258) mcc: (test=0.177) precision: (test=0.364) recall: (test=0.200) roc_auc: (test=0.725) specificity: (test=0.936) total time=   0.1s\n",
            "[CV 1/5] END model__C=100, model__gamma=0.001, smote__k_neighbors=5; accuracy: (test=0.863) f1: (test=0.400) mcc: (test=0.375) precision: (test=0.667) recall: (test=0.286) roc_auc: (test=0.662) specificity: (test=0.973) total time=   0.1s\n",
            "[CV 2/5] END model__C=100, model__gamma=0.001, smote__k_neighbors=5; accuracy: (test=0.786) f1: (test=0.364) mcc: (test=0.236) precision: (test=0.348) recall: (test=0.381) roc_auc: (test=0.723) specificity: (test=0.864) total time=   0.1s\n",
            "[CV 3/5] END model__C=100, model__gamma=0.001, smote__k_neighbors=5; accuracy: (test=0.832) f1: (test=0.267) mcc: (test=0.210) precision: (test=0.444) recall: (test=0.190) roc_auc: (test=0.643) specificity: (test=0.955) total time=   0.1s\n",
            "[CV 4/5] END model__C=100, model__gamma=0.001, smote__k_neighbors=5; accuracy: (test=0.832) f1: (test=0.214) mcc: (test=0.174) precision: (test=0.429) recall: (test=0.143) roc_auc: (test=0.681) specificity: (test=0.964) total time=   0.1s\n",
            "[CV 5/5] END model__C=100, model__gamma=0.001, smote__k_neighbors=5; accuracy: (test=0.838) f1: (test=0.222) mcc: (test=0.182) precision: (test=0.429) recall: (test=0.150) roc_auc: (test=0.731) specificity: (test=0.964) total time=   0.1s\n",
            "[CV 1/5] END model__C=100, model__gamma=0.001, smote__k_neighbors=7; accuracy: (test=0.863) f1: (test=0.357) mcc: (test=0.359) precision: (test=0.714) recall: (test=0.238) roc_auc: (test=0.733) specificity: (test=0.982) total time=   0.1s\n",
            "[CV 2/5] END model__C=100, model__gamma=0.001, smote__k_neighbors=7; accuracy: (test=0.809) f1: (test=0.419) mcc: (test=0.305) precision: (test=0.409) recall: (test=0.429) roc_auc: (test=0.732) specificity: (test=0.882) total time=   0.1s\n",
            "[CV 3/5] END model__C=100, model__gamma=0.001, smote__k_neighbors=7; accuracy: (test=0.802) f1: (test=0.235) mcc: (test=0.133) precision: (test=0.308) recall: (test=0.190) roc_auc: (test=0.620) specificity: (test=0.918) total time=   0.1s\n",
            "[CV 4/5] END model__C=100, model__gamma=0.001, smote__k_neighbors=7; accuracy: (test=0.817) f1: (test=0.143) mcc: (test=0.081) precision: (test=0.286) recall: (test=0.095) roc_auc: (test=0.678) specificity: (test=0.955) total time=   0.1s\n",
            "[CV 5/5] END model__C=100, model__gamma=0.001, smote__k_neighbors=7; accuracy: (test=0.800) f1: (test=0.235) mcc: (test=0.127) precision: (test=0.286) recall: (test=0.200) roc_auc: (test=0.715) specificity: (test=0.909) total time=   0.1s\n"
          ]
        },
        {
          "output_type": "stream",
          "name": "stderr",
          "text": [
            "/usr/local/lib/python3.10/dist-packages/sklearn/metrics/_classification.py:1344: UndefinedMetricWarning: Precision is ill-defined and being set to 0.0 due to no predicted samples. Use `zero_division` parameter to control this behavior.\n",
            "  _warn_prf(average, modifier, msg_start, len(result))\n",
            "/usr/local/lib/python3.10/dist-packages/sklearn/metrics/_classification.py:1344: UndefinedMetricWarning: Precision is ill-defined and being set to 0.0 due to no predicted samples. Use `zero_division` parameter to control this behavior.\n",
            "  _warn_prf(average, modifier, msg_start, len(result))\n"
          ]
        },
        {
          "output_type": "stream",
          "name": "stdout",
          "text": [
            "[CV 1/5] END model__C=100, model__gamma=0.01, smote__k_neighbors=3; accuracy: (test=0.840) f1: (test=0.000) mcc: (test=0.000) precision: (test=0.000) recall: (test=0.000) roc_auc: (test=0.631) specificity: (test=1.000) total time=   0.2s\n",
            "[CV 2/5] END model__C=100, model__gamma=0.01, smote__k_neighbors=3; accuracy: (test=0.840) f1: (test=0.000) mcc: (test=0.000) precision: (test=0.000) recall: (test=0.000) roc_auc: (test=0.640) specificity: (test=1.000) total time=   0.1s\n"
          ]
        },
        {
          "output_type": "stream",
          "name": "stderr",
          "text": [
            "/usr/local/lib/python3.10/dist-packages/sklearn/metrics/_classification.py:1344: UndefinedMetricWarning: Precision is ill-defined and being set to 0.0 due to no predicted samples. Use `zero_division` parameter to control this behavior.\n",
            "  _warn_prf(average, modifier, msg_start, len(result))\n",
            "/usr/local/lib/python3.10/dist-packages/sklearn/metrics/_classification.py:1344: UndefinedMetricWarning: Precision is ill-defined and being set to 0.0 due to no predicted samples. Use `zero_division` parameter to control this behavior.\n",
            "  _warn_prf(average, modifier, msg_start, len(result))\n"
          ]
        },
        {
          "output_type": "stream",
          "name": "stdout",
          "text": [
            "[CV 3/5] END model__C=100, model__gamma=0.01, smote__k_neighbors=3; accuracy: (test=0.840) f1: (test=0.000) mcc: (test=0.000) precision: (test=0.000) recall: (test=0.000) roc_auc: (test=0.656) specificity: (test=1.000) total time=   0.1s\n",
            "[CV 4/5] END model__C=100, model__gamma=0.01, smote__k_neighbors=3; accuracy: (test=0.840) f1: (test=0.000) mcc: (test=0.000) precision: (test=0.000) recall: (test=0.000) roc_auc: (test=0.576) specificity: (test=1.000) total time=   0.2s\n"
          ]
        },
        {
          "output_type": "stream",
          "name": "stderr",
          "text": [
            "/usr/local/lib/python3.10/dist-packages/sklearn/metrics/_classification.py:1344: UndefinedMetricWarning: Precision is ill-defined and being set to 0.0 due to no predicted samples. Use `zero_division` parameter to control this behavior.\n",
            "  _warn_prf(average, modifier, msg_start, len(result))\n",
            "/usr/local/lib/python3.10/dist-packages/sklearn/metrics/_classification.py:1344: UndefinedMetricWarning: Precision is ill-defined and being set to 0.0 due to no predicted samples. Use `zero_division` parameter to control this behavior.\n",
            "  _warn_prf(average, modifier, msg_start, len(result))\n"
          ]
        },
        {
          "output_type": "stream",
          "name": "stdout",
          "text": [
            "[CV 5/5] END model__C=100, model__gamma=0.01, smote__k_neighbors=3; accuracy: (test=0.846) f1: (test=0.000) mcc: (test=0.000) precision: (test=0.000) recall: (test=0.000) roc_auc: (test=0.670) specificity: (test=1.000) total time=   0.2s\n",
            "[CV 1/5] END model__C=100, model__gamma=0.01, smote__k_neighbors=5; accuracy: (test=0.840) f1: (test=0.000) mcc: (test=0.000) precision: (test=0.000) recall: (test=0.000) roc_auc: (test=0.655) specificity: (test=1.000) total time=   0.2s\n"
          ]
        },
        {
          "output_type": "stream",
          "name": "stderr",
          "text": [
            "/usr/local/lib/python3.10/dist-packages/sklearn/metrics/_classification.py:1344: UndefinedMetricWarning: Precision is ill-defined and being set to 0.0 due to no predicted samples. Use `zero_division` parameter to control this behavior.\n",
            "  _warn_prf(average, modifier, msg_start, len(result))\n",
            "/usr/local/lib/python3.10/dist-packages/sklearn/metrics/_classification.py:1344: UndefinedMetricWarning: Precision is ill-defined and being set to 0.0 due to no predicted samples. Use `zero_division` parameter to control this behavior.\n",
            "  _warn_prf(average, modifier, msg_start, len(result))\n"
          ]
        },
        {
          "output_type": "stream",
          "name": "stdout",
          "text": [
            "[CV 2/5] END model__C=100, model__gamma=0.01, smote__k_neighbors=5; accuracy: (test=0.840) f1: (test=0.000) mcc: (test=0.000) precision: (test=0.000) recall: (test=0.000) roc_auc: (test=0.667) specificity: (test=1.000) total time=   0.2s\n",
            "[CV 3/5] END model__C=100, model__gamma=0.01, smote__k_neighbors=5; accuracy: (test=0.840) f1: (test=0.000) mcc: (test=0.000) precision: (test=0.000) recall: (test=0.000) roc_auc: (test=0.648) specificity: (test=1.000) total time=   0.2s\n"
          ]
        },
        {
          "output_type": "stream",
          "name": "stderr",
          "text": [
            "/usr/local/lib/python3.10/dist-packages/sklearn/metrics/_classification.py:1344: UndefinedMetricWarning: Precision is ill-defined and being set to 0.0 due to no predicted samples. Use `zero_division` parameter to control this behavior.\n",
            "  _warn_prf(average, modifier, msg_start, len(result))\n",
            "/usr/local/lib/python3.10/dist-packages/sklearn/metrics/_classification.py:1344: UndefinedMetricWarning: Precision is ill-defined and being set to 0.0 due to no predicted samples. Use `zero_division` parameter to control this behavior.\n",
            "  _warn_prf(average, modifier, msg_start, len(result))\n"
          ]
        },
        {
          "output_type": "stream",
          "name": "stdout",
          "text": [
            "[CV 4/5] END model__C=100, model__gamma=0.01, smote__k_neighbors=5; accuracy: (test=0.840) f1: (test=0.000) mcc: (test=0.000) precision: (test=0.000) recall: (test=0.000) roc_auc: (test=0.569) specificity: (test=1.000) total time=   0.1s\n",
            "[CV 5/5] END model__C=100, model__gamma=0.01, smote__k_neighbors=5; accuracy: (test=0.846) f1: (test=0.000) mcc: (test=0.000) precision: (test=0.000) recall: (test=0.000) roc_auc: (test=0.650) specificity: (test=1.000) total time=   0.1s\n"
          ]
        },
        {
          "output_type": "stream",
          "name": "stderr",
          "text": [
            "/usr/local/lib/python3.10/dist-packages/sklearn/metrics/_classification.py:1344: UndefinedMetricWarning: Precision is ill-defined and being set to 0.0 due to no predicted samples. Use `zero_division` parameter to control this behavior.\n",
            "  _warn_prf(average, modifier, msg_start, len(result))\n",
            "/usr/local/lib/python3.10/dist-packages/sklearn/metrics/_classification.py:1344: UndefinedMetricWarning: Precision is ill-defined and being set to 0.0 due to no predicted samples. Use `zero_division` parameter to control this behavior.\n",
            "  _warn_prf(average, modifier, msg_start, len(result))\n"
          ]
        },
        {
          "output_type": "stream",
          "name": "stdout",
          "text": [
            "[CV 1/5] END model__C=100, model__gamma=0.01, smote__k_neighbors=7; accuracy: (test=0.840) f1: (test=0.000) mcc: (test=0.000) precision: (test=0.000) recall: (test=0.000) roc_auc: (test=0.651) specificity: (test=1.000) total time=   0.2s\n",
            "[CV 2/5] END model__C=100, model__gamma=0.01, smote__k_neighbors=7; accuracy: (test=0.840) f1: (test=0.000) mcc: (test=0.000) precision: (test=0.000) recall: (test=0.000) roc_auc: (test=0.654) specificity: (test=1.000) total time=   0.1s\n"
          ]
        },
        {
          "output_type": "stream",
          "name": "stderr",
          "text": [
            "/usr/local/lib/python3.10/dist-packages/sklearn/metrics/_classification.py:1344: UndefinedMetricWarning: Precision is ill-defined and being set to 0.0 due to no predicted samples. Use `zero_division` parameter to control this behavior.\n",
            "  _warn_prf(average, modifier, msg_start, len(result))\n",
            "/usr/local/lib/python3.10/dist-packages/sklearn/metrics/_classification.py:1344: UndefinedMetricWarning: Precision is ill-defined and being set to 0.0 due to no predicted samples. Use `zero_division` parameter to control this behavior.\n",
            "  _warn_prf(average, modifier, msg_start, len(result))\n"
          ]
        },
        {
          "output_type": "stream",
          "name": "stdout",
          "text": [
            "[CV 3/5] END model__C=100, model__gamma=0.01, smote__k_neighbors=7; accuracy: (test=0.840) f1: (test=0.000) mcc: (test=0.000) precision: (test=0.000) recall: (test=0.000) roc_auc: (test=0.639) specificity: (test=1.000) total time=   0.1s\n",
            "[CV 4/5] END model__C=100, model__gamma=0.01, smote__k_neighbors=7; accuracy: (test=0.840) f1: (test=0.000) mcc: (test=0.000) precision: (test=0.000) recall: (test=0.000) roc_auc: (test=0.606) specificity: (test=1.000) total time=   0.2s\n"
          ]
        },
        {
          "output_type": "stream",
          "name": "stderr",
          "text": [
            "/usr/local/lib/python3.10/dist-packages/sklearn/metrics/_classification.py:1344: UndefinedMetricWarning: Precision is ill-defined and being set to 0.0 due to no predicted samples. Use `zero_division` parameter to control this behavior.\n",
            "  _warn_prf(average, modifier, msg_start, len(result))\n",
            "/usr/local/lib/python3.10/dist-packages/sklearn/metrics/_classification.py:1344: UndefinedMetricWarning: Precision is ill-defined and being set to 0.0 due to no predicted samples. Use `zero_division` parameter to control this behavior.\n",
            "  _warn_prf(average, modifier, msg_start, len(result))\n"
          ]
        },
        {
          "output_type": "stream",
          "name": "stdout",
          "text": [
            "[CV 5/5] END model__C=100, model__gamma=0.01, smote__k_neighbors=7; accuracy: (test=0.846) f1: (test=0.000) mcc: (test=0.000) precision: (test=0.000) recall: (test=0.000) roc_auc: (test=0.653) specificity: (test=1.000) total time=   0.2s\n",
            "[CV 1/5] END model__C=100, model__gamma=0.1, smote__k_neighbors=3; accuracy: (test=0.840) f1: (test=0.000) mcc: (test=0.000) precision: (test=0.000) recall: (test=0.000) roc_auc: (test=0.518) specificity: (test=1.000) total time=   0.1s\n"
          ]
        },
        {
          "output_type": "stream",
          "name": "stderr",
          "text": [
            "/usr/local/lib/python3.10/dist-packages/sklearn/metrics/_classification.py:1344: UndefinedMetricWarning: Precision is ill-defined and being set to 0.0 due to no predicted samples. Use `zero_division` parameter to control this behavior.\n",
            "  _warn_prf(average, modifier, msg_start, len(result))\n",
            "/usr/local/lib/python3.10/dist-packages/sklearn/metrics/_classification.py:1344: UndefinedMetricWarning: Precision is ill-defined and being set to 0.0 due to no predicted samples. Use `zero_division` parameter to control this behavior.\n",
            "  _warn_prf(average, modifier, msg_start, len(result))\n"
          ]
        },
        {
          "output_type": "stream",
          "name": "stdout",
          "text": [
            "[CV 2/5] END model__C=100, model__gamma=0.1, smote__k_neighbors=3; accuracy: (test=0.840) f1: (test=0.000) mcc: (test=0.000) precision: (test=0.000) recall: (test=0.000) roc_auc: (test=0.523) specificity: (test=1.000) total time=   0.2s\n",
            "[CV 3/5] END model__C=100, model__gamma=0.1, smote__k_neighbors=3; accuracy: (test=0.840) f1: (test=0.000) mcc: (test=0.000) precision: (test=0.000) recall: (test=0.000) roc_auc: (test=0.559) specificity: (test=1.000) total time=   0.1s\n"
          ]
        },
        {
          "output_type": "stream",
          "name": "stderr",
          "text": [
            "/usr/local/lib/python3.10/dist-packages/sklearn/metrics/_classification.py:1344: UndefinedMetricWarning: Precision is ill-defined and being set to 0.0 due to no predicted samples. Use `zero_division` parameter to control this behavior.\n",
            "  _warn_prf(average, modifier, msg_start, len(result))\n",
            "/usr/local/lib/python3.10/dist-packages/sklearn/metrics/_classification.py:1344: UndefinedMetricWarning: Precision is ill-defined and being set to 0.0 due to no predicted samples. Use `zero_division` parameter to control this behavior.\n",
            "  _warn_prf(average, modifier, msg_start, len(result))\n"
          ]
        },
        {
          "output_type": "stream",
          "name": "stdout",
          "text": [
            "[CV 4/5] END model__C=100, model__gamma=0.1, smote__k_neighbors=3; accuracy: (test=0.840) f1: (test=0.000) mcc: (test=0.000) precision: (test=0.000) recall: (test=0.000) roc_auc: (test=0.504) specificity: (test=1.000) total time=   0.2s\n",
            "[CV 5/5] END model__C=100, model__gamma=0.1, smote__k_neighbors=3; accuracy: (test=0.846) f1: (test=0.000) mcc: (test=0.000) precision: (test=0.000) recall: (test=0.000) roc_auc: (test=0.568) specificity: (test=1.000) total time=   0.2s\n"
          ]
        },
        {
          "output_type": "stream",
          "name": "stderr",
          "text": [
            "/usr/local/lib/python3.10/dist-packages/sklearn/metrics/_classification.py:1344: UndefinedMetricWarning: Precision is ill-defined and being set to 0.0 due to no predicted samples. Use `zero_division` parameter to control this behavior.\n",
            "  _warn_prf(average, modifier, msg_start, len(result))\n",
            "/usr/local/lib/python3.10/dist-packages/sklearn/metrics/_classification.py:1344: UndefinedMetricWarning: Precision is ill-defined and being set to 0.0 due to no predicted samples. Use `zero_division` parameter to control this behavior.\n",
            "  _warn_prf(average, modifier, msg_start, len(result))\n"
          ]
        },
        {
          "output_type": "stream",
          "name": "stdout",
          "text": [
            "[CV 1/5] END model__C=100, model__gamma=0.1, smote__k_neighbors=5; accuracy: (test=0.840) f1: (test=0.000) mcc: (test=0.000) precision: (test=0.000) recall: (test=0.000) roc_auc: (test=0.518) specificity: (test=1.000) total time=   0.2s\n",
            "[CV 2/5] END model__C=100, model__gamma=0.1, smote__k_neighbors=5; accuracy: (test=0.840) f1: (test=0.000) mcc: (test=0.000) precision: (test=0.000) recall: (test=0.000) roc_auc: (test=0.523) specificity: (test=1.000) total time=   0.1s\n"
          ]
        },
        {
          "output_type": "stream",
          "name": "stderr",
          "text": [
            "/usr/local/lib/python3.10/dist-packages/sklearn/metrics/_classification.py:1344: UndefinedMetricWarning: Precision is ill-defined and being set to 0.0 due to no predicted samples. Use `zero_division` parameter to control this behavior.\n",
            "  _warn_prf(average, modifier, msg_start, len(result))\n",
            "/usr/local/lib/python3.10/dist-packages/sklearn/metrics/_classification.py:1344: UndefinedMetricWarning: Precision is ill-defined and being set to 0.0 due to no predicted samples. Use `zero_division` parameter to control this behavior.\n",
            "  _warn_prf(average, modifier, msg_start, len(result))\n",
            "/usr/local/lib/python3.10/dist-packages/sklearn/metrics/_classification.py:1344: UndefinedMetricWarning: Precision is ill-defined and being set to 0.0 due to no predicted samples. Use `zero_division` parameter to control this behavior.\n",
            "  _warn_prf(average, modifier, msg_start, len(result))\n"
          ]
        },
        {
          "output_type": "stream",
          "name": "stdout",
          "text": [
            "[CV 3/5] END model__C=100, model__gamma=0.1, smote__k_neighbors=5; accuracy: (test=0.840) f1: (test=0.000) mcc: (test=0.000) precision: (test=0.000) recall: (test=0.000) roc_auc: (test=0.555) specificity: (test=1.000) total time=   0.1s\n",
            "[CV 4/5] END model__C=100, model__gamma=0.1, smote__k_neighbors=5; accuracy: (test=0.840) f1: (test=0.000) mcc: (test=0.000) precision: (test=0.000) recall: (test=0.000) roc_auc: (test=0.504) specificity: (test=1.000) total time=   0.1s\n",
            "[CV 5/5] END model__C=100, model__gamma=0.1, smote__k_neighbors=5; accuracy: (test=0.846) f1: (test=0.000) mcc: (test=0.000) precision: (test=0.000) recall: (test=0.000) roc_auc: (test=0.568) specificity: (test=1.000) total time=   0.1s\n"
          ]
        },
        {
          "output_type": "stream",
          "name": "stderr",
          "text": [
            "/usr/local/lib/python3.10/dist-packages/sklearn/metrics/_classification.py:1344: UndefinedMetricWarning: Precision is ill-defined and being set to 0.0 due to no predicted samples. Use `zero_division` parameter to control this behavior.\n",
            "  _warn_prf(average, modifier, msg_start, len(result))\n",
            "/usr/local/lib/python3.10/dist-packages/sklearn/metrics/_classification.py:1344: UndefinedMetricWarning: Precision is ill-defined and being set to 0.0 due to no predicted samples. Use `zero_division` parameter to control this behavior.\n",
            "  _warn_prf(average, modifier, msg_start, len(result))\n",
            "/usr/local/lib/python3.10/dist-packages/sklearn/metrics/_classification.py:1344: UndefinedMetricWarning: Precision is ill-defined and being set to 0.0 due to no predicted samples. Use `zero_division` parameter to control this behavior.\n",
            "  _warn_prf(average, modifier, msg_start, len(result))\n"
          ]
        },
        {
          "output_type": "stream",
          "name": "stdout",
          "text": [
            "[CV 1/5] END model__C=100, model__gamma=0.1, smote__k_neighbors=7; accuracy: (test=0.840) f1: (test=0.000) mcc: (test=0.000) precision: (test=0.000) recall: (test=0.000) roc_auc: (test=0.518) specificity: (test=1.000) total time=   0.1s\n",
            "[CV 2/5] END model__C=100, model__gamma=0.1, smote__k_neighbors=7; accuracy: (test=0.840) f1: (test=0.000) mcc: (test=0.000) precision: (test=0.000) recall: (test=0.000) roc_auc: (test=0.523) specificity: (test=1.000) total time=   0.1s\n",
            "[CV 3/5] END model__C=100, model__gamma=0.1, smote__k_neighbors=7; accuracy: (test=0.840) f1: (test=0.000) mcc: (test=0.000) precision: (test=0.000) recall: (test=0.000) roc_auc: (test=0.550) specificity: (test=1.000) total time=   0.1s\n"
          ]
        },
        {
          "output_type": "stream",
          "name": "stderr",
          "text": [
            "/usr/local/lib/python3.10/dist-packages/sklearn/metrics/_classification.py:1344: UndefinedMetricWarning: Precision is ill-defined and being set to 0.0 due to no predicted samples. Use `zero_division` parameter to control this behavior.\n",
            "  _warn_prf(average, modifier, msg_start, len(result))\n",
            "/usr/local/lib/python3.10/dist-packages/sklearn/metrics/_classification.py:1344: UndefinedMetricWarning: Precision is ill-defined and being set to 0.0 due to no predicted samples. Use `zero_division` parameter to control this behavior.\n",
            "  _warn_prf(average, modifier, msg_start, len(result))\n",
            "/usr/local/lib/python3.10/dist-packages/sklearn/metrics/_classification.py:1344: UndefinedMetricWarning: Precision is ill-defined and being set to 0.0 due to no predicted samples. Use `zero_division` parameter to control this behavior.\n",
            "  _warn_prf(average, modifier, msg_start, len(result))\n"
          ]
        },
        {
          "output_type": "stream",
          "name": "stdout",
          "text": [
            "[CV 4/5] END model__C=100, model__gamma=0.1, smote__k_neighbors=7; accuracy: (test=0.840) f1: (test=0.000) mcc: (test=0.000) precision: (test=0.000) recall: (test=0.000) roc_auc: (test=0.529) specificity: (test=1.000) total time=   0.1s\n",
            "[CV 5/5] END model__C=100, model__gamma=0.1, smote__k_neighbors=7; accuracy: (test=0.846) f1: (test=0.000) mcc: (test=0.000) precision: (test=0.000) recall: (test=0.000) roc_auc: (test=0.564) specificity: (test=1.000) total time=   0.1s\n",
            "[CV 1/5] END model__C=100, model__gamma=1, smote__k_neighbors=3; accuracy: (test=0.840) f1: (test=0.000) mcc: (test=0.000) precision: (test=0.000) recall: (test=0.000) roc_auc: (test=0.500) specificity: (test=1.000) total time=   0.1s\n"
          ]
        },
        {
          "output_type": "stream",
          "name": "stderr",
          "text": [
            "/usr/local/lib/python3.10/dist-packages/sklearn/metrics/_classification.py:1344: UndefinedMetricWarning: Precision is ill-defined and being set to 0.0 due to no predicted samples. Use `zero_division` parameter to control this behavior.\n",
            "  _warn_prf(average, modifier, msg_start, len(result))\n",
            "/usr/local/lib/python3.10/dist-packages/sklearn/metrics/_classification.py:1344: UndefinedMetricWarning: Precision is ill-defined and being set to 0.0 due to no predicted samples. Use `zero_division` parameter to control this behavior.\n",
            "  _warn_prf(average, modifier, msg_start, len(result))\n",
            "/usr/local/lib/python3.10/dist-packages/sklearn/metrics/_classification.py:1344: UndefinedMetricWarning: Precision is ill-defined and being set to 0.0 due to no predicted samples. Use `zero_division` parameter to control this behavior.\n",
            "  _warn_prf(average, modifier, msg_start, len(result))\n"
          ]
        },
        {
          "output_type": "stream",
          "name": "stdout",
          "text": [
            "[CV 2/5] END model__C=100, model__gamma=1, smote__k_neighbors=3; accuracy: (test=0.840) f1: (test=0.000) mcc: (test=0.000) precision: (test=0.000) recall: (test=0.000) roc_auc: (test=0.500) specificity: (test=1.000) total time=   0.1s\n",
            "[CV 3/5] END model__C=100, model__gamma=1, smote__k_neighbors=3; accuracy: (test=0.840) f1: (test=0.000) mcc: (test=0.000) precision: (test=0.000) recall: (test=0.000) roc_auc: (test=0.500) specificity: (test=1.000) total time=   0.1s\n",
            "[CV 4/5] END model__C=100, model__gamma=1, smote__k_neighbors=3; accuracy: (test=0.840) f1: (test=0.000) mcc: (test=0.000) precision: (test=0.000) recall: (test=0.000) roc_auc: (test=0.500) specificity: (test=1.000) total time=   0.1s\n"
          ]
        },
        {
          "output_type": "stream",
          "name": "stderr",
          "text": [
            "/usr/local/lib/python3.10/dist-packages/sklearn/metrics/_classification.py:1344: UndefinedMetricWarning: Precision is ill-defined and being set to 0.0 due to no predicted samples. Use `zero_division` parameter to control this behavior.\n",
            "  _warn_prf(average, modifier, msg_start, len(result))\n",
            "/usr/local/lib/python3.10/dist-packages/sklearn/metrics/_classification.py:1344: UndefinedMetricWarning: Precision is ill-defined and being set to 0.0 due to no predicted samples. Use `zero_division` parameter to control this behavior.\n",
            "  _warn_prf(average, modifier, msg_start, len(result))\n",
            "/usr/local/lib/python3.10/dist-packages/sklearn/metrics/_classification.py:1344: UndefinedMetricWarning: Precision is ill-defined and being set to 0.0 due to no predicted samples. Use `zero_division` parameter to control this behavior.\n",
            "  _warn_prf(average, modifier, msg_start, len(result))\n"
          ]
        },
        {
          "output_type": "stream",
          "name": "stdout",
          "text": [
            "[CV 5/5] END model__C=100, model__gamma=1, smote__k_neighbors=3; accuracy: (test=0.846) f1: (test=0.000) mcc: (test=0.000) precision: (test=0.000) recall: (test=0.000) roc_auc: (test=0.500) specificity: (test=1.000) total time=   0.1s\n",
            "[CV 1/5] END model__C=100, model__gamma=1, smote__k_neighbors=5; accuracy: (test=0.840) f1: (test=0.000) mcc: (test=0.000) precision: (test=0.000) recall: (test=0.000) roc_auc: (test=0.500) specificity: (test=1.000) total time=   0.1s\n",
            "[CV 2/5] END model__C=100, model__gamma=1, smote__k_neighbors=5; accuracy: (test=0.840) f1: (test=0.000) mcc: (test=0.000) precision: (test=0.000) recall: (test=0.000) roc_auc: (test=0.500) specificity: (test=1.000) total time=   0.1s\n"
          ]
        },
        {
          "output_type": "stream",
          "name": "stderr",
          "text": [
            "/usr/local/lib/python3.10/dist-packages/sklearn/metrics/_classification.py:1344: UndefinedMetricWarning: Precision is ill-defined and being set to 0.0 due to no predicted samples. Use `zero_division` parameter to control this behavior.\n",
            "  _warn_prf(average, modifier, msg_start, len(result))\n",
            "/usr/local/lib/python3.10/dist-packages/sklearn/metrics/_classification.py:1344: UndefinedMetricWarning: Precision is ill-defined and being set to 0.0 due to no predicted samples. Use `zero_division` parameter to control this behavior.\n",
            "  _warn_prf(average, modifier, msg_start, len(result))\n",
            "/usr/local/lib/python3.10/dist-packages/sklearn/metrics/_classification.py:1344: UndefinedMetricWarning: Precision is ill-defined and being set to 0.0 due to no predicted samples. Use `zero_division` parameter to control this behavior.\n",
            "  _warn_prf(average, modifier, msg_start, len(result))\n"
          ]
        },
        {
          "output_type": "stream",
          "name": "stdout",
          "text": [
            "[CV 3/5] END model__C=100, model__gamma=1, smote__k_neighbors=5; accuracy: (test=0.840) f1: (test=0.000) mcc: (test=0.000) precision: (test=0.000) recall: (test=0.000) roc_auc: (test=0.500) specificity: (test=1.000) total time=   0.1s\n",
            "[CV 4/5] END model__C=100, model__gamma=1, smote__k_neighbors=5; accuracy: (test=0.840) f1: (test=0.000) mcc: (test=0.000) precision: (test=0.000) recall: (test=0.000) roc_auc: (test=0.500) specificity: (test=1.000) total time=   0.1s\n",
            "[CV 5/5] END model__C=100, model__gamma=1, smote__k_neighbors=5; accuracy: (test=0.846) f1: (test=0.000) mcc: (test=0.000) precision: (test=0.000) recall: (test=0.000) roc_auc: (test=0.500) specificity: (test=1.000) total time=   0.1s\n"
          ]
        },
        {
          "output_type": "stream",
          "name": "stderr",
          "text": [
            "/usr/local/lib/python3.10/dist-packages/sklearn/metrics/_classification.py:1344: UndefinedMetricWarning: Precision is ill-defined and being set to 0.0 due to no predicted samples. Use `zero_division` parameter to control this behavior.\n",
            "  _warn_prf(average, modifier, msg_start, len(result))\n",
            "/usr/local/lib/python3.10/dist-packages/sklearn/metrics/_classification.py:1344: UndefinedMetricWarning: Precision is ill-defined and being set to 0.0 due to no predicted samples. Use `zero_division` parameter to control this behavior.\n",
            "  _warn_prf(average, modifier, msg_start, len(result))\n",
            "/usr/local/lib/python3.10/dist-packages/sklearn/metrics/_classification.py:1344: UndefinedMetricWarning: Precision is ill-defined and being set to 0.0 due to no predicted samples. Use `zero_division` parameter to control this behavior.\n",
            "  _warn_prf(average, modifier, msg_start, len(result))\n"
          ]
        },
        {
          "output_type": "stream",
          "name": "stdout",
          "text": [
            "[CV 1/5] END model__C=100, model__gamma=1, smote__k_neighbors=7; accuracy: (test=0.840) f1: (test=0.000) mcc: (test=0.000) precision: (test=0.000) recall: (test=0.000) roc_auc: (test=0.500) specificity: (test=1.000) total time=   0.1s\n",
            "[CV 2/5] END model__C=100, model__gamma=1, smote__k_neighbors=7; accuracy: (test=0.840) f1: (test=0.000) mcc: (test=0.000) precision: (test=0.000) recall: (test=0.000) roc_auc: (test=0.500) specificity: (test=1.000) total time=   0.1s\n",
            "[CV 3/5] END model__C=100, model__gamma=1, smote__k_neighbors=7; accuracy: (test=0.840) f1: (test=0.000) mcc: (test=0.000) precision: (test=0.000) recall: (test=0.000) roc_auc: (test=0.500) specificity: (test=1.000) total time=   0.1s\n",
            "[CV 4/5] END model__C=100, model__gamma=1, smote__k_neighbors=7; accuracy: (test=0.840) f1: (test=0.000) mcc: (test=0.000) precision: (test=0.000) recall: (test=0.000) roc_auc: (test=0.500) specificity: (test=1.000) total time=   0.1s\n",
            "[CV 5/5] END model__C=100, model__gamma=1, smote__k_neighbors=7; accuracy: (test=0.846) f1: (test=0.000) mcc: (test=0.000) precision: (test=0.000) recall: (test=0.000) roc_auc: (test=0.500) specificity: (test=1.000) total time=   0.1s\n",
            "Mejores parámetros:  {'model__C': 1, 'model__gamma': 0.001, 'smote__k_neighbors': 7}\n",
            "Mejor score (F1):  0.2955935701096991\n"
          ]
        },
        {
          "output_type": "stream",
          "name": "stderr",
          "text": [
            "/usr/local/lib/python3.10/dist-packages/sklearn/metrics/_classification.py:1344: UndefinedMetricWarning: Precision is ill-defined and being set to 0.0 due to no predicted samples. Use `zero_division` parameter to control this behavior.\n",
            "  _warn_prf(average, modifier, msg_start, len(result))\n",
            "/usr/local/lib/python3.10/dist-packages/sklearn/metrics/_classification.py:1344: UndefinedMetricWarning: Precision is ill-defined and being set to 0.0 due to no predicted samples. Use `zero_division` parameter to control this behavior.\n",
            "  _warn_prf(average, modifier, msg_start, len(result))\n"
          ]
        }
      ]
    },
    {
      "cell_type": "code",
      "source": [
        "# Crear un pipeline que primero aplica SMOTE y luego tu modelo\n",
        "model_pipeline = IMBPipeline([\n",
        "    ('smote', SMOTE(random_state=seed_value, k_neighbors=7)),\n",
        "    ('model', make_pipeline(StandardScaler(), SVC(kernel='rbf', C=1, gamma=0.001)))\n",
        "])\n",
        "\n",
        "# Usar StratifiedKFold para mantener la proporción de clases en cada fold\n",
        "cv = StratifiedKFold(n_splits=5)\n",
        "def specificity_score(y_true, y_pred):\n",
        "    tn, fp, fn, tp = confusion_matrix(y_true, y_pred).ravel()\n",
        "    specificity = tn / (tn + fp)\n",
        "    return specificity\n",
        "\n",
        "# Crear un scorer personalizado para la especificidad\n",
        "specificity_scorer = make_scorer(specificity_score)\n",
        "\n",
        "scoring = {'accuracy' : 'accuracy', 'sensibility' : 'recall','specificity': specificity_scorer, 'roc_auc':'roc_auc','f1':'f1', 'mcc': make_scorer(matthews_corrcoef) }\n",
        "\n",
        "# Realizar la validación cruzada\n",
        "results = cross_validate(model_pipeline, X, y, cv=cv, scoring=scoring)\n",
        "\n",
        "mean_scores = {metric: results['test_' + metric].mean().round(2) for metric in scoring}\n",
        "std_scores = {metric: results['test_' + metric].std().round(2) for metric in scoring}\n",
        "\n",
        "results_df = pd.DataFrame({\n",
        "    'Metric': mean_scores.keys(),\n",
        "    'Mean': mean_scores.values(),\n",
        "    'Standard Deviation': std_scores.values()\n",
        "})\n",
        "\n",
        "print(results_df)"
      ],
      "metadata": {
        "colab": {
          "base_uri": "https://localhost:8080/"
        },
        "id": "-GYcWq7WbW9K",
        "outputId": "bd6f3e3c-272b-4fb6-f957-e2dcf25ea4b6"
      },
      "execution_count": 8,
      "outputs": [
        {
          "output_type": "stream",
          "name": "stdout",
          "text": [
            "        Metric  Mean  Standard Deviation\n",
            "0     accuracy  0.62                0.17\n",
            "1  sensibility  0.69                0.12\n",
            "2  specificity  0.60                0.21\n",
            "3      roc_auc  0.74                0.10\n",
            "4           f1  0.39                0.12\n",
            "5          mcc  0.24                0.18\n"
          ]
        }
      ]
    }
  ]
}