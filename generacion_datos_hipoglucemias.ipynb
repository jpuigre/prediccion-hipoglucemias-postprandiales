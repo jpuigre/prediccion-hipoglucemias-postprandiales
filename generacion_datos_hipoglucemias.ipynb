{
  "nbformat": 4,
  "nbformat_minor": 0,
  "metadata": {
    "colab": {
      "provenance": []
    },
    "kernelspec": {
      "name": "python3",
      "display_name": "Python 3"
    },
    "language_info": {
      "name": "python"
    }
  },
  "cells": [
    {
      "cell_type": "code",
      "execution_count": 1,
      "metadata": {
        "id": "PNpOLXvobJqc"
      },
      "outputs": [],
      "source": [
        "from datetime import datetime, timedelta\n",
        "import pandas as pd\n",
        "import numpy as np\n",
        "import matplotlib.pyplot as plt\n",
        "import glob\n",
        "import re\n",
        "from math import ceil\n"
      ]
    },
    {
      "cell_type": "code",
      "source": [
        "from google.colab import drive\n",
        "drive.mount('/content/drive')"
      ],
      "metadata": {
        "id": "6OZcMY-XHwR_",
        "outputId": "9b3b97a7-1de6-4441-b686-9bcaf2d89f5b",
        "colab": {
          "base_uri": "https://localhost:8080/"
        }
      },
      "execution_count": 2,
      "outputs": [
        {
          "output_type": "stream",
          "name": "stdout",
          "text": [
            "Mounted at /content/drive\n"
          ]
        }
      ]
    },
    {
      "cell_type": "code",
      "source": [
        "path = \"/content/drive/MyDrive/data/*/patient*.xlsx\"\n",
        "all_files = glob.glob(path)\n",
        "\n",
        "patients_2018 = [559,563,570,575,588,591]\n",
        "\n",
        "col_names = ['year','month','day','hour','minute','second','glucose','finger_stick','basal','temp_basal','basal_final','bolus_normal','bolus_squared','total_bolus','bwz_cho','cho_original','meal_original','sleep','work','stressors','hypo_event','illness','exercice','basis_heart_rate','basis_gsr','basis_skin_temperature','basis_air_temperature','basis_step','basis_sleep','total_insulin','iob','plasma_insulin','cho','meal','cob','aob_3h','aob_6h']\n",
        "\n",
        "dfs = []\n",
        "\n",
        "for idx, file in enumerate(all_files):\n",
        "    use_cols = []\n",
        "    pattern = r\"/data/(\\d+)/patient\"\n",
        "    matched = re.search(pattern, file)\n",
        "    patient_id = int(matched.group(1))\n",
        "    if(patient_id in patients_2018):\n",
        "      temp_df = pd.read_excel(file,dtype={},  names= col_names, header=None)\n",
        "      temp_df['patient'] = patient_id\n",
        "      temp_df['group'] = 'test' if 'test' in file else 'train'\n",
        "      dfs.append(temp_df)\n",
        "\n",
        "\n",
        "df_all = pd.concat(dfs, ignore_index=True)\n",
        "\n",
        "# Construimos el timestamp partir de las columnas de tiempo\n",
        "df_all['timestamp'] = pd.to_datetime(\n",
        "    df_all['year'].astype(str) + '-' +\n",
        "    df_all['month'].astype(str).str.zfill(2) + '-' +\n",
        "    df_all['day'].astype(str).str.zfill(2) + ' ' +\n",
        "    df_all['hour'].astype(str).str.zfill(2) + ':' +\n",
        "    df_all['minute'].astype(str).str.zfill(2) + ':' +\n",
        "    df_all['second'].astype(str).str.zfill(2)\n",
        ")\n",
        "\n",
        "# Añadimos la columna dia de la semana\n",
        "df_all['day_of_week'] = df_all['timestamp'].dt.dayofweek"
      ],
      "metadata": {
        "id": "t1hRzhzCtf6l"
      },
      "execution_count": 3,
      "outputs": []
    },
    {
      "cell_type": "code",
      "source": [
        "# Detección de duplicados\n",
        "duplicates = df_all.duplicated()\n",
        "duplicates.sum()"
      ],
      "metadata": {
        "id": "r5I2sU6ab8u0",
        "colab": {
          "base_uri": "https://localhost:8080/"
        },
        "outputId": "b6762133-4689-464e-dbaf-1cdbea5d9064"
      },
      "execution_count": 4,
      "outputs": [
        {
          "output_type": "execute_result",
          "data": {
            "text/plain": [
              "0"
            ]
          },
          "metadata": {},
          "execution_count": 4
        }
      ]
    },
    {
      "cell_type": "markdown",
      "source": [
        "Reemplazamos los valores 0 por NaN en la columna glucose, y finger_stick"
      ],
      "metadata": {
        "id": "YFcyh7lCllQf"
      }
    },
    {
      "cell_type": "code",
      "source": [
        "def replace_zeros(df, column_name):\n",
        "    df.loc[df[column_name] == 0, column_name] = np.nan\n",
        "    return df\n",
        "\n",
        "# Reemplazamos en las columnas glucosa y finger_stick los 0's por nan\n",
        "df_all = replace_zeros(df_all, 'glucose')\n",
        "df_all = replace_zeros(df_all, 'finger_stick')"
      ],
      "metadata": {
        "id": "d54M0qiflT4m"
      },
      "execution_count": 5,
      "outputs": []
    },
    {
      "cell_type": "code",
      "source": [
        "#Análisis de valores nullos\n",
        "df_all.isnull( ).sum( )"
      ],
      "metadata": {
        "id": "IixtcnAoeJwm",
        "colab": {
          "base_uri": "https://localhost:8080/"
        },
        "outputId": "ee1f40e8-3451-485d-b6cb-882ceda0506e"
      },
      "execution_count": 6,
      "outputs": [
        {
          "output_type": "execute_result",
          "data": {
            "text/plain": [
              "year                          0\n",
              "month                         0\n",
              "day                           0\n",
              "hour                          0\n",
              "minute                        0\n",
              "second                        0\n",
              "glucose                    7995\n",
              "finger_stick              90637\n",
              "basal                         0\n",
              "temp_basal                    0\n",
              "basal_final                   0\n",
              "bolus_normal                  0\n",
              "bolus_squared                 0\n",
              "total_bolus                   0\n",
              "bwz_cho                       0\n",
              "cho_original                  0\n",
              "meal_original                 0\n",
              "sleep                         0\n",
              "work                          0\n",
              "stressors                     0\n",
              "hypo_event                    0\n",
              "illness                       0\n",
              "exercice                      0\n",
              "basis_heart_rate              0\n",
              "basis_gsr                     0\n",
              "basis_skin_temperature        0\n",
              "basis_air_temperature         0\n",
              "basis_step                    0\n",
              "basis_sleep                   0\n",
              "total_insulin                 0\n",
              "iob                           0\n",
              "plasma_insulin                0\n",
              "cho                           0\n",
              "meal                          0\n",
              "cob                           0\n",
              "aob_3h                        0\n",
              "aob_6h                        0\n",
              "patient                       0\n",
              "group                         0\n",
              "timestamp                     0\n",
              "day_of_week                   0\n",
              "dtype: int64"
            ]
          },
          "metadata": {},
          "execution_count": 6
        }
      ]
    },
    {
      "cell_type": "code",
      "source": [
        "#Registros por paciente\n",
        "patient_counts = df_all['patient'].value_counts()\n",
        "print('Registros por paciente:')\n",
        "print(patient_counts.to_string())"
      ],
      "metadata": {
        "id": "wt4JJD_cZrj6",
        "colab": {
          "base_uri": "https://localhost:8080/"
        },
        "outputId": "959735fe-fc55-4175-9a6e-20ef7a8fd342"
      },
      "execution_count": 7,
      "outputs": [
        {
          "output_type": "stream",
          "name": "stdout",
          "text": [
            "Registros por paciente:\n",
            "588    16047\n",
            "563    15989\n",
            "575    15984\n",
            "591    15640\n",
            "559    14963\n",
            "570    14597\n"
          ]
        }
      ]
    },
    {
      "cell_type": "markdown",
      "source": [
        "**Visor para ver los datos por paciente y rango de fechas**"
      ],
      "metadata": {
        "id": "mX9v54BlnvLk"
      }
    },
    {
      "cell_type": "code",
      "source": [
        "from matplotlib.lines import Line2D\n",
        "start_date = \"2021-11-22\" # @param {type:\"date\"}\n",
        "end_date = \"2021-11-22\" # @param {type:\"date\"}\n",
        "patient_id = \"575\" # @param [\"559\", \"563\", \"570\", \"575\", \"588\", \"591\"]\n",
        "\n",
        "interval_data = df_all.loc[(df_all['timestamp'] >= datetime.strptime(start_date,'%Y-%m-%d')) & (df_all['timestamp'].dt.date <= datetime.strptime(end_date,'%Y-%m-%d').date()) & (df_all['patient'] == int(patient_id))]\n",
        "\n",
        "fig, ax1 = plt.subplots(figsize=(15, 6))\n",
        "\n",
        "glucose_line, = ax1.plot(interval_data['timestamp'], interval_data['glucose'], color='b', label='Glucosa')\n",
        "ax1.set_xlabel('Tiempo')\n",
        "ax1.set_ylabel('Glucosa', color='b')\n",
        "ax1.tick_params('y', colors='b')\n",
        "ax1.set_title('Niveles de glucosa')\n",
        "ax1.axhline(70, color='red', linewidth=0.8, linestyle='--')\n",
        "\n",
        "for ts, insulin, cho in zip(interval_data['timestamp'], interval_data['total_bolus'], interval_data['cho']):\n",
        "    if insulin != 0:\n",
        "        ax1.plot(ts, insulin, 'o', color='orange')\n",
        "    if cho != 0:\n",
        "        ax1.plot(ts, cho, 'o', color='green')\n",
        "\n",
        "legend_elements = [glucose_line,\n",
        "                   Line2D([0], [0], marker='o', color='w', markerfacecolor='orange', markersize=10, label='Insulina'),\n",
        "                   Line2D([0], [0], marker='o', color='w', markerfacecolor='green', markersize=10, label='CHO')]\n",
        "\n",
        "ax1.legend(handles=legend_elements, loc=\"upper left\")\n",
        "\n",
        "fig.tight_layout()\n",
        "plt.xticks(rotation=45)\n",
        "plt.grid(True)\n",
        "plt.show()\n"
      ],
      "metadata": {
        "id": "ebwULYGYV9o3",
        "colab": {
          "base_uri": "https://localhost:8080/",
          "height": 618
        },
        "outputId": "42595ad9-34dc-4a95-afa0-7021806c1a70",
        "cellView": "form"
      },
      "execution_count": 8,
      "outputs": [
        {
          "output_type": "display_data",
          "data": {
            "text/plain": [
              "<Figure size 1500x600 with 1 Axes>"
            ],
            "image/png": "[encoded data removed]"
          },
          "metadata": {}
        }
      ]
    },
    {
      "cell_type": "markdown",
      "source": [
        "Registros de comidas por paciente"
      ],
      "metadata": {
        "id": "jtQVOelGpDcu"
      }
    },
    {
      "cell_type": "code",
      "source": [
        "cho_counts = df_all[df_all['cho'] != 0].groupby(['patient']).size()\n",
        "cho_counts"
      ],
      "metadata": {
        "id": "FKvxD3cHfCVi",
        "colab": {
          "base_uri": "https://localhost:8080/"
        },
        "outputId": "17d370d8-5124-4431-a323-a581cfef4579"
      },
      "execution_count": 9,
      "outputs": [
        {
          "output_type": "execute_result",
          "data": {
            "text/plain": [
              "patient\n",
              "559    208\n",
              "563    242\n",
              "570    174\n",
              "575    295\n",
              "588    272\n",
              "591    266\n",
              "dtype: int64"
            ]
          },
          "metadata": {},
          "execution_count": 9
        }
      ]
    },
    {
      "cell_type": "markdown",
      "source": [
        "Valores de glucosa por debajo de 54 (hipoglicemia nivel 2)."
      ],
      "metadata": {
        "id": "8Okc6xmNB_SE"
      }
    },
    {
      "cell_type": "code",
      "source": [
        "df_all[df_all['glucose'] < 54].groupby(['patient']).size()"
      ],
      "metadata": {
        "id": "w-YKmnfRAthp",
        "colab": {
          "base_uri": "https://localhost:8080/"
        },
        "outputId": "c94eb576-9260-457b-e509-b4c707c2db8f"
      },
      "execution_count": 10,
      "outputs": [
        {
          "output_type": "execute_result",
          "data": {
            "text/plain": [
              "patient\n",
              "559    103\n",
              "563     35\n",
              "570     14\n",
              "575    292\n",
              "588     25\n",
              "591    133\n",
              "dtype: int64"
            ]
          },
          "metadata": {},
          "execution_count": 10
        }
      ]
    },
    {
      "cell_type": "markdown",
      "source": [
        "Totales comidas por tipo. En las de tipo 0 (desconocido) se podría intentar reasignar el valor basándose en la hora."
      ],
      "metadata": {
        "id": "FSwvllowH9x4"
      }
    },
    {
      "cell_type": "code",
      "source": [
        "print('Total de registros por paciente y tipo de comida:')\n",
        "df_all[df_all['cho'] != 0].groupby(['patient','meal']).size()"
      ],
      "metadata": {
        "id": "BgZqUAqdUyc_",
        "colab": {
          "base_uri": "https://localhost:8080/"
        },
        "outputId": "bfd8dcc4-035c-4046-b07c-0aa6c6fbb0a8"
      },
      "execution_count": 11,
      "outputs": [
        {
          "output_type": "stream",
          "name": "stdout",
          "text": [
            "Total de registros por paciente y tipo de comida:\n"
          ]
        },
        {
          "output_type": "execute_result",
          "data": {
            "text/plain": [
              "patient  meal\n",
              "559      0       32\n",
              "         1       51\n",
              "         2       44\n",
              "         3       46\n",
              "         4       28\n",
              "         5        7\n",
              "563      0       87\n",
              "         1       49\n",
              "         2       49\n",
              "         3       46\n",
              "         4        3\n",
              "         5        8\n",
              "570      0        7\n",
              "         1       47\n",
              "         2       38\n",
              "         3       49\n",
              "         4       32\n",
              "         5        1\n",
              "575      0       15\n",
              "         1       49\n",
              "         2       47\n",
              "         3       56\n",
              "         4       90\n",
              "         5       38\n",
              "588      0       18\n",
              "         1       55\n",
              "         2       57\n",
              "         3       55\n",
              "         4       74\n",
              "         5       13\n",
              "591      0       20\n",
              "         1       58\n",
              "         2       53\n",
              "         3       51\n",
              "         4       77\n",
              "         5        7\n",
              "dtype: int64"
            ]
          },
          "metadata": {},
          "execution_count": 11
        }
      ]
    },
    {
      "cell_type": "markdown",
      "source": [
        "Obtenemos todos los registros que pertenecen a comidas, excluyendo las de tipo 5"
      ],
      "metadata": {
        "id": "M2fMpX3R39-h"
      }
    },
    {
      "cell_type": "code",
      "source": [
        "def get_meals(df):\n",
        "  df_meal = df[(df['cho'] != 0) & (df['meal'] != 5)]\n",
        "  return df_meal\n",
        "\n",
        "cho_meal_df = get_meals(df_all)"
      ],
      "metadata": {
        "id": "IaV04HYnCF4X"
      },
      "execution_count": 12,
      "outputs": []
    },
    {
      "cell_type": "markdown",
      "source": [
        "Añadimos la columna next_meal_postprandial_timestamp, que indica el momento en que ha habido una nueva ingesta de comida en el periodo postprandial"
      ],
      "metadata": {
        "id": "Ug9hnnPdqWvR"
      }
    },
    {
      "cell_type": "code",
      "source": [
        "def calculate_next_meal_postprandial_timestamp(df,row):\n",
        "    postprandial_period = pd.Timedelta(hours=4)\n",
        "    meal_time = row['timestamp']\n",
        "    patient = row['patient']\n",
        "    future_meals = df[(df['timestamp'] > meal_time) & (df['timestamp'] <= meal_time + postprandial_period) & (df['patient'] == patient) & (df['cho'] != 0)]\n",
        "    timestamp = future_meals['timestamp'].min()\n",
        "    return timestamp\n",
        "\n",
        "cho_meal_df['next_meal_postprandial_timestamp'] = cho_meal_df.apply(lambda row: calculate_next_meal_postprandial_timestamp(df_all, row), axis=1)"
      ],
      "metadata": {
        "id": "nrQ9QeC1CJts",
        "colab": {
          "base_uri": "https://localhost:8080/"
        },
        "outputId": "0e7aa371-bdc6-4135-8124-edff95d22872"
      },
      "execution_count": 13,
      "outputs": [
        {
          "output_type": "stream",
          "name": "stderr",
          "text": [
            "<ipython-input-13-77ea531cadb7>:9: SettingWithCopyWarning: \n",
            "A value is trying to be set on a copy of a slice from a DataFrame.\n",
            "Try using .loc[row_indexer,col_indexer] = value instead\n",
            "\n",
            "See the caveats in the documentation: https://pandas.pydata.org/pandas-docs/stable/user_guide/indexing.html#returning-a-view-versus-a-copy\n",
            "  cho_meal_df['next_meal_postprandial_timestamp'] = cho_meal_df.apply(lambda row: calculate_next_meal_postprandial_timestamp(df_all, row), axis=1)\n"
          ]
        }
      ]
    },
    {
      "cell_type": "markdown",
      "source": [
        "Calcula la hora en que empieza una hipoglicemia postprandial caso que exista"
      ],
      "metadata": {
        "id": "7ECimbUkMotD"
      }
    },
    {
      "cell_type": "code",
      "source": [
        "def calculate_hypoglycemia_event(df,row):\n",
        "    postprandial_period = pd.Timedelta(hours=4)\n",
        "    meal_time = row['timestamp']\n",
        "    patient = row['patient']\n",
        "    future_meals = df[(df['timestamp'] > meal_time) & (df['timestamp'] <= meal_time + postprandial_period) & (df['patient'] == patient) & (df['cho'] != 0)]\n",
        "    end_time = meal_time + postprandial_period\n",
        "    period_df = df[(df['timestamp'] >= meal_time) & (df['timestamp'] <= end_time) & (df['patient'] == patient)]\n",
        "    period_hypo = period_df[period_df['glucose'] < 70]\n",
        "    period_hypo = period_hypo.sort_values('timestamp')\n",
        "    count = 0\n",
        "    start_time = None\n",
        "    for i in range(len(period_hypo)):\n",
        "        if i == 0:\n",
        "            count = 1\n",
        "            start_time = period_hypo.iloc[i]['timestamp']\n",
        "        else:\n",
        "          time_diff = (period_hypo.iloc[i]['timestamp'] - period_hypo.iloc[i-1]['timestamp']) / pd.Timedelta(minutes=1)\n",
        "          if time_diff == 5:\n",
        "              count += 1\n",
        "          else:\n",
        "              count = 1\n",
        "              start_time = period_hypo.iloc[i]['timestamp']\n",
        "          if count >= 3:\n",
        "              return start_time\n",
        "    return None\n",
        "\n",
        "cho_meal_df['hypoglycemia_start_event'] = cho_meal_df.apply(lambda row: calculate_hypoglycemia_event(df_all, row), axis=1)"
      ],
      "metadata": {
        "id": "1B9TC6-PDPWu",
        "colab": {
          "base_uri": "https://localhost:8080/"
        },
        "outputId": "7d64e677-e00f-4412-da67-ca383b6b31a3"
      },
      "execution_count": 14,
      "outputs": [
        {
          "output_type": "stream",
          "name": "stderr",
          "text": [
            "<ipython-input-14-7999b82c5cb4>:27: SettingWithCopyWarning: \n",
            "A value is trying to be set on a copy of a slice from a DataFrame.\n",
            "Try using .loc[row_indexer,col_indexer] = value instead\n",
            "\n",
            "See the caveats in the documentation: https://pandas.pydata.org/pandas-docs/stable/user_guide/indexing.html#returning-a-view-versus-a-copy\n",
            "  cho_meal_df['hypoglycemia_start_event'] = cho_meal_df.apply(lambda row: calculate_hypoglycemia_event(df_all, row), axis=1)\n"
          ]
        }
      ]
    },
    {
      "cell_type": "markdown",
      "source": [
        "Calcula la hora en que empieza una hipoglicemia severa postprandial en caso que exista"
      ],
      "metadata": {
        "id": "19w5vPVzM1DB"
      }
    },
    {
      "cell_type": "code",
      "source": [
        "def calculate_severe_hypoglycemia_event(df,row):\n",
        "    postprandial_period = pd.Timedelta(hours=4)\n",
        "    meal_time = row['timestamp']\n",
        "    patient = row['patient']\n",
        "    future_meals = df[(df['timestamp'] > meal_time) & (df['timestamp'] <= meal_time + postprandial_period) & (df['patient'] == patient) & (df['cho'] != 0)]\n",
        "    end_time = meal_time + postprandial_period\n",
        "    period_df = df[(df['timestamp'] >= meal_time) & (df['timestamp'] <= end_time) & (df['patient'] == patient)]\n",
        "    period_hypo = period_df[period_df['glucose'] < 54]\n",
        "    period_hypo = period_hypo.sort_values('timestamp')\n",
        "    count = 0\n",
        "    start_time = None\n",
        "    for i in range(len(period_hypo)):\n",
        "        if i == 0:\n",
        "            count = 1\n",
        "            start_time = period_hypo.iloc[i]['timestamp']\n",
        "        else:\n",
        "          time_diff = (period_hypo.iloc[i]['timestamp'] - period_hypo.iloc[i-1]['timestamp']) / pd.Timedelta(minutes=1)\n",
        "          if time_diff == 5:\n",
        "              count += 1\n",
        "          else:\n",
        "              count = 1\n",
        "              start_time = period_hypo.iloc[i]['timestamp']\n",
        "          if count >= 3:\n",
        "              return start_time\n",
        "    return None\n",
        "\n",
        "cho_meal_df['severe_hypoglycemia_start_event'] = cho_meal_df.apply(lambda row: calculate_severe_hypoglycemia_event(df_all, row), axis=1)"
      ],
      "metadata": {
        "id": "FR3JxhTETy_S",
        "colab": {
          "base_uri": "https://localhost:8080/"
        },
        "outputId": "bf6db1df-f8b1-4977-8233-227556a4701a"
      },
      "execution_count": 15,
      "outputs": [
        {
          "output_type": "stream",
          "name": "stderr",
          "text": [
            "<ipython-input-15-5c05ead30809>:27: SettingWithCopyWarning: \n",
            "A value is trying to be set on a copy of a slice from a DataFrame.\n",
            "Try using .loc[row_indexer,col_indexer] = value instead\n",
            "\n",
            "See the caveats in the documentation: https://pandas.pydata.org/pandas-docs/stable/user_guide/indexing.html#returning-a-view-versus-a-copy\n",
            "  cho_meal_df['severe_hypoglycemia_start_event'] = cho_meal_df.apply(lambda row: calculate_severe_hypoglycemia_event(df_all, row), axis=1)\n"
          ]
        }
      ]
    },
    {
      "cell_type": "markdown",
      "source": [
        "Calcula el momento en que se da una hiperglicemia"
      ],
      "metadata": {
        "id": "H2F4yZqqPoAj"
      }
    },
    {
      "cell_type": "code",
      "source": [
        "def calculate_hyperglycemia_event(df,row):\n",
        "    postprandial_period = pd.Timedelta(hours=4)\n",
        "    meal_time = row['timestamp']\n",
        "    patient = row['patient']\n",
        "    future_meals = df[(df['timestamp'] > meal_time) & (df['timestamp'] <= meal_time + postprandial_period) & (df['patient'] == patient) & (df['cho'] != 0)]\n",
        "    end_time = meal_time + postprandial_period\n",
        "    period_df = df[(df['timestamp'] >= meal_time) & (df['timestamp'] <= end_time) & (df['patient'] == patient)]\n",
        "    period_hyper = period_df[period_df['glucose'] > 180]\n",
        "    period_hyper = period_hyper.sort_values('timestamp')\n",
        "    count = 0\n",
        "    start_time = None\n",
        "    for i in range(len(period_hyper)):\n",
        "        if i == 0:\n",
        "            count = 1\n",
        "            start_time = period_hyper.iloc[i]['timestamp']\n",
        "        else:\n",
        "          time_diff = (period_hyper.iloc[i]['timestamp'] - period_hyper.iloc[i-1]['timestamp']) / pd.Timedelta(minutes=1)\n",
        "          if time_diff == 5:\n",
        "              count += 1\n",
        "          else:\n",
        "              count = 1\n",
        "              start_time = period_hyper.iloc[i]['timestamp']\n",
        "          if count >= 3:\n",
        "              return start_time\n",
        "    return None\n",
        "\n",
        "cho_meal_df['hyperglycemia_start_event'] = cho_meal_df.apply(lambda row: calculate_hyperglycemia_event(df_all, row), axis=1)\n",
        "\n",
        "cho_meal_df['hyperglycemia'] = cho_meal_df['hyperglycemia_start_event'].apply(lambda x: 0 if pd.isnull(x) else 1)"
      ],
      "metadata": {
        "id": "mhV2L4pu8vTV",
        "colab": {
          "base_uri": "https://localhost:8080/"
        },
        "outputId": "27cc925e-02e5-4e01-8e03-15e2916663ad"
      },
      "execution_count": 17,
      "outputs": [
        {
          "output_type": "stream",
          "name": "stderr",
          "text": [
            "<ipython-input-17-ad362d57b8de>:27: SettingWithCopyWarning: \n",
            "A value is trying to be set on a copy of a slice from a DataFrame.\n",
            "Try using .loc[row_indexer,col_indexer] = value instead\n",
            "\n",
            "See the caveats in the documentation: https://pandas.pydata.org/pandas-docs/stable/user_guide/indexing.html#returning-a-view-versus-a-copy\n",
            "  cho_meal_df['hyperglycemia_start_event'] = cho_meal_df.apply(lambda row: calculate_hyperglycemia_event(df_all, row), axis=1)\n",
            "<ipython-input-17-ad362d57b8de>:29: SettingWithCopyWarning: \n",
            "A value is trying to be set on a copy of a slice from a DataFrame.\n",
            "Try using .loc[row_indexer,col_indexer] = value instead\n",
            "\n",
            "See the caveats in the documentation: https://pandas.pydata.org/pandas-docs/stable/user_guide/indexing.html#returning-a-view-versus-a-copy\n",
            "  cho_meal_df['hyperglycemia'] = cho_meal_df['hyperglycemia_start_event'].apply(lambda x: 0 if pd.isnull(x) else 1)\n"
          ]
        }
      ]
    },
    {
      "cell_type": "code",
      "source": [
        "# # Añadimos la columna hypoglycemia, hypoglycemia_sever y hypoglycemia_multiclass\n",
        "cho_meal_df['hypoglycemia'] = cho_meal_df['hypoglycemia_start_event'].apply(lambda x: 0 if pd.isnull(x) else 1)\n",
        "cho_meal_df['hypoglycemia_severe'] = cho_meal_df['severe_hypoglycemia_start_event'].apply(lambda x: 0 if pd.isnull(x) else 1)\n",
        "cho_meal_df['hypoglycemia_multiclass'] = cho_meal_df.apply(\n",
        "    lambda row: 0 if pd.isnull(row['hypoglycemia_start_event'])\n",
        "                else (2 if not pd.isnull(row['severe_hypoglycemia_start_event'])\n",
        "                else 1),\n",
        "    axis=1\n",
        ")"
      ],
      "metadata": {
        "id": "ojjhw_G2wXPf",
        "colab": {
          "base_uri": "https://localhost:8080/"
        },
        "outputId": "52f6d4e2-c176-4ce0-dc22-a2948bb72533"
      },
      "execution_count": 18,
      "outputs": [
        {
          "output_type": "stream",
          "name": "stderr",
          "text": [
            "<ipython-input-18-ad25675d2070>:2: SettingWithCopyWarning: \n",
            "A value is trying to be set on a copy of a slice from a DataFrame.\n",
            "Try using .loc[row_indexer,col_indexer] = value instead\n",
            "\n",
            "See the caveats in the documentation: https://pandas.pydata.org/pandas-docs/stable/user_guide/indexing.html#returning-a-view-versus-a-copy\n",
            "  cho_meal_df['hypoglycemia'] = cho_meal_df['hypoglycemia_start_event'].apply(lambda x: 0 if pd.isnull(x) else 1)\n",
            "<ipython-input-18-ad25675d2070>:3: SettingWithCopyWarning: \n",
            "A value is trying to be set on a copy of a slice from a DataFrame.\n",
            "Try using .loc[row_indexer,col_indexer] = value instead\n",
            "\n",
            "See the caveats in the documentation: https://pandas.pydata.org/pandas-docs/stable/user_guide/indexing.html#returning-a-view-versus-a-copy\n",
            "  cho_meal_df['hypoglycemia_severe'] = cho_meal_df['severe_hypoglycemia_start_event'].apply(lambda x: 0 if pd.isnull(x) else 1)\n",
            "<ipython-input-18-ad25675d2070>:4: SettingWithCopyWarning: \n",
            "A value is trying to be set on a copy of a slice from a DataFrame.\n",
            "Try using .loc[row_indexer,col_indexer] = value instead\n",
            "\n",
            "See the caveats in the documentation: https://pandas.pydata.org/pandas-docs/stable/user_guide/indexing.html#returning-a-view-versus-a-copy\n",
            "  cho_meal_df['hypoglycemia_multiclass'] = cho_meal_df.apply(\n"
          ]
        }
      ]
    },
    {
      "cell_type": "code",
      "source": [
        "# Añade una columna que indica la insulina inyectada durante el periodo postprandial, más allá de la inyectada justo después de la ingestión,\n",
        "# excluimos la total squared suministrada en el momento de la ingesta\n",
        "def calculate_extra_insulin_postprandial_timestamp(row, df):\n",
        "    current_time = row['timestamp']\n",
        "    init_period = current_time + pd.Timedelta(minutes=35)\n",
        "    end_period = current_time + pd.Timedelta(minutes=240)\n",
        "    extra_insulin_postprandial_timestamp = df.loc[(df['timestamp'] > init_period) & (df['timestamp'] <= end_period) & (df['total_bolus'] != 0) & (df['patient'] == row['patient']), 'timestamp'].min()\n",
        "    return extra_insulin_postprandial_timestamp\n",
        "\n",
        "cho_meal_df['extra_insulin_postprandial_timestamp'] = cho_meal_df.apply(lambda row: calculate_extra_insulin_postprandial_timestamp(row,df_all), axis = 1)\n"
      ],
      "metadata": {
        "id": "zROBqxCmt6zH",
        "colab": {
          "base_uri": "https://localhost:8080/"
        },
        "outputId": "8bfe063a-9092-40a1-85bd-73b3bde8b29d"
      },
      "execution_count": 19,
      "outputs": [
        {
          "output_type": "stream",
          "name": "stderr",
          "text": [
            "<ipython-input-19-8dcc4750acc3>:10: SettingWithCopyWarning: \n",
            "A value is trying to be set on a copy of a slice from a DataFrame.\n",
            "Try using .loc[row_indexer,col_indexer] = value instead\n",
            "\n",
            "See the caveats in the documentation: https://pandas.pydata.org/pandas-docs/stable/user_guide/indexing.html#returning-a-view-versus-a-copy\n",
            "  cho_meal_df['extra_insulin_postprandial_timestamp'] = cho_meal_df.apply(lambda row: calculate_extra_insulin_postprandial_timestamp(row,df_all), axis = 1)\n"
          ]
        }
      ]
    },
    {
      "cell_type": "code",
      "source": [
        "#Consideramos inválidos, las comidas en que existe una comida antes de las 4 horas o una dosis extra de insulina, siempre que no haya ocurrida una hipoglucemia previamente\n",
        "def calculate_valid_hypoglycemia_meal(row):\n",
        "    # print(row.name)\n",
        "    valid = False\n",
        "    hypoglycemia_start_event = row['hypoglycemia_start_event']\n",
        "    next_meal_postprandial_timestamp = row['next_meal_postprandial_timestamp']\n",
        "    extra_insulin_postprandial_timestamp = row['extra_insulin_postprandial_timestamp']\n",
        "    #Si no hay hipoglucemia, y hay una comida extra en el periodo postprandial, no es valido\n",
        "    #Si hay hipoglucemia, y hay una comida extra o una dosi extra de insulina antes del momento de la hipoglucemia, no es valido\n",
        "    exists_next_meal_postprandial = pd.notnull(next_meal_postprandial_timestamp)\n",
        "    exists_insulin_postprandial = pd.notnull(extra_insulin_postprandial_timestamp)\n",
        "    not_exists_next_meal_postprandial_before_hypoglycemia = (not exists_next_meal_postprandial) | ((exists_next_meal_postprandial) & (pd.notnull(hypoglycemia_start_event)) & (hypoglycemia_start_event >= next_meal_postprandial_timestamp))\n",
        "    not_exists_insulin_postprandial_before_hypoglycemia = (not exists_insulin_postprandial) | ((exists_insulin_postprandial) & (pd.notnull(hypoglycemia_start_event)) & (hypoglycemia_start_event >= extra_insulin_postprandial_timestamp))\n",
        "    if(((not exists_next_meal_postprandial) | (not not_exists_next_meal_postprandial_before_hypoglycemia)) & ((not exists_insulin_postprandial) & (not_exists_insulin_postprandial_before_hypoglycemia))):\n",
        "      valid = True\n",
        "    return valid\n",
        "\n",
        "cho_meal_df['valid_hypoglycemia'] = cho_meal_df.apply(lambda row: calculate_valid_hypoglycemia_meal(row), axis = 1)\n"
      ],
      "metadata": {
        "id": "guDcj_9Ua__d",
        "colab": {
          "base_uri": "https://localhost:8080/"
        },
        "outputId": "cbbc4086-9080-4159-d01f-a738d4071b6a"
      },
      "execution_count": 20,
      "outputs": [
        {
          "output_type": "stream",
          "name": "stderr",
          "text": [
            "<ipython-input-20-31e0a03eeeb9>:18: SettingWithCopyWarning: \n",
            "A value is trying to be set on a copy of a slice from a DataFrame.\n",
            "Try using .loc[row_indexer,col_indexer] = value instead\n",
            "\n",
            "See the caveats in the documentation: https://pandas.pydata.org/pandas-docs/stable/user_guide/indexing.html#returning-a-view-versus-a-copy\n",
            "  cho_meal_df['valid_hypoglycemia'] = cho_meal_df.apply(lambda row: calculate_valid_hypoglycemia_meal(row), axis = 1)\n"
          ]
        }
      ]
    },
    {
      "cell_type": "code",
      "source": [
        "cho_meal_df[cho_meal_df['valid_hypoglycemia']].groupby(['hypoglycemia_multiclass']).size()"
      ],
      "metadata": {
        "id": "JqlQhQ83bfwO",
        "colab": {
          "base_uri": "https://localhost:8080/"
        },
        "outputId": "2fb6b5a8-844a-4069-df03-2bd04cb58163"
      },
      "execution_count": 21,
      "outputs": [
        {
          "output_type": "execute_result",
          "data": {
            "text/plain": [
              "hypoglycemia_multiclass\n",
              "0    621\n",
              "1     83\n",
              "2     33\n",
              "dtype: int64"
            ]
          },
          "metadata": {},
          "execution_count": 21
        }
      ]
    },
    {
      "cell_type": "code",
      "source": [
        "#Consideramos inválidos, las comidas en que existe una comida antes de las 4 horas o una dosis extra de insulina, siempre que no haya ocurrido una hiperglucemia previamente\n",
        "def calculate_valid_hyperglycemia_meal(row):\n",
        "    valid = False\n",
        "    hyperglycemia_start_event = row['hyperglycemia_start_event']\n",
        "    next_meal_postprandial_timestamp = row['next_meal_postprandial_timestamp']\n",
        "    extra_insulin_postprandial_timestamp = row['extra_insulin_postprandial_timestamp']\n",
        "    #Si no hay hipoglucemia, y hay una comida extra en el periodo postprandial, no es valido\n",
        "    #Si hay hipoglucemia, y hay una comida extra o una dosi extra de insulina antes del momento de la hipoglucemia, no es valido\n",
        "    exists_next_meal_postprandial = pd.notnull(next_meal_postprandial_timestamp)\n",
        "    exists_insulin_postprandial = pd.notnull(extra_insulin_postprandial_timestamp)\n",
        "    not_exists_next_meal_postprandial_before_hyperglycemia = (not exists_next_meal_postprandial) | ((exists_next_meal_postprandial) & (pd.notnull(hyperglycemia_start_event)) & (hyperglycemia_start_event >= next_meal_postprandial_timestamp))\n",
        "    not_exists_insulin_postprandial_before_hyperglycemia = (not exists_insulin_postprandial) | ((exists_insulin_postprandial) & (pd.notnull(hyperglycemia_start_event)) & (hyperglycemia_start_event >= extra_insulin_postprandial_timestamp))\n",
        "    if((hyperglycemia_start_event != row['timestamp']) & ((not exists_next_meal_postprandial) | (not not_exists_next_meal_postprandial_before_hyperglycemia)) & ((not exists_insulin_postprandial) & (not_exists_insulin_postprandial_before_hyperglycemia))):\n",
        "      valid = True\n",
        "    return valid\n",
        "\n",
        "cho_meal_df['valid_hyperglycemia'] = cho_meal_df.apply(lambda row: calculate_valid_hyperglycemia_meal(row), axis = 1)"
      ],
      "metadata": {
        "id": "JqbzKTmUEV6C",
        "colab": {
          "base_uri": "https://localhost:8080/"
        },
        "outputId": "bf979688-97ed-41ce-b2b3-f6402bc2bd9b"
      },
      "execution_count": 22,
      "outputs": [
        {
          "output_type": "stream",
          "name": "stderr",
          "text": [
            "<ipython-input-22-9656298cdc1b>:17: SettingWithCopyWarning: \n",
            "A value is trying to be set on a copy of a slice from a DataFrame.\n",
            "Try using .loc[row_indexer,col_indexer] = value instead\n",
            "\n",
            "See the caveats in the documentation: https://pandas.pydata.org/pandas-docs/stable/user_guide/indexing.html#returning-a-view-versus-a-copy\n",
            "  cho_meal_df['valid_hyperglycemia'] = cho_meal_df.apply(lambda row: calculate_valid_hyperglycemia_meal(row), axis = 1)\n"
          ]
        }
      ]
    },
    {
      "cell_type": "markdown",
      "source": [
        "Comprovamos en que hora ocurren las hipoglucemias."
      ],
      "metadata": {
        "id": "86KhSf8im8C4"
      }
    },
    {
      "cell_type": "code",
      "source": [
        "def calculate_hypoglycemia_start_hour(row):\n",
        "    if pd.isnull(row['hypoglycemia_start_event']):\n",
        "        return np.nan\n",
        "    else:\n",
        "        time_diff = row['hypoglycemia_start_event'] - row['timestamp']\n",
        "        return ceil((row['hypoglycemia_start_event'] - row['timestamp']).seconds / 3600)\n",
        "\n",
        "cho_meal_df['hypoglycemia_start_hour'] = cho_meal_df.apply(calculate_hypoglycemia_start_hour, axis=1)\n",
        "print(cho_meal_df[(cho_meal_df['hypoglycemia'] != 0) & (pd.notna(cho_meal_df['hypoglycemia']))].groupby('hypoglycemia_start_hour').size())"
      ],
      "metadata": {
        "id": "NIJq5wn3ZaEo",
        "colab": {
          "base_uri": "https://localhost:8080/"
        },
        "outputId": "8e5a8f4f-1b59-4651-f7e0-66a8fd4ab5a0"
      },
      "execution_count": 23,
      "outputs": [
        {
          "output_type": "stream",
          "name": "stdout",
          "text": [
            "hypoglycemia_start_hour\n",
            "0.0    49\n",
            "1.0    34\n",
            "2.0    43\n",
            "3.0    55\n",
            "4.0    36\n",
            "dtype: int64\n"
          ]
        },
        {
          "output_type": "stream",
          "name": "stderr",
          "text": [
            "<ipython-input-23-81bc44c83f2a>:8: SettingWithCopyWarning: \n",
            "A value is trying to be set on a copy of a slice from a DataFrame.\n",
            "Try using .loc[row_indexer,col_indexer] = value instead\n",
            "\n",
            "See the caveats in the documentation: https://pandas.pydata.org/pandas-docs/stable/user_guide/indexing.html#returning-a-view-versus-a-copy\n",
            "  cho_meal_df['hypoglycemia_start_hour'] = cho_meal_df.apply(calculate_hypoglycemia_start_hour, axis=1)\n"
          ]
        }
      ]
    },
    {
      "cell_type": "code",
      "source": [
        "total_ingestas_cho = len(cho_meal_df)\n",
        "total_ingestas_cho_sin_nueva_ingesta_4h = len(cho_meal_df[cho_meal_df['valid_hypoglycemia']]) #válidas\n",
        "total_ingestas_validas_sin_hypo = len(cho_meal_df[(cho_meal_df['hypoglycemia'] == 0) & (cho_meal_df['valid_hypoglycemia'])])\n",
        "total_ingestas_validas_con_hypo = len(cho_meal_df[(cho_meal_df['hypoglycemia'] == 1) & (cho_meal_df['valid_hypoglycemia'])])\n",
        "total_ingestas_validas_con_hypo_test = len(cho_meal_df[(cho_meal_df['hypoglycemia'] == 1) & (cho_meal_df['valid_hypoglycemia']) & (cho_meal_df['group'] == 'test')])\n",
        "total_ingestas_validas_con_hypo_severa = len(cho_meal_df[(cho_meal_df['hypoglycemia_severe'] == 1) & (cho_meal_df['valid_hypoglycemia'])])\n",
        "total_ingestas_validas_con_hypo_severa_test = len(cho_meal_df[(cho_meal_df['hypoglycemia_severe'] == 1) & (cho_meal_df['valid_hypoglycemia']) & (cho_meal_df['group'] == 'test')])\n",
        "print(\"Total ingestas CHO: \" + str(total_ingestas_cho))\n",
        "print(\"Total ingestas CHO sin ingesta en 4h: \" + str(total_ingestas_cho_sin_nueva_ingesta_4h))\n",
        "print(\"Total ingestas CHO válidas sin hypo: \" + str(total_ingestas_validas_sin_hypo))\n",
        "print(\"Total ingestas CHO válidas con hypo: \" + str(total_ingestas_validas_con_hypo))\n",
        "print(\"Total ingestas CHO válidas con hypo test: \" + str(total_ingestas_validas_con_hypo_test))\n",
        "print(\"Total ingestas CHO válidas con hypo severa: \" + str(total_ingestas_validas_con_hypo_severa))\n",
        "print(\"Total ingestas CHO válidas con hypo severa test: \" + str(total_ingestas_validas_con_hypo_severa_test))\n"
      ],
      "metadata": {
        "id": "0pwni-NMuMKf",
        "colab": {
          "base_uri": "https://localhost:8080/"
        },
        "outputId": "e314a8b9-d033-4a4c-a578-2cdd9843f61f"
      },
      "execution_count": 24,
      "outputs": [
        {
          "output_type": "stream",
          "name": "stdout",
          "text": [
            "Total ingestas CHO: 1383\n",
            "Total ingestas CHO sin ingesta en 4h: 737\n",
            "Total ingestas CHO válidas sin hypo: 621\n",
            "Total ingestas CHO válidas con hypo: 116\n",
            "Total ingestas CHO válidas con hypo test: 14\n",
            "Total ingestas CHO válidas con hypo severa: 33\n",
            "Total ingestas CHO válidas con hypo severa test: 6\n"
          ]
        }
      ]
    },
    {
      "cell_type": "markdown",
      "source": [
        "Registros válidos por paciente y hipoglicemia"
      ],
      "metadata": {
        "id": "kxSGfBWH0rIl"
      }
    },
    {
      "cell_type": "code",
      "source": [
        "print(cho_meal_df[(pd.notna(cho_meal_df['hypoglycemia'])) & (cho_meal_df['valid_hypoglycemia'])].groupby(['patient','hypoglycemia']).size())"
      ],
      "metadata": {
        "id": "7wPpynIi0RaG",
        "colab": {
          "base_uri": "https://localhost:8080/"
        },
        "outputId": "de91994d-faa6-4bef-ce2d-01a38e8eb377"
      },
      "execution_count": 25,
      "outputs": [
        {
          "output_type": "stream",
          "name": "stdout",
          "text": [
            "patient  hypoglycemia\n",
            "559      0               114\n",
            "         1                20\n",
            "563      0                58\n",
            "         1                10\n",
            "570      0                85\n",
            "         1                 9\n",
            "575      0               119\n",
            "         1                46\n",
            "588      0               152\n",
            "         1                 9\n",
            "591      0                93\n",
            "         1                22\n",
            "dtype: int64\n"
          ]
        }
      ]
    },
    {
      "cell_type": "markdown",
      "source": [
        "Añadimos características de los valores de glucosa a 30 minutos y 1 hora."
      ],
      "metadata": {
        "id": "yy_bkUjwE9xn"
      }
    },
    {
      "cell_type": "code",
      "source": [
        "def calculate_previous_minutes_glucose(row, df, minutes_before):\n",
        "    current_time = row['timestamp']\n",
        "    time_minutes_before = current_time - pd.Timedelta(minutes=minutes_before)\n",
        "    glucose_minutes_before = df.loc[(df['timestamp'] == time_minutes_before) & (df['patient'] == row['patient']), 'glucose']\n",
        "    if not glucose_minutes_before.empty:\n",
        "        glucose_minutes_before = glucose_minutes_before.values[0]\n",
        "    else:\n",
        "        glucose_minutes_before = np.nan\n",
        "    return glucose_minutes_before\n",
        "\n",
        "minutes_1h_before = 60\n",
        "cho_meal_df['glucose_1h'] = cho_meal_df.apply(lambda row: calculate_previous_minutes_glucose(row, df_all, minutes_1h_before), axis=1)\n",
        "\n",
        "minutes_30_before = 30\n",
        "cho_meal_df['glucose_30m'] = cho_meal_df.apply(lambda row: calculate_previous_minutes_glucose(row, df_all, minutes_30_before), axis=1)\n"
      ],
      "metadata": {
        "id": "SHWLTSxTTzyL",
        "colab": {
          "base_uri": "https://localhost:8080/"
        },
        "outputId": "53c825ad-1cfd-4885-d9fe-5aa59794a6fb"
      },
      "execution_count": 26,
      "outputs": [
        {
          "output_type": "stream",
          "name": "stderr",
          "text": [
            "<ipython-input-26-6c69bac45ad5>:12: SettingWithCopyWarning: \n",
            "A value is trying to be set on a copy of a slice from a DataFrame.\n",
            "Try using .loc[row_indexer,col_indexer] = value instead\n",
            "\n",
            "See the caveats in the documentation: https://pandas.pydata.org/pandas-docs/stable/user_guide/indexing.html#returning-a-view-versus-a-copy\n",
            "  cho_meal_df['glucose_1h'] = cho_meal_df.apply(lambda row: calculate_previous_minutes_glucose(row, df_all, minutes_1h_before), axis=1)\n",
            "<ipython-input-26-6c69bac45ad5>:15: SettingWithCopyWarning: \n",
            "A value is trying to be set on a copy of a slice from a DataFrame.\n",
            "Try using .loc[row_indexer,col_indexer] = value instead\n",
            "\n",
            "See the caveats in the documentation: https://pandas.pydata.org/pandas-docs/stable/user_guide/indexing.html#returning-a-view-versus-a-copy\n",
            "  cho_meal_df['glucose_30m'] = cho_meal_df.apply(lambda row: calculate_previous_minutes_glucose(row, df_all, minutes_30_before), axis=1)\n"
          ]
        }
      ]
    },
    {
      "cell_type": "markdown",
      "source": [
        "Calculamos la media de la glucosa en la última hora"
      ],
      "metadata": {
        "id": "BbDfr2JYOZnX"
      }
    },
    {
      "cell_type": "code",
      "source": [
        "def calculate_previous_minutes_mean_glucose(row, df, minutes_before):\n",
        "    current_time = row['timestamp']\n",
        "    time_minutes_before = current_time - pd.Timedelta(minutes=minutes_before)\n",
        "    glucose_minutes_before = df.loc[(df['timestamp'] >= time_minutes_before) & (df['timestamp'] < current_time) & (df['patient'] == row['patient']), 'glucose']\n",
        "    if not glucose_minutes_before.empty:\n",
        "        mean_glucose_minutes_before = glucose_minutes_before.mean()\n",
        "    else:\n",
        "        mean_glucose_minutes_before = np.nan\n",
        "    return mean_glucose_minutes_before\n",
        "\n",
        "cho_meal_df['mean_glucose_1h'] = cho_meal_df.apply(lambda row: calculate_previous_minutes_mean_glucose(row, df_all, 60), axis=1)"
      ],
      "metadata": {
        "id": "oYFl_WmDN2dV",
        "colab": {
          "base_uri": "https://localhost:8080/"
        },
        "outputId": "4a33fca0-a14e-4c8b-bf32-96ea3b81194f"
      },
      "execution_count": 27,
      "outputs": [
        {
          "output_type": "stream",
          "name": "stderr",
          "text": [
            "<ipython-input-27-7747bbfeba4d>:11: SettingWithCopyWarning: \n",
            "A value is trying to be set on a copy of a slice from a DataFrame.\n",
            "Try using .loc[row_indexer,col_indexer] = value instead\n",
            "\n",
            "See the caveats in the documentation: https://pandas.pydata.org/pandas-docs/stable/user_guide/indexing.html#returning-a-view-versus-a-copy\n",
            "  cho_meal_df['mean_glucose_1h'] = cho_meal_df.apply(lambda row: calculate_previous_minutes_mean_glucose(row, df_all, 60), axis=1)\n"
          ]
        }
      ]
    },
    {
      "cell_type": "markdown",
      "source": [
        "Calculamos el rango de la glucosa en una hora"
      ],
      "metadata": {
        "id": "c9X9WkUZOf7G"
      }
    },
    {
      "cell_type": "code",
      "source": [
        "def calculate_glucose_range(row, df):\n",
        "    current_time = row['timestamp']\n",
        "    current_glucose = row['glucose']\n",
        "    time_minutes_before = current_time - pd.Timedelta(minutes=60)\n",
        "    glucose_minutes_before = df.loc[(df['timestamp'] == time_minutes_before) & (df['patient'] == row['patient']), 'glucose']\n",
        "    if not glucose_minutes_before.empty:\n",
        "        glucose_range = abs(glucose_minutes_before.values[0] - current_glucose)\n",
        "    else:\n",
        "        glucose_range = np.nan\n",
        "    return glucose_range\n",
        "\n",
        "cho_meal_df['glucose_range'] = cho_meal_df.apply(lambda row: calculate_glucose_range(row, df_all), axis=1)"
      ],
      "metadata": {
        "id": "n7zzc75yVjZK",
        "colab": {
          "base_uri": "https://localhost:8080/"
        },
        "outputId": "94d7efc5-3af6-49ac-942f-b59b950985d7"
      },
      "execution_count": 28,
      "outputs": [
        {
          "output_type": "stream",
          "name": "stderr",
          "text": [
            "<ipython-input-28-aed689136734>:12: SettingWithCopyWarning: \n",
            "A value is trying to be set on a copy of a slice from a DataFrame.\n",
            "Try using .loc[row_indexer,col_indexer] = value instead\n",
            "\n",
            "See the caveats in the documentation: https://pandas.pydata.org/pandas-docs/stable/user_guide/indexing.html#returning-a-view-versus-a-copy\n",
            "  cho_meal_df['glucose_range'] = cho_meal_df.apply(lambda row: calculate_glucose_range(row, df_all), axis=1)\n"
          ]
        }
      ]
    },
    {
      "cell_type": "markdown",
      "source": [
        "Calculamos la tasa de ratio de la glucosa"
      ],
      "metadata": {
        "id": "wB052iDWOmKO"
      }
    },
    {
      "cell_type": "code",
      "source": [
        "def calculate_glucose_rate_change(row, df, minutes_before):\n",
        "    current_time = row['timestamp']\n",
        "    current_glucose = row['glucose']\n",
        "    time_minutes_before = current_time - pd.Timedelta(minutes=minutes_before)\n",
        "    glucose_minutes_before = df.loc[(df['timestamp'] == time_minutes_before) & (df['patient'] == row['patient']), 'glucose']\n",
        "    if not glucose_minutes_before.empty:\n",
        "        glucose_range = (glucose_minutes_before.values[0] - current_glucose) / minutes_before\n",
        "    else:\n",
        "        glucose_range = np.nan\n",
        "    return glucose_range\n",
        "\n",
        "cho_meal_df['glucose_rate_change'] = cho_meal_df.apply(lambda row: calculate_glucose_rate_change(row, df_all, 60), axis=1)"
      ],
      "metadata": {
        "id": "dY_5nu4HcE4a",
        "colab": {
          "base_uri": "https://localhost:8080/"
        },
        "outputId": "bbdaebdb-66cd-4d1b-99db-017964bd0933"
      },
      "execution_count": 30,
      "outputs": [
        {
          "output_type": "stream",
          "name": "stderr",
          "text": [
            "<ipython-input-30-3675f15829c4>:12: SettingWithCopyWarning: \n",
            "A value is trying to be set on a copy of a slice from a DataFrame.\n",
            "Try using .loc[row_indexer,col_indexer] = value instead\n",
            "\n",
            "See the caveats in the documentation: https://pandas.pydata.org/pandas-docs/stable/user_guide/indexing.html#returning-a-view-versus-a-copy\n",
            "  cho_meal_df['glucose_rate_change'] = cho_meal_df.apply(lambda row: calculate_glucose_rate_change(row, df_all, 60), axis=1)\n"
          ]
        }
      ]
    },
    {
      "cell_type": "markdown",
      "source": [
        "Cálculo de la columna next_iob, ya que la administración de insulina suele coincidir con la ingesta de comida, y el iob se actualiza en el siguiente registro (5 minutos)"
      ],
      "metadata": {
        "id": "aovQfSKkaKwU"
      }
    },
    {
      "cell_type": "code",
      "source": [
        "def calculate_next_iob(row, df):\n",
        "    current_time = row['timestamp']\n",
        "    next_time = current_time + pd.Timedelta(minutes=5)\n",
        "    next_iob = df.loc[(df['timestamp'] == next_time) & (df['patient'] == row['patient']), 'iob']\n",
        "    if not next_iob.empty:\n",
        "        next_iob = next_iob.values[0]\n",
        "    else:\n",
        "        next_iob = np.nan\n",
        "    return next_iob\n",
        "\n",
        "cho_meal_df['next_iob'] = cho_meal_df.apply(lambda row: calculate_next_iob(row,df_all), axis = 1)"
      ],
      "metadata": {
        "id": "7caQgoBi0PAl",
        "colab": {
          "base_uri": "https://localhost:8080/"
        },
        "outputId": "9991d4aa-597b-4a54-df5c-8767a45e64e2"
      },
      "execution_count": 31,
      "outputs": [
        {
          "output_type": "stream",
          "name": "stderr",
          "text": [
            "<ipython-input-31-5da8790f1657>:11: SettingWithCopyWarning: \n",
            "A value is trying to be set on a copy of a slice from a DataFrame.\n",
            "Try using .loc[row_indexer,col_indexer] = value instead\n",
            "\n",
            "See the caveats in the documentation: https://pandas.pydata.org/pandas-docs/stable/user_guide/indexing.html#returning-a-view-versus-a-copy\n",
            "  cho_meal_df['next_iob'] = cho_meal_df.apply(lambda row: calculate_next_iob(row,df_all), axis = 1)\n"
          ]
        }
      ]
    },
    {
      "cell_type": "markdown",
      "source": [
        "Cálculo de la nueva columna total_bolus_squared, que nos indica el total administrado de bolus squared en un periodo de 35 minutos posterior a la ingesta."
      ],
      "metadata": {
        "id": "L0jjPw14apJt"
      }
    },
    {
      "cell_type": "code",
      "source": [
        "def calculate_total_bolus_squared(row, df):\n",
        "    current_time = row['timestamp']\n",
        "    bolus_squared_period = current_time + pd.Timedelta(minutes=35)\n",
        "    next_iob = df.loc[(df['timestamp'] > current_time) & (df['timestamp'] <= bolus_squared_period) & (df['patient'] == row['patient']), 'bolus_squared']\n",
        "    if not next_iob.empty:\n",
        "        total_bolus_squared = sum(next_iob.values)\n",
        "    else:\n",
        "        total_bolus_squared = 0\n",
        "    return total_bolus_squared\n",
        "\n",
        "cho_meal_df['total_bolus_squared'] = cho_meal_df.apply(lambda row: calculate_total_bolus_squared(row,df_all), axis = 1)"
      ],
      "metadata": {
        "id": "qBlwe-0xahUf",
        "colab": {
          "base_uri": "https://localhost:8080/"
        },
        "outputId": "379ef21c-4988-4c4d-bb86-d051ad06aec8"
      },
      "execution_count": 32,
      "outputs": [
        {
          "output_type": "stream",
          "name": "stderr",
          "text": [
            "<ipython-input-32-03cce6c2f048>:11: SettingWithCopyWarning: \n",
            "A value is trying to be set on a copy of a slice from a DataFrame.\n",
            "Try using .loc[row_indexer,col_indexer] = value instead\n",
            "\n",
            "See the caveats in the documentation: https://pandas.pydata.org/pandas-docs/stable/user_guide/indexing.html#returning-a-view-versus-a-copy\n",
            "  cho_meal_df['total_bolus_squared'] = cho_meal_df.apply(lambda row: calculate_total_bolus_squared(row,df_all), axis = 1)\n"
          ]
        }
      ]
    },
    {
      "cell_type": "markdown",
      "source": [
        "Substituimos los valores de glucose por los de finger_stick, cuando no estén disponibles los de la glucosa GCM"
      ],
      "metadata": {
        "id": "A77jfxKpw19o"
      }
    },
    {
      "cell_type": "code",
      "source": [
        "cho_meal_df['glucose'] = cho_meal_df['glucose'].combine_first(cho_meal_df['finger_stick'])"
      ],
      "metadata": {
        "id": "CO1rlloqGYZm",
        "colab": {
          "base_uri": "https://localhost:8080/"
        },
        "outputId": "33213734-b80b-4792-eb74-d43867454418"
      },
      "execution_count": 33,
      "outputs": [
        {
          "output_type": "stream",
          "name": "stderr",
          "text": [
            "<ipython-input-33-4c4860f08d42>:1: SettingWithCopyWarning: \n",
            "A value is trying to be set on a copy of a slice from a DataFrame.\n",
            "Try using .loc[row_indexer,col_indexer] = value instead\n",
            "\n",
            "See the caveats in the documentation: https://pandas.pydata.org/pandas-docs/stable/user_guide/indexing.html#returning-a-view-versus-a-copy\n",
            "  cho_meal_df['glucose'] = cho_meal_df['glucose'].combine_first(cho_meal_df['finger_stick'])\n"
          ]
        }
      ]
    },
    {
      "cell_type": "code",
      "source": [
        "#Análisis de valores nullos\n",
        "cho_meal_df[cho_meal_df['valid_hypoglycemia'] == 1].isnull( ).sum().to_frame()"
      ],
      "metadata": {
        "id": "L2b1CApxcMBp",
        "colab": {
          "base_uri": "https://localhost:8080/",
          "height": 1000
        },
        "outputId": "31116f1e-978b-406d-e09a-dad5517fb700"
      },
      "execution_count": 36,
      "outputs": [
        {
          "output_type": "execute_result",
          "data": {
            "text/plain": [
              "                                        0\n",
              "year                                    0\n",
              "month                                   0\n",
              "day                                     0\n",
              "hour                                    0\n",
              "minute                                  0\n",
              "second                                  0\n",
              "glucose                                14\n",
              "finger_stick                          184\n",
              "basal                                   0\n",
              "temp_basal                              0\n",
              "basal_final                             0\n",
              "bolus_normal                            0\n",
              "bolus_squared                           0\n",
              "total_bolus                             0\n",
              "bwz_cho                                 0\n",
              "cho_original                            0\n",
              "meal_original                           0\n",
              "sleep                                   0\n",
              "work                                    0\n",
              "stressors                               0\n",
              "hypo_event                              0\n",
              "illness                                 0\n",
              "exercice                                0\n",
              "basis_heart_rate                        0\n",
              "basis_gsr                               0\n",
              "basis_skin_temperature                  0\n",
              "basis_air_temperature                   0\n",
              "basis_step                              0\n",
              "basis_sleep                             0\n",
              "total_insulin                           0\n",
              "iob                                     0\n",
              "plasma_insulin                          0\n",
              "cho                                     0\n",
              "meal                                    0\n",
              "cob                                     0\n",
              "aob_3h                                  0\n",
              "aob_6h                                  0\n",
              "patient                                 0\n",
              "group                                   0\n",
              "timestamp                               0\n",
              "day_of_week                             0\n",
              "next_meal_postprandial_timestamp      595\n",
              "hypoglycemia_start_event              621\n",
              "severe_hypoglycemia_start_event       704\n",
              "hyperglycemia_start_event             292\n",
              "hyperglycemia                           0\n",
              "hypoglycemia                            0\n",
              "hypoglycemia_severe                     0\n",
              "hypoglycemia_multiclass                 0\n",
              "extra_insulin_postprandial_timestamp  737\n",
              "valid_hypoglycemia                      0\n",
              "valid_hyperglycemia                     0\n",
              "hypoglycemia_start_hour               621\n",
              "glucose_1h                             70\n",
              "glucose_30m                            68\n",
              "mean_glucose_1h                        47\n",
              "glucose_range                          97\n",
              "glucose_rate_change                    97\n",
              "next_iob                                0\n",
              "total_bolus_squared                     0"
            ],
            "text/html": [
              "\n",
              "  <div id=\"df-8713108c-cea6-4199-80a9-276cbb0dbf2d\" class=\"colab-df-container\">\n",
              "    <div>\n",
              "<style scoped>\n",
              "    .dataframe tbody tr th:only-of-type {\n",
              "        vertical-align: middle;\n",
              "    }\n",
              "\n",
              "    .dataframe tbody tr th {\n",
              "        vertical-align: top;\n",
              "    }\n",
              "\n",
              "    .dataframe thead th {\n",
              "        text-align: right;\n",
              "    }\n",
              "</style>\n",
              "<table border=\"1\" class=\"dataframe\">\n",
              "  <thead>\n",
              "    <tr style=\"text-align: right;\">\n",
              "      <th></th>\n",
              "      <th>0</th>\n",
              "    </tr>\n",
              "  </thead>\n",
              "  <tbody>\n",
              "    <tr>\n",
              "      <th>year</th>\n",
              "      <td>0</td>\n",
              "    </tr>\n",
              "    <tr>\n",
              "      <th>month</th>\n",
              "      <td>0</td>\n",
              "    </tr>\n",
              "    <tr>\n",
              "      <th>day</th>\n",
              "      <td>0</td>\n",
              "    </tr>\n",
              "    <tr>\n",
              "      <th>hour</th>\n",
              "      <td>0</td>\n",
              "    </tr>\n",
              "    <tr>\n",
              "      <th>minute</th>\n",
              "      <td>0</td>\n",
              "    </tr>\n",
              "    <tr>\n",
              "      <th>second</th>\n",
              "      <td>0</td>\n",
              "    </tr>\n",
              "    <tr>\n",
              "      <th>glucose</th>\n",
              "      <td>14</td>\n",
              "    </tr>\n",
              "    <tr>\n",
              "      <th>finger_stick</th>\n",
              "      <td>184</td>\n",
              "    </tr>\n",
              "    <tr>\n",
              "      <th>basal</th>\n",
              "      <td>0</td>\n",
              "    </tr>\n",
              "    <tr>\n",
              "      <th>temp_basal</th>\n",
              "      <td>0</td>\n",
              "    </tr>\n",
              "    <tr>\n",
              "      <th>basal_final</th>\n",
              "      <td>0</td>\n",
              "    </tr>\n",
              "    <tr>\n",
              "      <th>bolus_normal</th>\n",
              "      <td>0</td>\n",
              "    </tr>\n",
              "    <tr>\n",
              "      <th>bolus_squared</th>\n",
              "      <td>0</td>\n",
              "    </tr>\n",
              "    <tr>\n",
              "      <th>total_bolus</th>\n",
              "      <td>0</td>\n",
              "    </tr>\n",
              "    <tr>\n",
              "      <th>bwz_cho</th>\n",
              "      <td>0</td>\n",
              "    </tr>\n",
              "    <tr>\n",
              "      <th>cho_original</th>\n",
              "      <td>0</td>\n",
              "    </tr>\n",
              "    <tr>\n",
              "      <th>meal_original</th>\n",
              "      <td>0</td>\n",
              "    </tr>\n",
              "    <tr>\n",
              "      <th>sleep</th>\n",
              "      <td>0</td>\n",
              "    </tr>\n",
              "    <tr>\n",
              "      <th>work</th>\n",
              "      <td>0</td>\n",
              "    </tr>\n",
              "    <tr>\n",
              "      <th>stressors</th>\n",
              "      <td>0</td>\n",
              "    </tr>\n",
              "    <tr>\n",
              "      <th>hypo_event</th>\n",
              "      <td>0</td>\n",
              "    </tr>\n",
              "    <tr>\n",
              "      <th>illness</th>\n",
              "      <td>0</td>\n",
              "    </tr>\n",
              "    <tr>\n",
              "      <th>exercice</th>\n",
              "      <td>0</td>\n",
              "    </tr>\n",
              "    <tr>\n",
              "      <th>basis_heart_rate</th>\n",
              "      <td>0</td>\n",
              "    </tr>\n",
              "    <tr>\n",
              "      <th>basis_gsr</th>\n",
              "      <td>0</td>\n",
              "    </tr>\n",
              "    <tr>\n",
              "      <th>basis_skin_temperature</th>\n",
              "      <td>0</td>\n",
              "    </tr>\n",
              "    <tr>\n",
              "      <th>basis_air_temperature</th>\n",
              "      <td>0</td>\n",
              "    </tr>\n",
              "    <tr>\n",
              "      <th>basis_step</th>\n",
              "      <td>0</td>\n",
              "    </tr>\n",
              "    <tr>\n",
              "      <th>basis_sleep</th>\n",
              "      <td>0</td>\n",
              "    </tr>\n",
              "    <tr>\n",
              "      <th>total_insulin</th>\n",
              "      <td>0</td>\n",
              "    </tr>\n",
              "    <tr>\n",
              "      <th>iob</th>\n",
              "      <td>0</td>\n",
              "    </tr>\n",
              "    <tr>\n",
              "      <th>plasma_insulin</th>\n",
              "      <td>0</td>\n",
              "    </tr>\n",
              "    <tr>\n",
              "      <th>cho</th>\n",
              "      <td>0</td>\n",
              "    </tr>\n",
              "    <tr>\n",
              "      <th>meal</th>\n",
              "      <td>0</td>\n",
              "    </tr>\n",
              "    <tr>\n",
              "      <th>cob</th>\n",
              "      <td>0</td>\n",
              "    </tr>\n",
              "    <tr>\n",
              "      <th>aob_3h</th>\n",
              "      <td>0</td>\n",
              "    </tr>\n",
              "    <tr>\n",
              "      <th>aob_6h</th>\n",
              "      <td>0</td>\n",
              "    </tr>\n",
              "    <tr>\n",
              "      <th>patient</th>\n",
              "      <td>0</td>\n",
              "    </tr>\n",
              "    <tr>\n",
              "      <th>group</th>\n",
              "      <td>0</td>\n",
              "    </tr>\n",
              "    <tr>\n",
              "      <th>timestamp</th>\n",
              "      <td>0</td>\n",
              "    </tr>\n",
              "    <tr>\n",
              "      <th>day_of_week</th>\n",
              "      <td>0</td>\n",
              "    </tr>\n",
              "    <tr>\n",
              "      <th>next_meal_postprandial_timestamp</th>\n",
              "      <td>595</td>\n",
              "    </tr>\n",
              "    <tr>\n",
              "      <th>hypoglycemia_start_event</th>\n",
              "      <td>621</td>\n",
              "    </tr>\n",
              "    <tr>\n",
              "      <th>severe_hypoglycemia_start_event</th>\n",
              "      <td>704</td>\n",
              "    </tr>\n",
              "    <tr>\n",
              "      <th>hyperglycemia_start_event</th>\n",
              "      <td>292</td>\n",
              "    </tr>\n",
              "    <tr>\n",
              "      <th>hyperglycemia</th>\n",
              "      <td>0</td>\n",
              "    </tr>\n",
              "    <tr>\n",
              "      <th>hypoglycemia</th>\n",
              "      <td>0</td>\n",
              "    </tr>\n",
              "    <tr>\n",
              "      <th>hypoglycemia_severe</th>\n",
              "      <td>0</td>\n",
              "    </tr>\n",
              "    <tr>\n",
              "      <th>hypoglycemia_multiclass</th>\n",
              "      <td>0</td>\n",
              "    </tr>\n",
              "    <tr>\n",
              "      <th>extra_insulin_postprandial_timestamp</th>\n",
              "      <td>737</td>\n",
              "    </tr>\n",
              "    <tr>\n",
              "      <th>valid_hypoglycemia</th>\n",
              "      <td>0</td>\n",
              "    </tr>\n",
              "    <tr>\n",
              "      <th>valid_hyperglycemia</th>\n",
              "      <td>0</td>\n",
              "    </tr>\n",
              "    <tr>\n",
              "      <th>hypoglycemia_start_hour</th>\n",
              "      <td>621</td>\n",
              "    </tr>\n",
              "    <tr>\n",
              "      <th>glucose_1h</th>\n",
              "      <td>70</td>\n",
              "    </tr>\n",
              "    <tr>\n",
              "      <th>glucose_30m</th>\n",
              "      <td>68</td>\n",
              "    </tr>\n",
              "    <tr>\n",
              "      <th>mean_glucose_1h</th>\n",
              "      <td>47</td>\n",
              "    </tr>\n",
              "    <tr>\n",
              "      <th>glucose_range</th>\n",
              "      <td>97</td>\n",
              "    </tr>\n",
              "    <tr>\n",
              "      <th>glucose_rate_change</th>\n",
              "      <td>97</td>\n",
              "    </tr>\n",
              "    <tr>\n",
              "      <th>next_iob</th>\n",
              "      <td>0</td>\n",
              "    </tr>\n",
              "    <tr>\n",
              "      <th>total_bolus_squared</th>\n",
              "      <td>0</td>\n",
              "    </tr>\n",
              "  </tbody>\n",
              "</table>\n",
              "</div>\n",
              "    <div class=\"colab-df-buttons\">\n",
              "\n",
              "  <div class=\"colab-df-container\">\n",
              "    <button class=\"colab-df-convert\" onclick=\"convertToInteractive('df-8713108c-cea6-4199-80a9-276cbb0dbf2d')\"\n",
              "            title=\"Convert this dataframe to an interactive table.\"\n",
              "            style=\"display:none;\">\n",
              "\n",
              "  <svg xmlns=\"http://www.w3.org/2000/svg\" height=\"24px\" viewBox=\"0 -960 960 960\">\n",
              "    <path d=\"M120-120v-720h720v720H120Zm60-500h600v-160H180v160Zm220 220h160v-160H400v160Zm0 220h160v-160H400v160ZM180-400h160v-160H180v160Zm440 0h160v-160H620v160ZM180-180h160v-160H180v160Zm440 0h160v-160H620v160Z\"/>\n",
              "  </svg>\n",
              "    </button>\n",
              "\n",
              "  <style>\n",
              "    .colab-df-container {\n",
              "      display:flex;\n",
              "      gap: 12px;\n",
              "    }\n",
              "\n",
              "    .colab-df-convert {\n",
              "      background-color: #E8F0FE;\n",
              "      border: none;\n",
              "      border-radius: 50%;\n",
              "      cursor: pointer;\n",
              "      display: none;\n",
              "      fill: #1967D2;\n",
              "      height: 32px;\n",
              "      padding: 0 0 0 0;\n",
              "      width: 32px;\n",
              "    }\n",
              "\n",
              "    .colab-df-convert:hover {\n",
              "      background-color: #E2EBFA;\n",
              "      box-shadow: 0px 1px 2px rgba(60, 64, 67, 0.3), 0px 1px 3px 1px rgba(60, 64, 67, 0.15);\n",
              "      fill: #174EA6;\n",
              "    }\n",
              "\n",
              "    .colab-df-buttons div {\n",
              "      margin-bottom: 4px;\n",
              "    }\n",
              "\n",
              "    [theme=dark] .colab-df-convert {\n",
              "      background-color: #3B4455;\n",
              "      fill: #D2E3FC;\n",
              "    }\n",
              "\n",
              "    [theme=dark] .colab-df-convert:hover {\n",
              "      background-color: #434B5C;\n",
              "      box-shadow: 0px 1px 3px 1px rgba(0, 0, 0, 0.15);\n",
              "      filter: drop-shadow(0px 1px 2px rgba(0, 0, 0, 0.3));\n",
              "      fill: #FFFFFF;\n",
              "    }\n",
              "  </style>\n",
              "\n",
              "    <script>\n",
              "      const buttonEl =\n",
              "        document.querySelector('#df-8713108c-cea6-4199-80a9-276cbb0dbf2d button.colab-df-convert');\n",
              "      buttonEl.style.display =\n",
              "        google.colab.kernel.accessAllowed ? 'block' : 'none';\n",
              "\n",
              "      async function convertToInteractive(key) {\n",
              "        const element = document.querySelector('#df-8713108c-cea6-4199-80a9-276cbb0dbf2d');\n",
              "        const dataTable =\n",
              "          await google.colab.kernel.invokeFunction('convertToInteractive',\n",
              "                                                    [key], {});\n",
              "        if (!dataTable) return;\n",
              "\n",
              "        const docLinkHtml = 'Like what you see? Visit the ' +\n",
              "          '<a target=\"_blank\" href=https://colab.research.google.com/notebooks/data_table.ipynb>data table notebook</a>'\n",
              "          + ' to learn more about interactive tables.';\n",
              "        element.innerHTML = '';\n",
              "        dataTable['output_type'] = 'display_data';\n",
              "        await google.colab.output.renderOutput(dataTable, element);\n",
              "        const docLink = document.createElement('div');\n",
              "        docLink.innerHTML = docLinkHtml;\n",
              "        element.appendChild(docLink);\n",
              "      }\n",
              "    </script>\n",
              "  </div>\n",
              "\n",
              "\n",
              "<div id=\"df-cd284205-b432-4656-88c9-6367a74baf28\">\n",
              "  <button class=\"colab-df-quickchart\" onclick=\"quickchart('df-cd284205-b432-4656-88c9-6367a74baf28')\"\n",
              "            title=\"Suggest charts\"\n",
              "            style=\"display:none;\">\n",
              "\n",
              "<svg xmlns=\"http://www.w3.org/2000/svg\" height=\"24px\"viewBox=\"0 0 24 24\"\n",
              "     width=\"24px\">\n",
              "    <g>\n",
              "        <path d=\"M19 3H5c-1.1 0-2 .9-2 2v14c0 1.1.9 2 2 2h14c1.1 0 2-.9 2-2V5c0-1.1-.9-2-2-2zM9 17H7v-7h2v7zm4 0h-2V7h2v10zm4 0h-2v-4h2v4z\"/>\n",
              "    </g>\n",
              "</svg>\n",
              "  </button>\n",
              "\n",
              "<style>\n",
              "  .colab-df-quickchart {\n",
              "      --bg-color: #E8F0FE;\n",
              "      --fill-color: #1967D2;\n",
              "      --hover-bg-color: #E2EBFA;\n",
              "      --hover-fill-color: #174EA6;\n",
              "      --disabled-fill-color: #AAA;\n",
              "      --disabled-bg-color: #DDD;\n",
              "  }\n",
              "\n",
              "  [theme=dark] .colab-df-quickchart {\n",
              "      --bg-color: #3B4455;\n",
              "      --fill-color: #D2E3FC;\n",
              "      --hover-bg-color: #434B5C;\n",
              "      --hover-fill-color: #FFFFFF;\n",
              "      --disabled-bg-color: #3B4455;\n",
              "      --disabled-fill-color: #666;\n",
              "  }\n",
              "\n",
              "  .colab-df-quickchart {\n",
              "    background-color: var(--bg-color);\n",
              "    border: none;\n",
              "    border-radius: 50%;\n",
              "    cursor: pointer;\n",
              "    display: none;\n",
              "    fill: var(--fill-color);\n",
              "    height: 32px;\n",
              "    padding: 0;\n",
              "    width: 32px;\n",
              "  }\n",
              "\n",
              "  .colab-df-quickchart:hover {\n",
              "    background-color: var(--hover-bg-color);\n",
              "    box-shadow: 0 1px 2px rgba(60, 64, 67, 0.3), 0 1px 3px 1px rgba(60, 64, 67, 0.15);\n",
              "    fill: var(--button-hover-fill-color);\n",
              "  }\n",
              "\n",
              "  .colab-df-quickchart-complete:disabled,\n",
              "  .colab-df-quickchart-complete:disabled:hover {\n",
              "    background-color: var(--disabled-bg-color);\n",
              "    fill: var(--disabled-fill-color);\n",
              "    box-shadow: none;\n",
              "  }\n",
              "\n",
              "  .colab-df-spinner {\n",
              "    border: 2px solid var(--fill-color);\n",
              "    border-color: transparent;\n",
              "    border-bottom-color: var(--fill-color);\n",
              "    animation:\n",
              "      spin 1s steps(1) infinite;\n",
              "  }\n",
              "\n",
              "  @keyframes spin {\n",
              "    0% {\n",
              "      border-color: transparent;\n",
              "      border-bottom-color: var(--fill-color);\n",
              "      border-left-color: var(--fill-color);\n",
              "    }\n",
              "    20% {\n",
              "      border-color: transparent;\n",
              "      border-left-color: var(--fill-color);\n",
              "      border-top-color: var(--fill-color);\n",
              "    }\n",
              "    30% {\n",
              "      border-color: transparent;\n",
              "      border-left-color: var(--fill-color);\n",
              "      border-top-color: var(--fill-color);\n",
              "      border-right-color: var(--fill-color);\n",
              "    }\n",
              "    40% {\n",
              "      border-color: transparent;\n",
              "      border-right-color: var(--fill-color);\n",
              "      border-top-color: var(--fill-color);\n",
              "    }\n",
              "    60% {\n",
              "      border-color: transparent;\n",
              "      border-right-color: var(--fill-color);\n",
              "    }\n",
              "    80% {\n",
              "      border-color: transparent;\n",
              "      border-right-color: var(--fill-color);\n",
              "      border-bottom-color: var(--fill-color);\n",
              "    }\n",
              "    90% {\n",
              "      border-color: transparent;\n",
              "      border-bottom-color: var(--fill-color);\n",
              "    }\n",
              "  }\n",
              "</style>\n",
              "\n",
              "  <script>\n",
              "    async function quickchart(key) {\n",
              "      const quickchartButtonEl =\n",
              "        document.querySelector('#' + key + ' button');\n",
              "      quickchartButtonEl.disabled = true;  // To prevent multiple clicks.\n",
              "      quickchartButtonEl.classList.add('colab-df-spinner');\n",
              "      try {\n",
              "        const charts = await google.colab.kernel.invokeFunction(\n",
              "            'suggestCharts', [key], {});\n",
              "      } catch (error) {\n",
              "        console.error('Error during call to suggestCharts:', error);\n",
              "      }\n",
              "      quickchartButtonEl.classList.remove('colab-df-spinner');\n",
              "      quickchartButtonEl.classList.add('colab-df-quickchart-complete');\n",
              "    }\n",
              "    (() => {\n",
              "      let quickchartButtonEl =\n",
              "        document.querySelector('#df-cd284205-b432-4656-88c9-6367a74baf28 button');\n",
              "      quickchartButtonEl.style.display =\n",
              "        google.colab.kernel.accessAllowed ? 'block' : 'none';\n",
              "    })();\n",
              "  </script>\n",
              "</div>\n",
              "    </div>\n",
              "  </div>\n"
            ]
          },
          "metadata": {},
          "execution_count": 36
        }
      ]
    },
    {
      "cell_type": "markdown",
      "source": [
        "Guardar archivo para entrenar los modelos de hipoglicemia"
      ],
      "metadata": {
        "id": "EzFF4b7U2CM-"
      }
    },
    {
      "cell_type": "code",
      "source": [
        "df_hypoglycemia_complete = cho_meal_df[cho_meal_df['valid_hypoglycemia']][['cho','meal','basal','total_bolus','bolus_normal','total_bolus_squared','glucose', 'glucose_range','glucose_rate_change','mean_glucose_1h' ,'glucose_1h','glucose_30m','iob', 'next_iob','cob','aob_3h','aob_6h','hour','day_of_week','hypoglycemia','hypoglycemia_severe','hypoglycemia_multiclass','group']]\n",
        "df_hypoglycemia_complete.to_csv('postprandial_hypoglycemias.csv', index=False)"
      ],
      "metadata": {
        "id": "adqG8o9zm1Jc"
      },
      "execution_count": 37,
      "outputs": []
    }
  ]
}